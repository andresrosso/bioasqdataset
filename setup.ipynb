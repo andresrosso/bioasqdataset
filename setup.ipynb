{
 "cells": [
  {
   "cell_type": "code",
   "execution_count": 6,
   "metadata": {},
   "outputs": [
    {
     "name": "stdout",
     "output_type": "stream",
     "text": [
      "Requirement already satisfied: bs4 in /home/aerossom/anaconda3/envs/pytorch/lib/python3.6/site-packages (0.0.1)\n",
      "Requirement already satisfied: beautifulsoup4 in /home/aerossom/anaconda3/envs/pytorch/lib/python3.6/site-packages (from bs4) (4.9.0)\n",
      "Requirement already satisfied: soupsieve>1.2 in /home/aerossom/anaconda3/envs/pytorch/lib/python3.6/site-packages (from beautifulsoup4->bs4) (2.0)\n",
      "Requirement already satisfied: spacy in /home/aerossom/.local/lib/python3.6/site-packages (2.0.12)\n",
      "Requirement already satisfied: thinc<6.11.0,>=6.10.3 in /home/aerossom/.local/lib/python3.6/site-packages (from spacy) (6.10.3)\n",
      "Requirement already satisfied: preshed<2.0.0,>=1.0.0 in /home/aerossom/.local/lib/python3.6/site-packages (from spacy) (1.0.1)\n",
      "Requirement already satisfied: dill<0.3,>=0.2 in /home/aerossom/anaconda3/envs/pytorch/lib/python3.6/site-packages (from spacy) (0.2.9)\n",
      "Requirement already satisfied: murmurhash<0.29,>=0.28 in /home/aerossom/.local/lib/python3.6/site-packages (from spacy) (0.28.0)\n",
      "Requirement already satisfied: regex==2017.4.5 in /home/aerossom/.local/lib/python3.6/site-packages (from spacy) (2017.4.5)\n",
      "Requirement already satisfied: requests<3.0.0,>=2.13.0 in /home/aerossom/anaconda3/envs/pytorch/lib/python3.6/site-packages (from spacy) (2.23.0)\n",
      "Requirement already satisfied: numpy>=1.7 in /home/aerossom/.local/lib/python3.6/site-packages (from spacy) (1.15.2)\n",
      "Requirement already satisfied: ujson>=1.35 in /home/aerossom/.local/lib/python3.6/site-packages (from spacy) (1.35)\n",
      "Requirement already satisfied: cymem<1.32,>=1.30 in /home/aerossom/.local/lib/python3.6/site-packages (from spacy) (1.31.2)\n",
      "Requirement already satisfied: plac<1.0.0,>=0.9.6 in /home/aerossom/.local/lib/python3.6/site-packages (from spacy) (0.9.6)\n",
      "Requirement already satisfied: tqdm<5.0.0,>=4.10.0 in /home/aerossom/anaconda3/envs/pytorch/lib/python3.6/site-packages (from thinc<6.11.0,>=6.10.3->spacy) (4.45.0)\n",
      "Requirement already satisfied: cytoolz<0.10,>=0.9.0 in /home/aerossom/.local/lib/python3.6/site-packages (from thinc<6.11.0,>=6.10.3->spacy) (0.9.0.1)\n",
      "Requirement already satisfied: six<2.0.0,>=1.10.0 in /home/aerossom/anaconda3/envs/pytorch/lib/python3.6/site-packages (from thinc<6.11.0,>=6.10.3->spacy) (1.14.0)\n",
      "Requirement already satisfied: wrapt<1.11.0,>=1.10.0 in /home/aerossom/.local/lib/python3.6/site-packages (from thinc<6.11.0,>=6.10.3->spacy) (1.10.11)\n",
      "Requirement already satisfied: msgpack<1.0.0,>=0.5.6 in /home/aerossom/.local/lib/python3.6/site-packages (from thinc<6.11.0,>=6.10.3->spacy) (0.5.6)\n",
      "Requirement already satisfied: msgpack-numpy<1.0.0,>=0.4.1 in /home/aerossom/.local/lib/python3.6/site-packages (from thinc<6.11.0,>=6.10.3->spacy) (0.4.4.1)\n",
      "Requirement already satisfied: urllib3!=1.25.0,!=1.25.1,<1.26,>=1.21.1 in /home/aerossom/.local/lib/python3.6/site-packages (from requests<3.0.0,>=2.13.0->spacy) (1.23)\n",
      "Requirement already satisfied: certifi>=2017.4.17 in /home/aerossom/.local/lib/python3.6/site-packages (from requests<3.0.0,>=2.13.0->spacy) (2018.8.24)\n",
      "Requirement already satisfied: idna<3,>=2.5 in /home/aerossom/.local/lib/python3.6/site-packages (from requests<3.0.0,>=2.13.0->spacy) (2.7)\n",
      "Requirement already satisfied: chardet<4,>=3.0.2 in /home/aerossom/.local/lib/python3.6/site-packages (from requests<3.0.0,>=2.13.0->spacy) (3.0.4)\n",
      "Requirement already satisfied: toolz>=0.8.0 in /home/aerossom/.local/lib/python3.6/site-packages (from cytoolz<0.10,>=0.9.0->thinc<6.11.0,>=6.10.3->spacy) (0.9.0)\n",
      "Collecting fuzzywuzzy\n",
      "  Downloading fuzzywuzzy-0.18.0-py2.py3-none-any.whl (18 kB)\n",
      "Installing collected packages: fuzzywuzzy\n",
      "Successfully installed fuzzywuzzy-0.18.0\n"
     ]
    }
   ],
   "source": [
    "!pip install bs4\n",
    "!pip install spacy\n",
    "!pip install fuzzywuzzy"
   ]
  },
  {
   "cell_type": "code",
   "execution_count": 5,
   "metadata": {},
   "outputs": [
    {
     "name": "stdout",
     "output_type": "stream",
     "text": [
      "Collecting en_core_web_sm==2.0.0\n",
      "  Downloading https://github.com/explosion/spacy-models/releases/download/en_core_web_sm-2.0.0/en_core_web_sm-2.0.0.tar.gz (37.4 MB)\n",
      "\u001b[K     |████████████████████████████████| 37.4 MB 11.9 MB/s eta 0:00:01\n",
      "\u001b[?25hBuilding wheels for collected packages: en-core-web-sm\n",
      "  Building wheel for en-core-web-sm (setup.py) ... \u001b[?25ldone\n",
      "\u001b[?25h  Created wheel for en-core-web-sm: filename=en_core_web_sm-2.0.0-py3-none-any.whl size=37405976 sha256=62adc6af17816b458adbd965e21f27ad254420412f1be754dcd6ea7a951b87f4\n",
      "  Stored in directory: /tmp/pip-ephem-wheel-cache-1qzosn9d/wheels/eb/1a/34/e8e3f55df7db1d8a368d9f861a0d2bd760c10f6ca8ea501515\n",
      "Successfully built en-core-web-sm\n",
      "Installing collected packages: en-core-web-sm\n",
      "Successfully installed en-core-web-sm-2.0.0\n",
      "\n",
      "\u001b[93m    Linking successful\u001b[0m\n",
      "    /home/aerossom/anaconda3/envs/pytorch/lib/python3.6/site-packages/en_core_web_sm\n",
      "    -->\n",
      "    /home/aerossom/.local/lib/python3.6/site-packages/spacy/data/en_core_web_sm\n",
      "\n",
      "    You can now load the model via spacy.load('en_core_web_sm')\n",
      "\n"
     ]
    }
   ],
   "source": [
    "!python -m spacy download en_core_web_sm"
   ]
  },
  {
   "cell_type": "code",
   "execution_count": 12,
   "metadata": {},
   "outputs": [
    {
     "name": "stdout",
     "output_type": "stream",
     "text": [
      "Collecting Cython\n",
      "  Downloading Cython-0.29.17-cp36-cp36m-manylinux1_x86_64.whl (2.1 MB)\n",
      "\u001b[K     |████████████████████████████████| 2.1 MB 7.1 MB/s eta 0:00:01\n",
      "\u001b[?25hInstalling collected packages: Cython\n",
      "Successfully installed Cython-0.29.17\n"
     ]
    }
   ],
   "source": [
    "!pip install Cython"
   ]
  },
  {
   "cell_type": "code",
   "execution_count": 9,
   "metadata": {},
   "outputs": [
    {
     "name": "stdout",
     "output_type": "stream",
     "text": [
      "Cloning into 'sent2vec'...\n",
      "remote: Enumerating objects: 17, done.\u001b[K\n",
      "remote: Counting objects: 100% (17/17), done.\u001b[K\n",
      "remote: Compressing objects: 100% (14/14), done.\u001b[K\n",
      "remote: Total 385 (delta 7), reused 6 (delta 2), pack-reused 368\u001b[K\n",
      "Receiving objects: 100% (385/385), 448.08 KiB | 1.74 MiB/s, done.\n",
      "Resolving deltas: 100% (235/235), done.\n"
     ]
    }
   ],
   "source": [
    "!cd .. && git clone https://github.com/epfml/sent2vec.git"
   ]
  },
  {
   "cell_type": "code",
   "execution_count": 18,
   "metadata": {},
   "outputs": [
    {
     "name": "stdout",
     "output_type": "stream",
     "text": [
      "Processing /home/aerossom/git_repos/sent2vec\n",
      "Building wheels for collected packages: sent2vec\n",
      "  Building wheel for sent2vec (setup.py) ... \u001b[?25ldone\n",
      "\u001b[?25h  Created wheel for sent2vec: filename=sent2vec-0.0.0-cp36-cp36m-linux_x86_64.whl size=1137304 sha256=d4a3bf4787dd73e6b6e071313b11280d7a42d15d88aee29f3f41da1928751d4f\n",
      "  Stored in directory: /tmp/pip-ephem-wheel-cache-kf38svey/wheels/a9/d3/93/9a9df8b9391ce7c58f0717c4ffecb7400367f39b71fc23fcc7\n",
      "Successfully built sent2vec\n",
      "Installing collected packages: sent2vec\n",
      "Successfully installed sent2vec-0.0.0\n"
     ]
    }
   ],
   "source": [
    "!export PATH=\"/usr/lib/gcc/x86_64-linux-gnu/6:$PATH\" && cd ../sent2vec/ && pip install ."
   ]
  },
  {
   "cell_type": "code",
   "execution_count": null,
   "metadata": {},
   "outputs": [],
   "source": []
  }
 ],
 "metadata": {
  "kernelspec": {
   "display_name": "Python 3",
   "language": "python",
   "name": "python3"
  },
  "language_info": {
   "codemirror_mode": {
    "name": "ipython",
    "version": 3
   },
   "file_extension": ".py",
   "mimetype": "text/x-python",
   "name": "python",
   "nbconvert_exporter": "python",
   "pygments_lexer": "ipython3",
   "version": "3.6.10"
  }
 },
 "nbformat": 4,
 "nbformat_minor": 4
}
