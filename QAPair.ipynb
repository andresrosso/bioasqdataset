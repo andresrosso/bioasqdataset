{
 "cells": [
  {
   "cell_type": "markdown",
   "metadata": {},
   "source": [
    "# Dataset BioASQ: QAPair"
   ]
  },
  {
   "cell_type": "markdown",
   "metadata": {},
   "source": [
    "### 0. Initial setup (0)"
   ]
  },
  {
   "cell_type": "code",
   "execution_count": 1,
   "metadata": {},
   "outputs": [],
   "source": [
    "import json\n",
    "import sys\n",
    "from bs4 import BeautifulSoup\n",
    "import requests\n",
    "import sys,os,os.path\n",
    "import re\n",
    "import spacy\n",
    "import numpy as np\n",
    "import random\n",
    "import seaborn as sns\n",
    "import tqdm\n",
    "import pprint"
   ]
  },
  {
   "cell_type": "code",
   "execution_count": 2,
   "metadata": {},
   "outputs": [
    {
     "data": {
      "text/plain": [
       "[('gold_standard/BioASQ-trainingDataset4b.json', 4),\n",
       " ('gold_standard/BioASQ-trainingDataset5b.json', 5),\n",
       " ('gold_standard/BioASQ-trainingDataset6b.json', 6),\n",
       " ('gold_standard/BioASQ-trainingDataset7b.json', 7),\n",
       " ('gold_standard/BioASQ-trainingDataset8b.json', 8)]"
      ]
     },
     "execution_count": 2,
     "metadata": {},
     "output_type": "execute_result"
    }
   ],
   "source": [
    "GOLD_PATH = 'gold_standard/'\n",
    "files = [(f\"{GOLD_PATH}BioASQ-trainingDataset{i}b.json\", i) for i in [4, 5, 6, 7, 8]]\n",
    "files"
   ]
  },
  {
   "cell_type": "code",
   "execution_count": 3,
   "metadata": {},
   "outputs": [],
   "source": [
    "nlp = spacy.load(\"en_core_web_sm\")"
   ]
  },
  {
   "cell_type": "code",
   "execution_count": 4,
   "metadata": {},
   "outputs": [],
   "source": [
    "pp = pprint.PrettyPrinter(indent=4)"
   ]
  },
  {
   "cell_type": "code",
   "execution_count": 5,
   "metadata": {},
   "outputs": [],
   "source": [
    "from scipy.spatial import distance\n",
    "\n",
    "def sent_vec(sent):\n",
    "    return np.random.uniform(-1, 1, 700)\n",
    "\n",
    "def similarity(sent1, sent2):\n",
    "    vec1 = sent_vec(sent1)\n",
    "    vec2 = sent_vec(sent2)\n",
    "    return 1 - distance.cosine(vec1, vec2)"
   ]
  },
  {
   "cell_type": "code",
   "execution_count": 6,
   "metadata": {},
   "outputs": [
    {
     "data": {
      "text/plain": [
       "array([ 0.15582305,  0.78096102,  0.72429312, -0.44352366,  0.24549707,\n",
       "       -0.31775188, -0.51294194,  0.81415767, -0.48208483, -0.96903407,\n",
       "       -0.27734005, -0.68966563,  0.49766366,  0.70394791,  0.95143505,\n",
       "       -0.99132957, -0.04003307,  0.72868834, -0.65962629, -0.10529696,\n",
       "        0.05268768,  0.35063321, -0.56807871,  0.58273888,  0.5220808 ,\n",
       "       -0.70311798, -0.82641349,  0.9811752 , -0.46775802,  0.47195212,\n",
       "        0.01025471, -0.88382602,  0.97402015,  0.7295231 , -0.43287794,\n",
       "        0.32930443, -0.56286281,  0.96805267, -0.10355674,  0.10145866,\n",
       "        0.62617541, -0.92687983, -0.09815115,  0.17812702, -0.10138327,\n",
       "        0.41358631,  0.48164028,  0.67446822,  0.0413781 , -0.06729631,\n",
       "       -0.24867183,  0.17966288,  0.03194968, -0.40970445, -0.92589636,\n",
       "        0.95490541, -0.09973196,  0.05991556, -0.12635984, -0.85464657,\n",
       "       -0.93344866, -0.4648318 , -0.77394693,  0.44096477,  0.31192006,\n",
       "        0.84051442, -0.63378221,  0.87011827,  0.2944085 , -0.12809801,\n",
       "       -0.75017556, -0.90476394,  0.51120375,  0.3602462 , -0.16380633,\n",
       "        0.86717826, -0.25494857,  0.70334515,  0.64207102,  0.66810673,\n",
       "       -0.75120821,  0.96575968,  0.44452972,  0.27588828, -0.6475939 ,\n",
       "        0.50266717,  0.44787256,  0.7147546 ,  0.94383234, -0.33271533,\n",
       "        0.31793448,  0.4962275 ,  0.04267064,  0.33508364, -0.06265559,\n",
       "       -0.47720338, -0.39619803, -0.85154815, -0.88697231,  0.35969764,\n",
       "       -0.59164314, -0.20301539, -0.28569698,  0.38146097, -0.86331405,\n",
       "        0.28099742,  0.16318567,  0.9318569 , -0.2404888 ,  0.46587381,\n",
       "        0.99229652,  0.98797615,  0.54616873,  0.69236848,  0.67044425,\n",
       "       -0.25591433, -0.26402185,  0.04424793,  0.45448638,  0.85626631,\n",
       "        0.86138247,  0.92629694,  0.61429933,  0.9104094 , -0.75054858,\n",
       "       -0.44842103,  0.07775514, -0.25715725, -0.87253193, -0.27918209,\n",
       "        0.24491037, -0.13588451, -0.96445038,  0.04659877,  0.67797132,\n",
       "        0.57809767, -0.53099893, -0.93811241,  0.30356549,  0.03392088,\n",
       "        0.82448827, -0.03613853, -0.43692442,  0.46340587,  0.41430481,\n",
       "        0.53692308, -0.98881896,  0.44665345, -0.22455284,  0.8104779 ,\n",
       "        0.81784284,  0.63551181, -0.31877664, -0.38161123,  0.6344343 ,\n",
       "        0.47034821,  0.84534269, -0.78326036,  0.55470679, -0.98353288,\n",
       "        0.96881924, -0.18741621, -0.73264986,  0.76021645,  0.81399212,\n",
       "        0.66263534,  0.45218401,  0.37829101,  0.6057316 , -0.80974055,\n",
       "       -0.73711626, -0.81015722, -0.7706862 ,  0.83276211,  0.52249219,\n",
       "        0.36969757, -0.54085497, -0.9411243 ,  0.23081802, -0.30098249,\n",
       "       -0.30272755, -0.91709703, -0.70454404, -0.22944029, -0.44546333,\n",
       "       -0.96690192,  0.26490451, -0.30422052,  0.17237605, -0.15356966,\n",
       "        0.11752421, -0.59666941,  0.61146549,  0.09607779,  0.84598538,\n",
       "       -0.26037398, -0.1782766 ,  0.38265866,  0.69300642,  0.20096222,\n",
       "        0.08755605, -0.02575998,  0.78983109, -0.78301373,  0.50144889,\n",
       "        0.68357973, -0.21363833, -0.71179021,  0.15705825, -0.67734963,\n",
       "       -0.232313  ,  0.55227022, -0.76323511, -0.07437497,  0.88586499,\n",
       "        0.73974049, -0.57505685,  0.41462122, -0.6267791 ,  0.78851   ,\n",
       "       -0.27705766,  0.07068521, -0.55928392, -0.98745716, -0.34579619,\n",
       "        0.37109582,  0.63724004, -0.32692421,  0.02282104, -0.15363224,\n",
       "       -0.57424506, -0.39669566,  0.55958495, -0.52809237, -0.46314683,\n",
       "        0.02882023, -0.13309741, -0.90280386,  0.38434301,  0.81575693,\n",
       "        0.50566996, -0.4973208 , -0.65968973,  0.38036147, -0.24415335,\n",
       "        0.5694389 ,  0.44464248,  0.58114646,  0.94171846, -0.31824269,\n",
       "        0.73687496, -0.22096753, -0.42589195, -0.32068824,  0.65478813,\n",
       "        0.21025566, -0.59864356, -0.5005171 ,  0.4125633 , -0.96235635,\n",
       "        0.46048048, -0.49128321,  0.23526338,  0.66217681, -0.76313823,\n",
       "       -0.99903154,  0.99836133,  0.40549857, -0.86681921, -0.89151223,\n",
       "       -0.07286313,  0.56826078,  0.29745953,  0.68367931, -0.16175445,\n",
       "        0.43864858,  0.8807273 ,  0.19047971, -0.77157724, -0.72613546,\n",
       "       -0.5752364 ,  0.10118885,  0.75905724,  0.3061111 , -0.97419678,\n",
       "        0.31867552, -0.49020951, -0.23350719, -0.24949577,  0.41253074,\n",
       "        0.86261297, -0.74192182, -0.13723062, -0.46879245,  0.26889075,\n",
       "       -0.30247557, -0.86203415, -0.94071343,  0.08166492, -0.54057852,\n",
       "       -0.78012774,  0.24745142,  0.36116729, -0.54209288, -0.08766943,\n",
       "        0.36278487,  0.349387  , -0.65094701,  0.6071659 , -0.94463943,\n",
       "        0.09323511,  0.33258271, -0.86260996,  0.60653791,  0.18945731,\n",
       "       -0.06765896, -0.65208551,  0.54367509, -0.01589134,  0.40627052,\n",
       "       -0.23886864, -0.86172813, -0.06324319, -0.92099893,  0.23544223,\n",
       "        0.25952575, -0.03231976, -0.7669127 ,  0.12075149,  0.0792625 ,\n",
       "       -0.39843407, -0.7544506 , -0.07314822, -0.97738448,  0.26593078,\n",
       "       -0.38014445, -0.4024795 ,  0.48520345,  0.83474428,  0.52473098,\n",
       "        0.26300446,  0.01039793, -0.01305382,  0.54429115,  0.3882038 ,\n",
       "       -0.6392895 ,  0.09836432,  0.41418306, -0.81317989, -0.42476828,\n",
       "        0.43415314, -0.11090645, -0.55420094, -0.3251101 , -0.62207431,\n",
       "       -0.3983292 ,  0.2882932 , -0.79580421, -0.12183981,  0.66843034,\n",
       "        0.67241072, -0.05006489, -0.06668446,  0.10942338,  0.98672119,\n",
       "       -0.8069226 , -0.3357339 ,  0.97289572,  0.11648785, -0.66499181,\n",
       "       -0.04449604, -0.84389333, -0.01525254, -0.22771762, -0.36957632,\n",
       "       -0.61794596,  0.57381195, -0.60450581, -0.22978443, -0.97858944,\n",
       "       -0.889553  , -0.24206252,  0.4579527 , -0.65888764, -0.7164104 ,\n",
       "        0.68105891,  0.09255531, -0.99982721, -0.25477257, -0.35325349,\n",
       "        0.20002397, -0.52286538,  0.8717009 , -0.45742364, -0.2495643 ,\n",
       "        0.37162467, -0.09572719, -0.69247424,  0.94033605, -0.31988064,\n",
       "       -0.78464882, -0.36998095,  0.19525791,  0.51278177, -0.74322492,\n",
       "       -0.94726877, -0.7077449 , -0.00440899,  0.32120067,  0.73508765,\n",
       "        0.88327771,  0.10965441, -0.38728162,  0.40252715, -0.94050069,\n",
       "        0.07691222, -0.9170667 , -0.90587908,  0.34416775, -0.85902535,\n",
       "       -0.18581177, -0.34716946, -0.60093615,  0.87300994, -0.3107561 ,\n",
       "       -0.63733055, -0.31884526, -0.07009573, -0.67245058,  0.83769898,\n",
       "       -0.38937061,  0.60943539,  0.71002735,  0.09991061, -0.25273752,\n",
       "       -0.39745596,  0.11711344, -0.94604644, -0.56510559, -0.39360139,\n",
       "        0.9175098 ,  0.69081564, -0.94000479,  0.78579769, -0.37383298,\n",
       "       -0.35042054, -0.19935437,  0.86058177, -0.68566096,  0.64226964,\n",
       "        0.76662076,  0.90056566, -0.9873593 ,  0.85147081,  0.08709591,\n",
       "        0.2581433 , -0.02971023,  0.31896631,  0.71120882, -0.42343133,\n",
       "       -0.90617027,  0.69870801, -0.72226645, -0.38661919, -0.88305724,\n",
       "       -0.52438546, -0.27453317,  0.35255949,  0.18257332, -0.71898396,\n",
       "        0.03966391,  0.24735666, -0.97140478,  0.68881128,  0.45528042,\n",
       "        0.53736304, -0.91018076,  0.48492755,  0.74885983,  0.84689865,\n",
       "        0.18208152,  0.52841445,  0.95798748,  0.51024537, -0.00119042,\n",
       "       -0.32500225,  0.67980489, -0.6090699 , -0.63558259, -0.28010948,\n",
       "        0.68925061,  0.8606347 , -0.54248353, -0.74485846,  0.18395623,\n",
       "        0.86051051,  0.54608458, -0.3600512 , -0.03868295,  0.82516944,\n",
       "        0.02566315,  0.75018159, -0.66638311,  0.06128997, -0.86744237,\n",
       "       -0.33532959, -0.67675706, -0.45223712, -0.72364237, -0.37090385,\n",
       "       -0.7015217 , -0.09898503,  0.36875285,  0.50362009, -0.37361048,\n",
       "       -0.19805333,  0.03645588, -0.83471209,  0.37102817,  0.89903854,\n",
       "       -0.08705155, -0.56507955, -0.23585978,  0.39967604, -0.66562669,\n",
       "       -0.84038504, -0.90510276, -0.2246075 , -0.19806614,  0.10272974,\n",
       "       -0.50619036,  0.39298092,  0.10702721,  0.04998565,  0.19958359,\n",
       "        0.37259252,  0.01020623, -0.75059568, -0.87105047, -0.73509604,\n",
       "        0.87791198, -0.0285067 , -0.86929451,  0.57819205, -0.5593707 ,\n",
       "        0.81121261,  0.33040007, -0.81723257, -0.26562618, -0.29532944,\n",
       "        0.39990209, -0.15686844,  0.37962347, -0.39535987,  0.93373169,\n",
       "        0.49281132, -0.08491123, -0.55277596, -0.35837473, -0.42211315,\n",
       "        0.90785293, -0.69549895,  0.26665503, -0.52513854,  0.94581721,\n",
       "       -0.95309402, -0.38851218, -0.65903815,  0.57048215, -0.7404479 ,\n",
       "        0.44106085, -0.33205366,  0.12568007, -0.77188446, -0.02379347,\n",
       "       -0.56225469, -0.44689527, -0.75833319, -0.75764245,  0.35372727,\n",
       "       -0.53528169,  0.39782947,  0.06749795,  0.14031812,  0.17555812,\n",
       "       -0.81205144, -0.71160542, -0.46281821, -0.19163534, -0.91921584,\n",
       "        0.36538065, -0.09826129, -0.9311599 ,  0.71006188, -0.84303865,\n",
       "        0.96272407,  0.09730427, -0.2323004 ,  0.14140908,  0.74621888,\n",
       "       -0.75556393, -0.06926375,  0.7598767 , -0.50578175,  0.97992329,\n",
       "       -0.6077471 , -0.42433731, -0.00404407,  0.47385108,  0.22123855,\n",
       "        0.0238299 , -0.59919958, -0.24745319, -0.45973241,  0.58769631,\n",
       "        0.62134702,  0.40082231,  0.77641413,  0.42898711, -0.6677027 ,\n",
       "       -0.32997797, -0.79821113,  0.05340292, -0.50483308,  0.25886053,\n",
       "        0.14371091,  0.83256515,  0.48783217, -0.95077422, -0.25537364,\n",
       "        0.04282455,  0.71504007,  0.6255538 , -0.69418286,  0.67219167,\n",
       "        0.72777688, -0.72047248, -0.95800789,  0.21607723,  0.95384944,\n",
       "        0.45383294,  0.4170305 , -0.90518778,  0.29135745,  0.15244881,\n",
       "       -0.65922425, -0.01110283,  0.1299606 ,  0.86845619,  0.97214236,\n",
       "       -0.93350579, -0.73195436,  0.52077283,  0.84228492,  0.51802116,\n",
       "       -0.60905362, -0.37833272, -0.80642388,  0.2039262 ,  0.26696409,\n",
       "        0.55900684, -0.52447807,  0.77013785,  0.13778486, -0.33265111,\n",
       "        0.03664515,  0.78162263, -0.28722476,  0.58392833, -0.84281986,\n",
       "       -0.3120176 , -0.33844567,  0.42751695, -0.07595957, -0.80227147,\n",
       "       -0.75823992,  0.41682635, -0.63189607, -0.40485016,  0.00621736,\n",
       "        0.73799536, -0.53719789, -0.20197759,  0.90753018, -0.44098454,\n",
       "       -0.19051076, -0.37831436, -0.73708701,  0.66612833,  0.30154854,\n",
       "       -0.84158001,  0.07649513, -0.64943207, -0.90375218,  0.42063464,\n",
       "       -0.1523078 ,  0.55117094, -0.50218628, -0.8491934 , -0.43359479])"
      ]
     },
     "execution_count": 6,
     "metadata": {},
     "output_type": "execute_result"
    }
   ],
   "source": [
    "sent_vec('''\n",
    "    The Ctf4 protein has been shown to be a central member of the replication fork \n",
    "    and links the replicative MCM helicase and DNA polymerase α primase.\n",
    "''')"
   ]
  },
  {
   "cell_type": "code",
   "execution_count": 8,
   "metadata": {},
   "outputs": [],
   "source": [
    "def get_answer_id(answer):\n",
    "    return answer['document'].split('/')[-1]\n",
    "\n",
    "def get_pair_id(question, answer):\n",
    "    params = [\n",
    "        question['id'], # question id\n",
    "        get_answer_id(answer),\n",
    "        answer['beginSection'],\n",
    "        str(answer['offsetInBeginSection']),\n",
    "        answer['endSection'],\n",
    "        str(answer['offsetInEndSection'])\n",
    "    ]\n",
    "\n",
    "    return '-'.join(params)"
   ]
  },
  {
   "cell_type": "code",
   "execution_count": 9,
   "metadata": {},
   "outputs": [],
   "source": [
    "def build_pair(question, answer, trainset, is_answer, doc_related, bioSentVecCosSim):\n",
    "    '''Build a single QAPair object given its stats (is_answer, doc_related, bioSentVecCosSim).'''\n",
    "    \n",
    "    pair = {}\n",
    "    pair['id'] = get_pair_id(question, answer)\n",
    "    pair['questionId'] = question['id']\n",
    "    pair['passage'] = answer['text']\n",
    "    pair['trainset'] = f\"{trainset}b\"\n",
    "    pair['doc_url'] = answer['document']\n",
    "    pair['is_answer'] = is_answer\n",
    "    pair['doc_related'] = doc_related\n",
    "    pair['bioSentVecCosSim'] = bioSentVecCosSim\n",
    "    pair['beginSection'] = answer['beginSection']\n",
    "    pair['offsetInBeginSection'] = answer['offsetInBeginSection']\n",
    "    pair['endSection'] = answer['endSection']\n",
    "    pair['offsetInEndSection'] = answer['offsetInEndSection']\n",
    "    return pair"
   ]
  },
  {
   "cell_type": "markdown",
   "metadata": {},
   "source": [
    "### 1. True Pairs "
   ]
  },
  {
   "cell_type": "code",
   "execution_count": 10,
   "metadata": {},
   "outputs": [],
   "source": [
    "def get_qa_true_pairs(question, trainset):\n",
    "    '''Transform a BioASQ question into a QAPair gold object.'''    \n",
    "    pairs = []\n",
    "    \n",
    "    for answer in question['snippets']:\n",
    "        pairs.append(build_pair(question, answer, trainset, 1, 1, 1))\n",
    "        \n",
    "    return pairs"
   ]
  },
  {
   "cell_type": "code",
   "execution_count": 11,
   "metadata": {},
   "outputs": [
    {
     "name": "stdout",
     "output_type": "stream",
     "text": [
      "{   'beginSection': 'abstract',\n",
      "    'bioSentVecCosSim': 1,\n",
      "    'doc_related': 1,\n",
      "    'doc_url': 'http://www.ncbi.nlm.nih.gov/pubmed/23378035',\n",
      "    'endSection': 'abstract',\n",
      "    'id': '52bf1d3c03868f1b0600000d-23378035-abstract-164-abstract-481',\n",
      "    'is_answer': 1,\n",
      "    'offsetInBeginSection': 164,\n",
      "    'offsetInEndSection': 481,\n",
      "    'passage': 'Muenke syndrome is characterized by coronal craniosynostosis '\n",
      "               '(bilateral more often than unilateral), hearing loss, '\n",
      "               'developmental delay, and carpal and/or tarsal bone coalition. '\n",
      "               'Tarsal coalition is a distinct feature of Muenke syndrome and '\n",
      "               'has been reported since the initial description of the '\n",
      "               'disorder in the 1990s. ',\n",
      "    'questionId': '52bf1d3c03868f1b0600000d',\n",
      "    'trainset': '4b'}\n"
     ]
    }
   ],
   "source": [
    "true_pairs = []\n",
    "\n",
    "for (file, trainset) in files[:1]:\n",
    "    bioasq = json.load(open(file, \"r\"))\n",
    "    for question in bioasq['questions'][:10]:\n",
    "        true_pairs.extend(get_qa_true_pairs(question, trainset))\n",
    "        \n",
    "pp.pprint(true_pairs[0])"
   ]
  },
  {
   "cell_type": "markdown",
   "metadata": {},
   "source": [
    "### 2. False Easy Pairs"
   ]
  },
  {
   "cell_type": "code",
   "execution_count": 12,
   "metadata": {},
   "outputs": [],
   "source": [
    "def get_qa_false_easy(gold, n, threshold=0.01):\n",
    "    global true_pairs\n",
    "    '''Get n false-easy snippets from a true (gold) QA object.'''\n",
    "    original_n = n\n",
    "    \n",
    "    gold_sent = gold['passage']\n",
    "    \n",
    "    print(\"GOLD SENTENCE:\\n\\n\" + gold_sent + \"\\n\\n\")\n",
    "    print(\"FALSE EASY SENTENCES:\\n\")\n",
    "    false_easy = set()\n",
    "    \n",
    "    while n > 0:\n",
    "        rand_pair = true_pairs[np.random.randint(len(true_pairs))]\n",
    "        \n",
    "        if rand_pair['questionId'] != gold['questionId']:\n",
    "            gold_sent = gold['passage']\n",
    "            rand_sent = rand_pair['passage']\n",
    "            \n",
    "            s = abs(similarity(gold_sent, rand_sent))\n",
    "            \n",
    "            if s < threshold and rand_sent not in false_easy:\n",
    "                print(f\"{original_n - n + 1}. ({s})\\n'{rand_sent}'\\n\")\n",
    "                false_easy.add(rand_sent)\n",
    "                n -= 1\n",
    "                \n",
    "    return list(false_easy)"
   ]
  },
  {
   "cell_type": "code",
   "execution_count": 13,
   "metadata": {},
   "outputs": [
    {
     "name": "stdout",
     "output_type": "stream",
     "text": [
      "GOLD SENTENCE:\n",
      "\n",
      "Muenke syndrome is characterized by coronal craniosynostosis (bilateral more often than unilateral), hearing loss, developmental delay, and carpal and/or tarsal bone coalition. Tarsal coalition is a distinct feature of Muenke syndrome and has been reported since the initial description of the disorder in the 1990s. \n",
      "\n",
      "\n",
      "FALSE EASY SENTENCES:\n",
      "\n",
      "1. (0.015919076479490757)\n",
      "'We show that Ctf4 function is conserved and that Drosophila can be effectively used as a model to further probe the precise function of Ctf4 as a member of the replication fork and possible roles in development.'\n",
      "\n",
      "2. (0.004622304350921036)\n",
      "'This case report suggests the possibility that discoloration from tetracycline may not be limited to tooth development in the child, but may also affect the adult dentition'\n",
      "\n",
      "3. (0.016132953663895)\n",
      "'Alteplase has been used successfully in evolving myocardial infarction (MI) to reopen occluded coronary arteries. '\n",
      "\n",
      "4. (0.005086029719344909)\n",
      "'coupling MCM2-7 to replicative polymerases is an important feature of the regulation of chromosome replication in eukaryotes, and highlight a key role for Ctf4 in this process'\n",
      "\n",
      "5. (0.002958845766562135)\n",
      "'Ctf4 coordinates the progression of helicase and DNA polymerase alpha'\n",
      "\n"
     ]
    }
   ],
   "source": [
    "false_easy = get_qa_false_easy(true_pairs[0], 5, threshold=0.02)"
   ]
  },
  {
   "cell_type": "markdown",
   "metadata": {},
   "source": [
    "### 3. False Hard Questions"
   ]
  },
  {
   "cell_type": "code",
   "execution_count": 32,
   "metadata": {},
   "outputs": [],
   "source": [
    "def get_qa_false_hard(gold, pairs, n, min_threshold, max_threshold=0.9):\n",
    "    '''Get n false-easy snippets from a true (gold) QA object.'''\n",
    "    original_n = n\n",
    "    \n",
    "    print(\"GOLD SENTENCE:\\n\\n\" + gold['passage'] + \"\\n\\n\")\n",
    "    print(\"FALSE HARD SENTENCES:\\n\")\n",
    "    \n",
    "    false_hard = set()\n",
    "    pairs_to_check = np.arange(len(pairs))\n",
    "    \n",
    "    while n > 0 and len(pairs_to_check) > 0:\n",
    "#         idx = np.random.randint(len(pairs_to_check))\n",
    "#         rand_pair = pairs[pairs_to_check[idx]]\n",
    "#         pairs_to_check = np.delete(pairs_to_check, idx)\n",
    "               \n",
    "        rand_pair = pairs[np.random.randint(len(pairs))]\n",
    "            \n",
    "        gold_sent = gold['passage']\n",
    "        rand_sent = rand_pair['passage']\n",
    "\n",
    "        s = similarity(gold_sent, rand_sent)\n",
    "\n",
    "        if s > min_threshold and s < max_threshold and rand_sent not in false_hard:\n",
    "            print(f\"{original_n - n + 1}. ({s})\\n'{rand_sent}'\\n\")\n",
    "            false_hard.add(rand_sent)\n",
    "            n -= 1\n",
    "    \n",
    "    if len(pairs_to_check) == 0:\n",
    "        print(\"Searching list was exhausted.\")\n",
    "        \n",
    "    return list(false_hard)"
   ]
  },
  {
   "cell_type": "code",
   "execution_count": 33,
   "metadata": {},
   "outputs": [
    {
     "name": "stdout",
     "output_type": "stream",
     "text": [
      "GOLD SENTENCE:\n",
      "\n",
      "Muenke syndrome is characterized by coronal craniosynostosis (bilateral more often than unilateral), hearing loss, developmental delay, and carpal and/or tarsal bone coalition. Tarsal coalition is a distinct feature of Muenke syndrome and has been reported since the initial description of the disorder in the 1990s. \n",
      "\n",
      "\n",
      "FALSE HARD SENTENCES:\n",
      "\n",
      "1. (0.08013437833775183)\n",
      "'We previously found that the C2-domain of the Saccharomyces cerevisiae Inn1 protein plays an essential but uncharacterised role at the cleavage site during cytokinesis.'\n",
      "\n",
      "2. (0.11536282073475324)\n",
      "'And-1/Ctf4 is therefore a new replication initiation factor that brings together the MCM2-7 helicase and the DNA pol alpha-primase complex, analogous to the linker between helicase and primase or helicase and polymerase that is seen in the bacterial replication machinery'\n",
      "\n",
      "3. (0.09098856202352656)\n",
      "'In order to determine the mechanism by which captopril inhibited tumor growth, we investigated the impact of this drug on cell proliferation, apoptosis, and angiogenesis. Immunohistochemical analysis demonstrated that captopril treatment significantly reduced the number of proliferating cells (Ki-67) in the tumor samples but was not associated with inhibition of tumor angiogenesis (CD31).'\n",
      "\n",
      "4. (0.08733682799929499)\n",
      "'ACE inhibitors may decrease the incidence of radiation pneumonitis in patients receiving thoracic radiation for lung cancer.'\n",
      "\n",
      "5. (0.08498437863479547)\n",
      "'Mcm10 and And-1/CTF4 recruit DNA polymerase alpha to chromatin for initiation of DNA replication.'\n",
      "\n"
     ]
    }
   ],
   "source": [
    "false_hard = get_qa_false_hard(true_pairs[0], true_pairs, 5, min_threshold=0.08)"
   ]
  }
 ],
 "metadata": {
  "kernelspec": {
   "display_name": "Python 3",
   "language": "python",
   "name": "python3"
  },
  "language_info": {
   "codemirror_mode": {
    "name": "ipython",
    "version": 3
   },
   "file_extension": ".py",
   "mimetype": "text/x-python",
   "name": "python",
   "nbconvert_exporter": "python",
   "pygments_lexer": "ipython3",
   "version": "3.7.5"
  }
 },
 "nbformat": 4,
 "nbformat_minor": 4
}
