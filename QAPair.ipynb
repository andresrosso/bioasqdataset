{
 "cells": [
  {
   "cell_type": "markdown",
   "metadata": {},
   "source": [
    "# Dataset BioASQ: QAPair"
   ]
  },
  {
   "cell_type": "markdown",
   "metadata": {},
   "source": [
    "### 0. Initial setup (0)"
   ]
  },
  {
   "cell_type": "code",
   "execution_count": 3,
   "metadata": {},
   "outputs": [],
   "source": [
    "import json\n",
    "import sys\n",
    "from bs4 import BeautifulSoup\n",
    "import requests\n",
    "import sys,os,os.path\n",
    "import re\n",
    "import spacy\n",
    "import numpy as np\n",
    "import random\n",
    "import seaborn as sns\n",
    "import tqdm\n",
    "import pprint"
   ]
  },
  {
   "cell_type": "code",
   "execution_count": 4,
   "metadata": {},
   "outputs": [
    {
     "data": {
      "text/plain": [
       "[('gold_standard/BioASQ-trainingDataset4b.json', 4),\n",
       " ('gold_standard/BioASQ-trainingDataset5b.json', 5),\n",
       " ('gold_standard/BioASQ-trainingDataset6b.json', 6),\n",
       " ('gold_standard/BioASQ-trainingDataset7b.json', 7),\n",
       " ('gold_standard/BioASQ-trainingDataset8b.json', 8)]"
      ]
     },
     "execution_count": 4,
     "metadata": {},
     "output_type": "execute_result"
    }
   ],
   "source": [
    "GOLD_PATH = 'gold_standard/'\n",
    "files = [(f\"{GOLD_PATH}BioASQ-trainingDataset{i}b.json\", i) for i in [4, 5, 6, 7, 8]]\n",
    "files"
   ]
  },
  {
   "cell_type": "code",
   "execution_count": 5,
   "metadata": {},
   "outputs": [],
   "source": [
    "nlp = spacy.load(\"en_core_web_sm\")"
   ]
  },
  {
   "cell_type": "code",
   "execution_count": 6,
   "metadata": {},
   "outputs": [],
   "source": [
    "pp = pprint.PrettyPrinter(indent=4)"
   ]
  },
  {
   "cell_type": "code",
   "execution_count": 7,
   "metadata": {},
   "outputs": [],
   "source": [
    "from scipy.spatial import distance\n",
    "\n",
    "def sent_vec(sent):\n",
    "    return np.random.uniform(-1, 1, 700)\n",
    "\n",
    "def similarity(sent1, sent2):\n",
    "    vec1 = sent_vec(sent1)\n",
    "    vec2 = sent_vec(sent2)\n",
    "    return 1 - distance.cosine(vec1, vec2)"
   ]
  },
  {
   "cell_type": "code",
   "execution_count": 8,
   "metadata": {},
   "outputs": [
    {
     "data": {
      "text/plain": [
       "array([ 0.14887991, -0.55898568, -0.46558396, -0.47485176, -0.14581406,\n",
       "        0.07868517, -0.92112647, -0.0205458 ,  0.11846369,  0.37008566,\n",
       "        0.23777416, -0.27052212,  0.81177091, -0.41379938, -0.66905965,\n",
       "        0.06272629, -0.05629426,  0.33613811,  0.64839521,  0.9901346 ,\n",
       "       -0.88928653, -0.25614798,  0.03945133, -0.53914887,  0.79463762,\n",
       "        0.513582  , -0.11020852, -0.53196193,  0.20065928,  0.31343279,\n",
       "        0.12787348,  0.24138185, -0.75990616, -0.85397143,  0.01928039,\n",
       "        0.66462009, -0.12618818, -0.22327217,  0.20314155,  0.67834459,\n",
       "        0.27155994,  0.692159  ,  0.63018563,  0.11560437, -0.81722459,\n",
       "       -0.22414666, -0.69751583,  0.27708565, -0.98848721,  0.23049235,\n",
       "       -0.09869052, -0.58860394, -0.5765967 , -0.73925185, -0.57395012,\n",
       "        0.3880691 ,  0.80434074,  0.2801701 ,  0.72708985, -0.79694199,\n",
       "       -0.4813272 ,  0.13800516, -0.26810304,  0.91461627,  0.76372565,\n",
       "        0.2105721 , -0.73980424,  0.65099268,  0.50500089, -0.68969237,\n",
       "       -0.72916429,  0.65583531,  0.31284961,  0.8708832 ,  0.58485414,\n",
       "       -0.17615327,  0.81431464, -0.22064864,  0.34995952, -0.14243444,\n",
       "       -0.61431358,  0.09487576, -0.77091584,  0.69676525,  0.23858937,\n",
       "       -0.5511583 , -0.84575981, -0.9966802 , -0.64881812, -0.7735885 ,\n",
       "        0.95913103, -0.00366427, -0.10291003,  0.78773064,  0.59987895,\n",
       "        0.5258894 ,  0.32899062,  0.94279673, -0.80272655, -0.72008782,\n",
       "       -0.97761282, -0.82727046,  0.17121704, -0.0992109 ,  0.99712454,\n",
       "       -0.84983824, -0.49705929,  0.37005964,  0.49996227,  0.28864896,\n",
       "        0.00973717,  0.42903758, -0.98519898, -0.81279417,  0.41963263,\n",
       "       -0.81814562,  0.83069304,  0.46421158, -0.19737978,  0.75315131,\n",
       "        0.81213331,  0.41856724,  0.62567449, -0.6369725 ,  0.80576564,\n",
       "       -0.59838476,  0.42794647,  0.40513677,  0.27801673,  0.73756481,\n",
       "       -0.05607245, -0.88496247,  0.51346089,  0.88625001,  0.4409697 ,\n",
       "        0.04789943, -0.63290068,  0.40206606,  0.56553226, -0.45381998,\n",
       "        0.61173879,  0.02682286, -0.98023477,  0.71282649, -0.49638647,\n",
       "       -0.34250872, -0.67523777, -0.42049865,  0.41412198,  0.69129988,\n",
       "        0.92609355,  0.25161297,  0.96361226, -0.42991837,  0.26827041,\n",
       "        0.3980177 , -0.16106587, -0.68275346, -0.67108914, -0.81222653,\n",
       "        0.84218683, -0.41550772, -0.52325877,  0.58475359, -0.63136347,\n",
       "        0.65600823, -0.7951113 ,  0.33783624, -0.48278163,  0.93144382,\n",
       "       -0.17345798,  0.38147361, -0.98222893, -0.74094676, -0.959429  ,\n",
       "        0.05653041,  0.11917083, -0.17063104,  0.90227234,  0.64518194,\n",
       "       -0.88967795, -0.41126728,  0.5796102 ,  0.00572756,  0.06022474,\n",
       "        0.79454658, -0.03371306, -0.53970648,  0.73061465, -0.35127801,\n",
       "       -0.76955517, -0.55275805, -0.87713946,  0.51396377, -0.41610843,\n",
       "        0.58250428,  0.74124785, -0.17759923, -0.09657181,  0.36344091,\n",
       "       -0.11939116,  0.43447466,  0.95408085,  0.74717491, -0.09789363,\n",
       "       -0.53965378, -0.76361996,  0.23273795, -0.28674177, -0.82522955,\n",
       "        0.63443603, -0.83420039, -0.14806121,  0.41294056, -0.1738567 ,\n",
       "        0.44360135,  0.55646824,  0.9656132 ,  0.85326535,  0.75478067,\n",
       "        0.6792076 , -0.13783032,  0.49286944,  0.6698119 , -0.74662523,\n",
       "        0.51533639,  0.33764234,  0.02624181, -0.87418562, -0.85237703,\n",
       "       -0.26265002, -0.97177859,  0.32664943, -0.54541104,  0.81785704,\n",
       "       -0.32557683, -0.27455213, -0.68407079,  0.79581678, -0.16289042,\n",
       "       -0.16988636,  0.47150301, -0.32378772, -0.21751718, -0.67148379,\n",
       "        0.40013536, -0.18171857,  0.30894941,  0.60272381, -0.06957329,\n",
       "        0.55466905, -0.62444008, -0.49951134, -0.67945375, -0.82087115,\n",
       "        0.47766416,  0.82039439, -0.83334866,  0.53204884,  0.98596211,\n",
       "        0.35537819, -0.30894792, -0.63821478,  0.22261035, -0.58428618,\n",
       "       -0.14111338,  0.20024826,  0.01517976, -0.95587872,  0.47241725,\n",
       "        0.42011336, -0.37249271, -0.55435877,  0.03420869, -0.18314475,\n",
       "       -0.96075591,  0.48472109,  0.01516462, -0.9909511 , -0.80674106,\n",
       "       -0.84387008, -0.84774081, -0.38287592, -0.56743495, -0.57875082,\n",
       "       -0.25204543, -0.42736438,  0.75792105, -0.8637661 ,  0.68180495,\n",
       "       -0.17613084, -0.50582071, -0.73302918, -0.29271062,  0.25050278,\n",
       "       -0.19630012,  0.1075653 ,  0.30847753,  0.83941077, -0.43652283,\n",
       "       -0.60093521, -0.98976904,  0.44944351, -0.40415827, -0.78867673,\n",
       "       -0.4691074 ,  0.06542063, -0.60703272, -0.91039676, -0.40138328,\n",
       "       -0.6461382 , -0.53737725, -0.62334445, -0.00533739,  0.29932635,\n",
       "        0.52777334, -0.6131482 , -0.14987872, -0.31451762, -0.52762877,\n",
       "        0.82933597, -0.41615581,  0.70037122,  0.79625249,  0.76064209,\n",
       "        0.71509268, -0.28609368,  0.08720579,  0.82974975,  0.87588386,\n",
       "       -0.76564228, -0.80475361,  0.79395818, -0.0166452 ,  0.12286002,\n",
       "        0.92326023, -0.1431592 , -0.08494856, -0.83642331, -0.51460992,\n",
       "       -0.88422354,  0.583853  , -0.87912345, -0.98150588,  0.08652577,\n",
       "       -0.84194211,  0.96819633, -0.86392988, -0.78241971, -0.33091145,\n",
       "        0.43859814, -0.79322568, -0.40424106,  0.02806066,  0.46077156,\n",
       "        0.25173411,  0.26947498,  0.91725808,  0.01416482,  0.00716473,\n",
       "       -0.84034778, -0.75107434, -0.35983762,  0.10394462,  0.67474654,\n",
       "       -0.47748616,  0.3088791 , -0.01404676, -0.33904666, -0.98783571,\n",
       "        0.49358026, -0.99728841, -0.27348694,  0.76936616, -0.86097535,\n",
       "       -0.07893424,  0.94491156,  0.68719711,  0.87129944,  0.03797736,\n",
       "        0.4284858 ,  0.82833073,  0.02145821,  0.97898493, -0.51983443,\n",
       "        0.93373475,  0.57893544, -0.62059821, -0.2594373 ,  0.2066146 ,\n",
       "        0.69176035,  0.26800992, -0.82373696,  0.72607986, -0.20576734,\n",
       "        0.23500634, -0.34280027,  0.42339807, -0.03391394, -0.54308365,\n",
       "       -0.22781277, -0.17963463,  0.62341442,  0.83061132,  0.94953614,\n",
       "       -0.35772422,  0.54782005,  0.18521411, -0.09011218,  0.7643862 ,\n",
       "       -0.60276458, -0.92739665, -0.17906989,  0.97671062,  0.28144558,\n",
       "       -0.86916087,  0.90659395, -0.31903343,  0.55306083,  0.66590662,\n",
       "       -0.49760309, -0.92914666, -0.8739769 , -0.10882291,  0.70875019,\n",
       "        0.49525719,  0.16372948,  0.56278505, -0.9094498 , -0.64598961,\n",
       "       -0.69459136,  0.94529519,  0.12567706,  0.58876527, -0.91226119,\n",
       "       -0.44221206,  0.98644564, -0.08570246, -0.04526984,  0.06090478,\n",
       "        0.70639038, -0.3174054 ,  0.72616474,  0.86060694, -0.62350204,\n",
       "        0.04836625,  0.10766749, -0.29344951,  0.83821566,  0.10871487,\n",
       "       -0.08339944, -0.75058871, -0.94833766, -0.17391627,  0.84158891,\n",
       "       -0.97769808, -0.52792575, -0.21571824, -0.29990453, -0.88565362,\n",
       "       -0.07008032,  0.91628049,  0.8664001 , -0.93240192,  0.1194117 ,\n",
       "       -0.02475131, -0.20490263,  0.83152133, -0.07023626, -0.87319891,\n",
       "        0.22234652,  0.86811783, -0.38499109,  0.2603555 ,  0.0188595 ,\n",
       "       -0.50483676, -0.45092203,  0.51412874,  0.97011613,  0.9563615 ,\n",
       "        0.10057883, -0.18502696,  0.21941914, -0.23458655,  0.02504706,\n",
       "        0.3468701 , -0.38169519,  0.85866036,  0.67038556,  0.27012103,\n",
       "       -0.32393907, -0.59469834,  0.98747   ,  0.21196766,  0.52972878,\n",
       "       -0.95605243,  0.44767008, -0.05721262, -0.37033178,  0.02455822,\n",
       "       -0.33721001,  0.76168375,  0.94617383,  0.18016743, -0.88849339,\n",
       "       -0.05333805,  0.13721065,  0.54995221,  0.57442609,  0.43055737,\n",
       "        0.4283328 ,  0.87054181, -0.13965251,  0.70920107,  0.71231537,\n",
       "       -0.25544649, -0.71359819, -0.38577921,  0.12992787, -0.53476968,\n",
       "       -0.65632366,  0.06102846,  0.18575993, -0.99879872, -0.34492383,\n",
       "       -0.35588062, -0.11727882, -0.16256902, -0.49096973, -0.61276141,\n",
       "        0.54556883, -0.15323231, -0.27700557,  0.38185106, -0.06463332,\n",
       "       -0.35056866, -0.65153966,  0.14073695, -0.74111193, -0.65132639,\n",
       "       -0.96990586,  0.4695831 , -0.91018637, -0.08487007,  0.21812592,\n",
       "       -0.81309333,  0.10215976,  0.44143604, -0.55358662, -0.98093368,\n",
       "        0.54475065,  0.37234319,  0.52709035,  0.78089001,  0.32087957,\n",
       "        0.82757474,  0.45699273, -0.70495172,  0.76369115, -0.07330668,\n",
       "       -0.84445619, -0.01591432, -0.11838275, -0.02534607, -0.46565183,\n",
       "       -0.87686056, -0.22582784,  0.96525903,  0.38951903, -0.47303413,\n",
       "        0.63771556, -0.75684609,  0.83545979,  0.19929901,  0.01202716,\n",
       "        0.08950039, -0.89215336,  0.44656414,  0.80237609, -0.07063452,\n",
       "       -0.55284077,  0.98409546,  0.42356385, -0.10249973, -0.20397936,\n",
       "       -0.11814586, -0.86463511, -0.19281558, -0.55839109, -0.98033269,\n",
       "        0.69761843, -0.38528139,  0.09100254, -0.78003356,  0.00536946,\n",
       "        0.24935393,  0.69882976,  0.46431241, -0.08097911, -0.3172921 ,\n",
       "       -0.61196327, -0.61805972,  0.17207311, -0.48975215,  0.50209577,\n",
       "       -0.07698986, -0.84554392,  0.51193583,  0.73959229, -0.73455325,\n",
       "        0.99277644, -0.32105996,  0.97739444, -0.5349879 , -0.61582095,\n",
       "        0.70073692,  0.93386887, -0.13661398, -0.77543508, -0.76229372,\n",
       "        0.38048385, -0.20023624,  0.89105727,  0.92365144,  0.18102864,\n",
       "       -0.13165751, -0.92808673, -0.68836567, -0.0932092 ,  0.20146793,\n",
       "       -0.66656045, -0.47168175, -0.69701693,  0.08434721,  0.14426864,\n",
       "        0.83748909,  0.00373143, -0.57018878,  0.12123802,  0.14634144,\n",
       "       -0.058621  ,  0.80694023,  0.5450291 ,  0.47633255,  0.43942184,\n",
       "       -0.73796167,  0.62728581,  0.74453942,  0.61414406, -0.06206018,\n",
       "        0.74018389, -0.81902466,  0.08556255,  0.96199198, -0.94844709,\n",
       "       -0.89473908,  0.89590064, -0.06560984,  0.33095512,  0.78455202,\n",
       "       -0.60201276,  0.4802172 , -0.31619348, -0.73531463, -0.50720078,\n",
       "       -0.887774  ,  0.01859671, -0.74614017, -0.81924365,  0.23968766,\n",
       "       -0.54908457, -0.21583501,  0.38374153,  0.91054123,  0.97703364,\n",
       "        0.97613204,  0.81612522,  0.86865748,  0.29115527,  0.80012796,\n",
       "        0.07357378, -0.85019403,  0.86530341, -0.33919473, -0.76090112,\n",
       "       -0.93096012,  0.38975704, -0.09418805,  0.60815265,  0.871679  ,\n",
       "        0.42174715, -0.57722592, -0.37055975,  0.07544228,  0.23354372,\n",
       "        0.16655081,  0.79018135,  0.35621584, -0.71800449, -0.89604091])"
      ]
     },
     "execution_count": 8,
     "metadata": {},
     "output_type": "execute_result"
    }
   ],
   "source": [
    "sent_vec('''\n",
    "    The Ctf4 protein has been shown to be a central member of the replication fork \n",
    "    and links the replicative MCM helicase and DNA polymerase α primase.\n",
    "''')"
   ]
  },
  {
   "cell_type": "code",
   "execution_count": 9,
   "metadata": {},
   "outputs": [],
   "source": [
    "def get_answer_id(answer):\n",
    "    return answer['document'].split('/')[-1]\n",
    "\n",
    "def get_pair_id(question, answer):\n",
    "    params = [\n",
    "        question['id'], # question id\n",
    "        get_answer_id(answer),\n",
    "        answer['beginSection'],\n",
    "        str(answer['offsetInBeginSection']),\n",
    "        answer['endSection'],\n",
    "        str(answer['offsetInEndSection'])\n",
    "    ]\n",
    "\n",
    "    return '-'.join(params)"
   ]
  },
  {
   "cell_type": "code",
   "execution_count": 10,
   "metadata": {},
   "outputs": [],
   "source": [
    "def build_pair(question, answer, trainset, is_answer, doc_related, bioSentVecCosSim):\n",
    "    '''Build a single QAPair object given its stats (is_answer, doc_related, bioSentVecCosSim).'''\n",
    "    \n",
    "    pair = {}\n",
    "    pair['id'] = get_pair_id(question, answer)\n",
    "    pair['questionId'] = question['id']\n",
    "    pair['passage'] = answer['text']\n",
    "    pair['trainset'] = f\"{trainset}b\"\n",
    "    pair['doc_url'] = answer['document']\n",
    "    pair['is_answer'] = is_answer\n",
    "    pair['doc_related'] = doc_related\n",
    "    pair['bioSentVecCosSim'] = bioSentVecCosSim\n",
    "    pair['beginSection'] = answer['beginSection']\n",
    "    pair['offsetInBeginSection'] = answer['offsetInBeginSection']\n",
    "    pair['endSection'] = answer['endSection']\n",
    "    pair['offsetInEndSection'] = answer['offsetInEndSection']\n",
    "    return pair"
   ]
  },
  {
   "cell_type": "markdown",
   "metadata": {},
   "source": [
    "### 1. True Pairs "
   ]
  },
  {
   "cell_type": "code",
   "execution_count": 11,
   "metadata": {},
   "outputs": [],
   "source": [
    "def get_qa_true_pairs(question, trainset):\n",
    "    '''Transform a BioASQ question into a QAPair gold object.'''    \n",
    "    pairs = []\n",
    "    \n",
    "    for answer in question['snippets']:\n",
    "        pairs.append(build_pair(question, answer, trainset, 1, 1, 1))\n",
    "        \n",
    "    return pairs"
   ]
  },
  {
   "cell_type": "code",
   "execution_count": 12,
   "metadata": {},
   "outputs": [
    {
     "name": "stdout",
     "output_type": "stream",
     "text": [
      "{   'beginSection': 'abstract',\n",
      "    'bioSentVecCosSim': 1,\n",
      "    'doc_related': 1,\n",
      "    'doc_url': 'http://www.ncbi.nlm.nih.gov/pubmed/23378035',\n",
      "    'endSection': 'abstract',\n",
      "    'id': '52bf1d3c03868f1b0600000d-23378035-abstract-164-abstract-481',\n",
      "    'is_answer': 1,\n",
      "    'offsetInBeginSection': 164,\n",
      "    'offsetInEndSection': 481,\n",
      "    'passage': 'Muenke syndrome is characterized by coronal craniosynostosis '\n",
      "               '(bilateral more often than unilateral), hearing loss, '\n",
      "               'developmental delay, and carpal and/or tarsal bone coalition. '\n",
      "               'Tarsal coalition is a distinct feature of Muenke syndrome and '\n",
      "               'has been reported since the initial description of the '\n",
      "               'disorder in the 1990s. ',\n",
      "    'questionId': '52bf1d3c03868f1b0600000d',\n",
      "    'trainset': '4b'}\n"
     ]
    }
   ],
   "source": [
    "true_pairs = []\n",
    "\n",
    "for (file, trainset) in files[:1]:\n",
    "    bioasq = json.load(open(file, \"r\"))\n",
    "    for question in bioasq['questions'][:10]:\n",
    "        true_pairs.extend(get_qa_true_pairs(question, trainset))\n",
    "        \n",
    "pp.pprint(true_pairs[0])"
   ]
  },
  {
   "cell_type": "markdown",
   "metadata": {},
   "source": [
    "### 2. False Easy Pairs"
   ]
  },
  {
   "cell_type": "code",
   "execution_count": 13,
   "metadata": {},
   "outputs": [],
   "source": [
    "def get_qa_false_easy(gold, n, threshold=0.01):\n",
    "    global true_pairs\n",
    "    '''Get n false-easy snippets from a true (gold) QA object.'''\n",
    "    original_n = n\n",
    "    \n",
    "    gold_sent = gold['passage']\n",
    "    \n",
    "    print(\"GOLD SENTENCE:\\n\\n\" + gold_sent + \"\\n\\n\")\n",
    "    print(\"FALSE EASY SENTENCES:\\n\")\n",
    "    false_easy = set()\n",
    "    \n",
    "    while n > 0:\n",
    "        rand_pair = true_pairs[np.random.randint(len(true_pairs))]\n",
    "        \n",
    "        if rand_pair['questionId'] != gold['questionId']:\n",
    "            gold_sent = gold['passage']\n",
    "            rand_sent = rand_pair['passage']\n",
    "            \n",
    "            s = abs(similarity(gold_sent, rand_sent))\n",
    "            \n",
    "            if s < threshold and rand_sent not in false_easy:\n",
    "                print(f\"{original_n - n + 1}. ({s})\\n'{rand_sent}'\\n\")\n",
    "                false_easy.add(rand_sent)\n",
    "                n -= 1\n",
    "                \n",
    "    return list(false_easy)"
   ]
  },
  {
   "cell_type": "code",
   "execution_count": 14,
   "metadata": {},
   "outputs": [
    {
     "name": "stdout",
     "output_type": "stream",
     "text": [
      "GOLD SENTENCE:\n",
      "\n",
      "Muenke syndrome is characterized by coronal craniosynostosis (bilateral more often than unilateral), hearing loss, developmental delay, and carpal and/or tarsal bone coalition. Tarsal coalition is a distinct feature of Muenke syndrome and has been reported since the initial description of the disorder in the 1990s. \n",
      "\n",
      "\n",
      "FALSE EASY SENTENCES:\n",
      "\n",
      "1. (0.018803117087473176)\n",
      "'Influence of the human cohesion establishment factor Ctf4/AND-1 on DNA replication.'\n",
      "\n",
      "2. (0.012641665898401433)\n",
      "'is study determined the effect of nonsteroidal anti-inflammatory drug (NSAID) administration on blood pressure in hypertensive patients taking hydrochlorothiazide (HCTZ). '\n",
      "\n",
      "3. (0.018683252230306535)\n",
      "'Using cell viability and fluorescent activated cell sorting analysis tests, we demonstrated that captopril inhibited the viability of LNM35 cells by inducing apoptosis, providing insight about the mechanisms underlying its antitumorigenic activities. In view of these experimental findings, we conclude that captopril could be a promising option for the treatment of lung cancer.'\n",
      "\n",
      "4. (0.005440061576665878)\n",
      "'Li-Fraumeni syndrome (LFS) is a highly penetrant, autosomal dominant, human familial cancer predisposition'\n",
      "\n",
      "5. (0.013010956892361536)\n",
      "'Here we show that SCF(Dia2) associates with the replisome progression complex (RPC) that assembles around the MCM2-7 helicase at DNA replication forks [6].'\n",
      "\n"
     ]
    }
   ],
   "source": [
    "false_easy = get_qa_false_easy(true_pairs[0], 5, threshold=0.02)"
   ]
  },
  {
   "cell_type": "markdown",
   "metadata": {},
   "source": [
    "### 3. False Hard Questions"
   ]
  },
  {
   "cell_type": "code",
   "execution_count": 93,
   "metadata": {},
   "outputs": [],
   "source": [
    "\n",
    "\n",
    "def get_qa_false_hard(gold, pairs, n, min_threshold, max_threshold=0.9):\n",
    "    '''Get n false-easy snippets from a true (gold) QA object.'''\n",
    "    original_n = n\n",
    "    \n",
    "    print(\"GOLD SENTENCE:\\n\\n\" + gold['passage'] + \"\\n\\n\")\n",
    "    print(\"FALSE HARD SENTENCES:\\n\")\n",
    "    \n",
    "    false_hard = set()\n",
    "    pairs_to_check = np.arange(len(pairs))\n",
    "    check = []\n",
    "    while n > 0 and len(pairs_to_check) > 0:\n",
    "        check_idx = np.random.randint(len(pairs_to_check))\n",
    "        idx = pairs_to_check[check_idx]\n",
    "        check.append(idx)\n",
    "        pairs_to_check = np.delete(pairs_to_check, check_idx)\n",
    "        rand_pair = pairs[idx]\n",
    "            \n",
    "        gold_sent = gold['passage']\n",
    "        rand_sent = rand_pair['passage']\n",
    "\n",
    "        s = abs(similarity(gold_sent, rand_sent))\n",
    "\n",
    "        if s > min_threshold and s < max_threshold and rand_sent not in false_hard:\n",
    "            print(f\"{original_n - n + 1}. ({s}) [{rand_pair['id'].split('-')[1]} {idx}]\\n'{rand_sent}'\\n\")\n",
    "            false_hard.add(rand_sent)\n",
    "            n -= 1\n",
    "    \n",
    "    if len(pairs_to_check) == 0:\n",
    "        print(\"Searching list was exhausted.\")\n",
    "        \n",
    "    return list(false_hard)"
   ]
  },
  {
   "cell_type": "code",
   "execution_count": 96,
   "metadata": {},
   "outputs": [
    {
     "name": "stdout",
     "output_type": "stream",
     "text": [
      "GOLD SENTENCE:\n",
      "\n",
      "Muenke syndrome is characterized by coronal craniosynostosis (bilateral more often than unilateral), hearing loss, developmental delay, and carpal and/or tarsal bone coalition. Tarsal coalition is a distinct feature of Muenke syndrome and has been reported since the initial description of the disorder in the 1990s. \n",
      "\n",
      "\n",
      "FALSE HARD SENTENCES:\n",
      "\n",
      "1. (0.12385855135789026) [23116225 213]\n",
      "'This review provides an overview of the efficacy and safety of antihypertensive therapy based on olmesartan medoxomil ± hydrochlorothiazide and amlodipine/olmesartan medoxomil in high-risk patient populations enrolled in studies that reported ambulatory BP endpoints'\n",
      "\n",
      "2. (0.10649297232912369) [23044018 24]\n",
      "'Muenke syndrome is an autosomal-dominant craniosynostosis syndrome characterized by unilateral or bilateral coronal craniosynostosis, hearing loss, intellectual disability, and relatively subtle limb findings such as carpal bone fusion and tarsal bone fusion'\n",
      "\n",
      "Searching list was exhausted.\n"
     ]
    }
   ],
   "source": [
    "false_hard = get_qa_false_hard(true_pairs[0], true_pairs, 5, min_threshold=0.1)"
   ]
  }
 ],
 "metadata": {
  "kernelspec": {
   "display_name": "Python 3",
   "language": "python",
   "name": "python3"
  },
  "language_info": {
   "codemirror_mode": {
    "name": "ipython",
    "version": 3
   },
   "file_extension": ".py",
   "mimetype": "text/x-python",
   "name": "python",
   "nbconvert_exporter": "python",
   "pygments_lexer": "ipython3",
   "version": "3.7.5"
  }
 },
 "nbformat": 4,
 "nbformat_minor": 4
}
