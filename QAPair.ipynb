{
 "cells": [
  {
   "cell_type": "markdown",
   "metadata": {},
   "source": [
    "# Dataset BioASQ: QAPair"
   ]
  },
  {
   "cell_type": "markdown",
   "metadata": {},
   "source": [
    "### 0. Initial setup (0)"
   ]
  },
  {
   "cell_type": "code",
   "execution_count": 471,
   "metadata": {},
   "outputs": [],
   "source": [
    "import json\n",
    "import sys\n",
    "sys.path.insert(0,'common/')\n",
    "import nlp_util\n",
    "from bs4 import BeautifulSoup\n",
    "import requests\n",
    "import sys,os,os.path\n",
    "import re\n",
    "import spacy\n",
    "import random\n",
    "import seaborn as sns\n",
    "import tqdm\n",
    "import pprint\n",
    "from scipy import stats\n",
    "import numpy as np\n",
    "import seaborn as sns\n",
    "from fuzzywuzzy import fuzz\n",
    "np.set_printoptions(precision=4)"
   ]
  },
  {
   "cell_type": "code",
   "execution_count": 473,
   "metadata": {},
   "outputs": [
    {
     "data": {
      "text/plain": [
       "[('gold_standard/BioASQ-trainingDataset4b.json', 4),\n",
       " ('gold_standard/BioASQ-trainingDataset5b.json', 5),\n",
       " ('gold_standard/BioASQ-trainingDataset6b.json', 6),\n",
       " ('gold_standard/BioASQ-trainingDataset7b.json', 7),\n",
       " ('gold_standard/BioASQ-trainingDataset8b.json', 8)]"
      ]
     },
     "execution_count": 473,
     "metadata": {},
     "output_type": "execute_result"
    }
   ],
   "source": [
    "biosent_path = '/data2/bioasq/embeddings/biosent_vect/BioSentVec_PubMed_MIMICIII-bigram_d700.bin'\n",
    "GOLD_PATH = 'gold_standard/'\n",
    "files = [(f\"{GOLD_PATH}BioASQ-trainingDataset{i}b.json\", i) for i in [4, 5, 6, 7, 8]]\n",
    "files"
   ]
  },
  {
   "cell_type": "markdown",
   "metadata": {},
   "source": [
    "### Dataset Preprocess Stats"
   ]
  },
  {
   "cell_type": "code",
   "execution_count": 278,
   "metadata": {},
   "outputs": [],
   "source": [
    "fuzzy_sim_threshold = 80\n",
    "question_count = 0\n",
    "question_pairs_count = 0\n",
    "qa_count_list = []\n",
    "for (file, trainset) in files:\n",
    "    bioasq = json.load(open(file, \"r\"))\n",
    "    for question in bioasq['questions']:\n",
    "        question_count += 1\n",
    "        len_a = 0\n",
    "        if 'snippets' in question:\n",
    "            len_a = len([answer for answer in question['snippets']])\n",
    "            question_pairs_count += len_a\n",
    "        qa_count_list.append(len_a)"
   ]
  },
  {
   "cell_type": "code",
   "execution_count": 279,
   "metadata": {},
   "outputs": [
    {
     "name": "stdout",
     "output_type": "stream",
     "text": [
      "# questions 11347, # pairs 173253\n",
      "# Stats answers per question: \n",
      "DescribeResult(nobs=11347, minmax=(0, 126), mean=15.26861725566229, variance=193.7709549272643, skewness=2.3711926050954735, kurtosis=9.238227180052318)\n",
      "# question without answer 21\n"
     ]
    }
   ],
   "source": [
    "print('# questions {}, # pairs {}'.format(question_count,question_pairs_count))\n",
    "print('# Stats answers per question: ')\n",
    "print(stats.describe(qa_count_list))\n",
    "print('# question without answer {}'.format(len(qa_count_list)-np.count_nonzero(qa_count_list)) )"
   ]
  },
  {
   "cell_type": "markdown",
   "metadata": {},
   "source": [
    "### Preprocess Dataset "
   ]
  },
  {
   "cell_type": "code",
   "execution_count": 280,
   "metadata": {},
   "outputs": [],
   "source": [
    "nlp = spacy.load(\"en_core_web_sm\")"
   ]
  },
  {
   "cell_type": "code",
   "execution_count": 281,
   "metadata": {},
   "outputs": [],
   "source": [
    "pp = pprint.PrettyPrinter(indent=4)"
   ]
  },
  {
   "cell_type": "code",
   "execution_count": 476,
   "metadata": {},
   "outputs": [
    {
     "name": "stdout",
     "output_type": "stream",
     "text": [
      "model successfully loaded\n"
     ]
    }
   ],
   "source": [
    "import sent2vec\n",
    "from nltk import word_tokenize\n",
    "from nltk.corpus import stopwords\n",
    "from string import punctuation\n",
    "from scipy.spatial import distance\n",
    "\n",
    "model = sent2vec.Sent2vecModel()\n",
    "try:\n",
    "    model.load_model(biosent_path)\n",
    "    print('biosentvec model successfully loaded')\n",
    "except Exception as e:\n",
    "    print(e)"
   ]
  },
  {
   "cell_type": "code",
   "execution_count": 477,
   "metadata": {},
   "outputs": [],
   "source": [
    "stop_words = set(stopwords.words('english'))\n",
    "def biosent_preprocess(text):\n",
    "    text = text.replace('/', ' / ')\n",
    "    text = text.replace('.-', ' .- ')\n",
    "    text = text.replace('.', ' . ')\n",
    "    text = text.replace('\\'', ' \\' ')\n",
    "    text = text.lower()\n",
    "\n",
    "    tokens = [token for token in word_tokenize(text) if token not in punctuation and token not in stop_words]\n",
    "\n",
    "    return ' '.join(tokens)"
   ]
  },
  {
   "cell_type": "code",
   "execution_count": 486,
   "metadata": {},
   "outputs": [],
   "source": [
    "def biosent_similarity(sent1, sent2):\n",
    "    sentence_1 = biosent_preprocess(sent1)\n",
    "    sentence_vector_1 = model.embed_sentence(sentence_1)\n",
    "    sentence_2 = biosent_preprocess(sent2)\n",
    "    sentence_vector_2 = model.embed_sentence(sentence_2)\n",
    "    cosine_sim = 1 - distance.cosine(sentence_vector_1, sentence_vector_2)\n",
    "    return cosine_sim"
   ]
  },
  {
   "cell_type": "code",
   "execution_count": 489,
   "metadata": {},
   "outputs": [
    {
     "data": {
      "text/plain": [
       "1.0"
      ]
     },
     "execution_count": 489,
     "metadata": {},
     "output_type": "execute_result"
    }
   ],
   "source": [
    "biosent_similarity('test','test')"
   ]
  },
  {
   "cell_type": "code",
   "execution_count": 284,
   "metadata": {},
   "outputs": [],
   "source": [
    "def get_answer_id(answer):\n",
    "    return answer['document'].split('/')[-1]\n",
    "\n",
    "def get_pair_id(question, answer):\n",
    "    params = [\n",
    "        question['id'], # question id\n",
    "        get_answer_id(answer),\n",
    "        answer['beginSection'],\n",
    "        str(answer['offsetInBeginSection']),\n",
    "        answer['endSection'],\n",
    "        str(answer['offsetInEndSection'])\n",
    "    ]\n",
    "\n",
    "    return '-'.join(params)"
   ]
  },
  {
   "cell_type": "code",
   "execution_count": 285,
   "metadata": {},
   "outputs": [],
   "source": [
    "def build_pair(question, passage, trainset, is_answer, doc_related, bioSentVecCosSim):\n",
    "    '''Build a single QAPair object given its stats (is_answer, doc_related, bioSentVecCosSim).'''\n",
    "    \n",
    "    pair = {}\n",
    "    pair['pairId'] = get_pair_id(question, passage)\n",
    "    pair['questionId'] = question['id']\n",
    "    pair['question'] = question['body']\n",
    "    pair['passage'] = passage['text']\n",
    "    pair['trainset'] = f\"{trainset}b\"\n",
    "    pair['doc_url'] = passage['document']\n",
    "    pair['is_answer'] = is_answer\n",
    "    pair['doc_related'] = doc_related\n",
    "    pair['bioSentVecCosSim'] = bioSentVecCosSim\n",
    "    pair['beginSection'] = passage['beginSection']\n",
    "    pair['offsetInBeginSection'] = passage['offsetInBeginSection']\n",
    "    pair['endSection'] = passage['endSection']\n",
    "    pair['offsetInEndSection'] = passage['offsetInEndSection']\n",
    "    return pair"
   ]
  },
  {
   "cell_type": "code",
   "execution_count": 430,
   "metadata": {},
   "outputs": [],
   "source": [
    "import itertools\n",
    "from operator import itemgetter\n",
    "\n",
    "#with 2 deviations we endup with 95% of the data\n",
    "def mad_stats_filter(data, deviations=2):\n",
    "    data = np.array(data)\n",
    "    d = np.abs(data - np.median(data))\n",
    "    med_abs_dev = np.median(d)\n",
    "    s = d / med_abs_dev\n",
    "    filtered = data[s < deviations]\n",
    "    return filtered\n",
    "\n",
    "def qa_pair_stats(pairs):\n",
    "    data_stats = {}\n",
    "    len_seq_q = []\n",
    "    num_terms_q = []\n",
    "    len_seq_a = []\n",
    "    num_terms_a = []\n",
    "    \n",
    "    sorted_pairs = sorted(pairs, key=itemgetter('questionId'))\n",
    "    for key, value in itertools.groupby(sorted_pairs, key=itemgetter('questionId')):\n",
    "        for i, a in enumerate(value):\n",
    "            if a['beginSection'] == 'abstract':\n",
    "                if i == 0:\n",
    "                    len_seq_q.append(len(a['question']))\n",
    "                    num_terms_q.append(len(nlp_util.tokenize(a['question'])))\n",
    "                len_seq_a.append(len(a['passage']))\n",
    "                num_terms_a.append(len(nlp_util.tokenize(a['passage'])))\n",
    "    \n",
    "    data_stats['seq_a'] = len_seq_a\n",
    "    data_stats['seq_q'] = len_seq_q\n",
    "    data_stats['terms_a'] = num_terms_a\n",
    "    data_stats['terms_q'] = num_terms_q\n",
    "    data_stats['len_seq_q_stats'] = stats.describe(len_seq_q)\n",
    "    data_stats['terms_q_stats'] = stats.describe(num_terms_q)\n",
    "    data_stats['len_seq_a_stats'] = stats.describe(len_seq_a)\n",
    "    data_stats['terms_a_stats'] = stats.describe(num_terms_a)\n",
    "    #mad filtering (Median absolute deviation)\n",
    "    data_stats['mad_terms_q_stats'] = stats.describe(mad_stats_filter(num_terms_q))\n",
    "    data_stats['mad_terms_a_stats'] = stats.describe(mad_stats_filter(num_terms_a))\n",
    "    \n",
    "    return data_stats\n",
    "\n",
    "data_stats = qa_pair_stats(positive_pairs)"
   ]
  },
  {
   "cell_type": "code",
   "execution_count": 431,
   "metadata": {},
   "outputs": [
    {
     "data": {
      "text/plain": [
       "DescribeResult(nobs=2064, minmax=(13, 215), mean=58.32897286821706, variance=546.5824660312558, skewness=0.9218530924755453, kurtosis=1.9204553219796932)"
      ]
     },
     "execution_count": 431,
     "metadata": {},
     "output_type": "execute_result"
    }
   ],
   "source": [
    "data_stats['len_seq_q_stats']"
   ]
  },
  {
   "cell_type": "code",
   "execution_count": 432,
   "metadata": {},
   "outputs": [
    {
     "data": {
      "text/plain": [
       "Text(0.5, 1.0, 'question sequence lenght')"
      ]
     },
     "execution_count": 432,
     "metadata": {},
     "output_type": "execute_result"
    },
    {
     "data": {
      "image/png": "[encoded data removed]",
      "text/plain": [
       "<Figure size 432x288 with 1 Axes>"
      ]
     },
     "metadata": {
      "needs_background": "light"
     },
     "output_type": "display_data"
    }
   ],
   "source": [
    "sns.distplot(data_stats['seq_q']).set_title('question sequence lenght')"
   ]
  },
  {
   "cell_type": "code",
   "execution_count": 433,
   "metadata": {},
   "outputs": [
    {
     "data": {
      "text/plain": [
       "DescribeResult(nobs=28452, minmax=(4, 2467), mean=276.3698861239983, variance=35446.741461404905, skewness=3.3545879786157573, kurtosis=18.497114868482537)"
      ]
     },
     "execution_count": 433,
     "metadata": {},
     "output_type": "execute_result"
    }
   ],
   "source": [
    "data_stats['len_seq_a_stats']"
   ]
  },
  {
   "cell_type": "code",
   "execution_count": 434,
   "metadata": {},
   "outputs": [
    {
     "data": {
      "text/plain": [
       "Text(0.5, 1.0, 'answer passage sequence lenght')"
      ]
     },
     "execution_count": 434,
     "metadata": {},
     "output_type": "execute_result"
    },
    {
     "data": {
      "image/png": "[encoded data removed]",
      "text/plain": [
       "<Figure size 432x288 with 1 Axes>"
      ]
     },
     "metadata": {
      "needs_background": "light"
     },
     "output_type": "display_data"
    }
   ],
   "source": [
    "sns.distplot(data_stats['seq_a']).set_title('answer passage sequence lenght')"
   ]
  },
  {
   "cell_type": "code",
   "execution_count": 435,
   "metadata": {},
   "outputs": [
    {
     "data": {
      "text/plain": [
       "DescribeResult(nobs=2064, minmax=(2, 31), mean=8.944767441860465, variance=12.018276048653462, skewness=0.9292484385888287, kurtosis=1.9826278516699691)"
      ]
     },
     "execution_count": 435,
     "metadata": {},
     "output_type": "execute_result"
    }
   ],
   "source": [
    "data_stats['terms_q_stats']"
   ]
  },
  {
   "cell_type": "code",
   "execution_count": 436,
   "metadata": {},
   "outputs": [
    {
     "data": {
      "text/plain": [
       "DescribeResult(nobs=1494, minmax=(6, 12), mean=8.700133868808567, variance=3.2924715158916538, skewness=0.20393552589809935, kurtosis=-0.9651740964201565)"
      ]
     },
     "execution_count": 436,
     "metadata": {},
     "output_type": "execute_result"
    }
   ],
   "source": [
    "data_stats['mad_terms_q_stats']"
   ]
  },
  {
   "cell_type": "code",
   "execution_count": 437,
   "metadata": {},
   "outputs": [
    {
     "data": {
      "text/plain": [
       "Text(0.5, 1.0, 'question number of terms')"
      ]
     },
     "execution_count": 437,
     "metadata": {},
     "output_type": "execute_result"
    },
    {
     "data": {
      "image/png": "[encoded data removed]",
      "text/plain": [
       "<Figure size 432x288 with 1 Axes>"
      ]
     },
     "metadata": {
      "needs_background": "light"
     },
     "output_type": "display_data"
    }
   ],
   "source": [
    "sns.distplot(data_stats['terms_q']).set_title('question number of terms')"
   ]
  },
  {
   "cell_type": "code",
   "execution_count": 438,
   "metadata": {},
   "outputs": [
    {
     "data": {
      "text/plain": [
       "DescribeResult(nobs=28452, minmax=(1, 401), mean=41.20715591171095, variance=835.659169205173, skewness=3.4883836945044067, kurtosis=20.443476597868415)"
      ]
     },
     "execution_count": 438,
     "metadata": {},
     "output_type": "execute_result"
    }
   ],
   "source": [
    "data_stats['terms_a_stats']"
   ]
  },
  {
   "cell_type": "code",
   "execution_count": 439,
   "metadata": {},
   "outputs": [
    {
     "data": {
      "text/plain": [
       "DescribeResult(nobs=22257, minmax=(14, 56), mean=33.27820460978568, variance=104.70243336880873, skewness=0.1518787419807237, kurtosis=-0.6608115144183802)"
      ]
     },
     "execution_count": 439,
     "metadata": {},
     "output_type": "execute_result"
    }
   ],
   "source": [
    "data_stats['mad_terms_a_stats']"
   ]
  },
  {
   "cell_type": "code",
   "execution_count": 440,
   "metadata": {},
   "outputs": [
    {
     "data": {
      "text/plain": [
       "Text(0.5, 1.0, 'answer passage number of terms')"
      ]
     },
     "execution_count": 440,
     "metadata": {},
     "output_type": "execute_result"
    },
    {
     "data": {
      "image/png": "[encoded data removed]",
      "text/plain": [
       "<Figure size 432x288 with 1 Axes>"
      ]
     },
     "metadata": {
      "needs_background": "light"
     },
     "output_type": "display_data"
    }
   ],
   "source": [
    "sns.distplot(data_stats['terms_a']).set_title('answer passage number of terms')"
   ]
  },
  {
   "cell_type": "markdown",
   "metadata": {},
   "source": [
    "### 1. Positive Pairs "
   ]
  },
  {
   "cell_type": "code",
   "execution_count": 299,
   "metadata": {},
   "outputs": [],
   "source": [
    "import copy\n",
    "pos_question_pass_dict = {}\n",
    "\n",
    "def repeated_passage(qp_dict, passage, question_id):\n",
    "    if question_id not in qp_dict:\n",
    "        qp_dict[question_id] = [passage.lower()]\n",
    "        return False\n",
    "    for p in qp_dict[question_id]:\n",
    "        score = fuzz.ratio(p.lower(),passage)\n",
    "        if score > fuzzy_sim_threshold:\n",
    "            #print('Found a repeated passage score: {}'.format(score))\n",
    "            #print('passage repeated: \\n\\n{} \\n\\n{}\\n'.format(p.lower(),passage.lower()))\n",
    "            return True\n",
    "    qp_dict[question_id].append(passage.lower())\n",
    "    return False\n",
    "            \n",
    "repeated_passages = 0\n",
    "def get_qa_positive_pairs(question, trainset):\n",
    "    '''Transform a BioASQ question into a QAPair gold object.'''    \n",
    "    pairs = []\n",
    "    global repeated_passages\n",
    "    try:\n",
    "        if 'snippets' in question:\n",
    "            for idx_pass, passage in enumerate(question['snippets']):\n",
    "                if repeated_passage(pos_question_pass_dict, passage['text'], question['id']) is False:\n",
    "                    pairs.append(build_pair(question, passage, trainset, \n",
    "                                            is_answer=1, doc_related=1, bioSentVecCosSim=1))\n",
    "                else:\n",
    "                    repeated_passages += 1\n",
    "                    #print('qid: {}, trainset: {}, idx_passage: {}\\n\\n\\n\\n'.format(question['id'],trainset,idx_pass))\n",
    "    except Exception as e:\n",
    "        print('Error processing question in trainset {} question:'.format(trainset))\n",
    "        pp.pprint(question)\n",
    "        print(e)\n",
    "        return\n",
    "    return pairs"
   ]
  },
  {
   "cell_type": "code",
   "execution_count": 303,
   "metadata": {},
   "outputs": [
    {
     "name": "stderr",
     "output_type": "stream",
     "text": [
      "100%|██████████| 1307/1307 [03:26<00:00,  6.32it/s]\n",
      "100%|██████████| 1799/1799 [05:05<00:00,  5.90it/s]\n",
      "100%|██████████| 2251/2251 [04:35<00:00,  8.16it/s]\n",
      "100%|██████████| 2747/2747 [05:14<00:00,  8.72it/s]\n",
      "100%|██████████| 3243/3243 [05:44<00:00,  9.43it/s]\n",
      "100%|██████████| 5/5 [24:07<00:00, 289.51s/it]"
     ]
    },
    {
     "name": "stdout",
     "output_type": "stream",
     "text": [
      "{   'beginSection': 'abstract',\n",
      "    'bioSentVecCosSim': 1,\n",
      "    'doc_related': 1,\n",
      "    'doc_url': 'http://www.ncbi.nlm.nih.gov/pubmed/11772304',\n",
      "    'endSection': 'abstract',\n",
      "    'is_answer': 1,\n",
      "    'offsetInBeginSection': 475,\n",
      "    'offsetInEndSection': 760,\n",
      "    'pairId': '52bf209303868f1b0600001a-11772304-abstract-475-abstract-760',\n",
      "    'passage': 'Alteplase is most effective when given early in MI and is '\n",
      "               'probably ineffective when given 12 h after the onset of '\n",
      "               'symptoms. The effectiveness of alteplase in MI can be '\n",
      "               'increased by front loading with a bolus of 15 mg, followed by '\n",
      "               'an infusion of 50 mg over 30 min and 35 mg over 60 min.',\n",
      "    'question': 'What are the indications for alteplase?',\n",
      "    'questionId': '52bf209303868f1b0600001a',\n",
      "    'trainset': '4b'}\n"
     ]
    },
    {
     "name": "stderr",
     "output_type": "stream",
     "text": [
      "\n"
     ]
    }
   ],
   "source": [
    "positive_pairs = []\n",
    "import tqdm\n",
    "for (file, trainset) in tqdm.tqdm(files, position=0):\n",
    "    bioasq = json.load(open(file, \"r\"))\n",
    "    for question in tqdm.tqdm(bioasq['questions'], position=0):\n",
    "        positive_pairs.extend(get_qa_positive_pairs(question, trainset))\n",
    "\n",
    "pp.pprint(positive_pairs[0])"
   ]
  },
  {
   "cell_type": "code",
   "execution_count": 305,
   "metadata": {},
   "outputs": [
    {
     "name": "stdout",
     "output_type": "stream",
     "text": [
      "Number of positive pairs: 32944, repeated passages 157197\n"
     ]
    }
   ],
   "source": [
    "print('Number of positive pairs: {}, repeated passages {}'.format(len(positive_pairs),repeated_passages) )"
   ]
  },
  {
   "cell_type": "code",
   "execution_count": 306,
   "metadata": {},
   "outputs": [],
   "source": [
    "import json\n",
    "with open('generated_pairs/positive_pairs.json', 'w') as pos:\n",
    "    json.dump(positive_pairs, pos)"
   ]
  },
  {
   "cell_type": "code",
   "execution_count": 559,
   "metadata": {},
   "outputs": [],
   "source": [
    "#load\n",
    "positive_pairs = json.load(open('generated_pairs/positive_pairs.json', 'r'))"
   ]
  },
  {
   "cell_type": "markdown",
   "metadata": {},
   "source": [
    "#### Find Hard Negative threshold\n"
   ]
  },
  {
   "cell_type": "code",
   "execution_count": null,
   "metadata": {},
   "outputs": [],
   "source": [
    "def positive_biosent_scores(pairs):\n",
    "    sim_scores = []\n",
    "    for p in tqdm.tqdm(pairs, position=0):\n",
    "        score = biosent_similarity(p['passage'],p['question'])\n",
    "        if np.isnan(score):\n",
    "            print('pair biosentvec cos similarity is nan \\n{}, \\n\\n{}\\n'.format(p['question'],p['passage']))\n",
    "        else:\n",
    "            sim_scores.append(score)\n",
    "    return sim_scores"
   ]
  },
  {
   "cell_type": "code",
   "execution_count": null,
   "metadata": {},
   "outputs": [],
   "source": [
    "biosent_postives_scores = positive_biosent_scores(positive_pairs)"
   ]
  },
  {
   "cell_type": "code",
   "execution_count": 562,
   "metadata": {},
   "outputs": [
    {
     "name": "stderr",
     "output_type": "stream",
     "text": [
      "/home/aerossom/.local/lib/python3.6/site-packages/scipy/stats/stats.py:1713: FutureWarning: Using a non-tuple sequence for multidimensional indexing is deprecated; use `arr[tuple(seq)]` instead of `arr[seq]`. In the future this will be interpreted as an array index, `arr[np.array(seq)]`, which will result either in an error or a different result.\n",
      "  return np.add.reduce(sorted[indexer] * weights, axis=axis) / sumval\n"
     ]
    },
    {
     "data": {
      "text/plain": [
       "Text(0.5, 1.0, 'positive pairs cosine similarity')"
      ]
     },
     "execution_count": 562,
     "metadata": {},
     "output_type": "execute_result"
    },
    {
     "data": {
      "image/png": "[encoded data removed]",
      "text/plain": [
       "<Figure size 432x288 with 1 Axes>"
      ]
     },
     "metadata": {
      "needs_background": "light"
     },
     "output_type": "display_data"
    }
   ],
   "source": [
    "sns.distplot(biosent_postives_scores).set_title('positive pairs cosine similarity')"
   ]
  },
  {
   "cell_type": "markdown",
   "metadata": {},
   "source": [
    "### 2. Negative Hard Questions"
   ]
  },
  {
   "cell_type": "code",
   "execution_count": 593,
   "metadata": {},
   "outputs": [],
   "source": [
    "import ranking\n",
    "import datetime\n",
    "import time\n",
    "from elasticsearch import Elasticsearch\n",
    "import bioasq_util\n",
    "import importlib\n",
    "importlib.reload(bioasq_util)\n",
    "\n",
    "ts = datetime.datetime.fromtimestamp(int(time.time())).strftime('%d-%m-%Y_%H-%M')\n",
    "os_params = {\n",
    "    'es_host': os.environ.get('es_host', '168.176.36.10:9200'),\n",
    "    'es_index': os.environ.get('es_index', '2018_pubmed_baseline_title_abs_mesh'),\n",
    "}\n",
    "bioasq_util.es = Elasticsearch(hosts=[os_params['es_host']])\n",
    "index_name = os_params['es_index']\n",
    "doc_relative_url = 'http://www.ncbi.nlm.nih.gov/pubmed/'\n",
    "\n",
    "def remove_similar_chunks(passages, gold_passages, fuzzy_sim_th=40):\n",
    "    new_passages = []\n",
    "    for p in passages:\n",
    "        repeated = False\n",
    "        for gp in gold_passages:\n",
    "            ratio = fuzz.partial_ratio(p['text'], gp)\n",
    "            if ratio > fuzzy_sim_th:\n",
    "                repeated = True\n",
    "                #print('\\n\\nremoved {} \\n\\n ------ is similar ({}) to: {}\\n'.format(p['text'],ratio,gp))\n",
    "                break\n",
    "        if repeated == False:\n",
    "            new_passages.append(p)\n",
    "    return new_passages\n",
    "\n",
    "#the parameters to exclude passages must be based on positive stats, we use\n",
    "#the robust measure of variability MAD to filterout passages minmax=(13, 55)\n",
    "def extract_neg_doc_passages(doc, gold_passages, minmax_terms=(13, 55)):\n",
    "    doc_id = doc.replace(doc_relative_url,'')\n",
    "    doc_tuple = bioasq_util.get_doc(doc_id, index_name, remove_tags=True)\n",
    "    if doc_tuple is None:\n",
    "        return [],[]\n",
    "    doc_id, doc_title, doc_abstract = doc_tuple\n",
    "    #remove gold passages\n",
    "    for gp in gold_passages:\n",
    "        doc_abstract = doc_abstract.replace(gp, '')\n",
    "        doc_title = doc_title.replace(gp, '')\n",
    "    chunks_title = ranking.split_chunks(doc_title)\n",
    "    chunks_abstract = ranking.split_chunks(doc_abstract)\n",
    "    #remove fuzzy similar togold passages in abstract\n",
    "    chunks_abstract = remove_similar_chunks(chunks_abstract, gold_passages)\n",
    "    #remove passages out of positive stat behaviour\n",
    "    chunks_abstract = [ x for x in chunks_abstract\n",
    "                           if (minmax_terms[1] > len(nlp_util.tokenize(x['text'])) > minmax_terms[0]) ]\n",
    "    return chunks_title, chunks_abstract"
   ]
  },
  {
   "cell_type": "code",
   "execution_count": 594,
   "metadata": {},
   "outputs": [],
   "source": [
    "gold_passages = ['Iron deficiency is common in pregnancy, postpartum, inflammatory bowel disease, chronic kidney disease, chronic heart failure, heavy uterine bleeding, cancer and following surgery. We estimate the budget impact (BI) on the Swiss mandatory health insurance associated with substituting iron sucrose (standard) with ferric carboxymaltose (new treatment) using real-life data.']\n",
    "title, abst = extract_neg_doc_passages('http://www.ncbi.nlm.nih.gov/pubmed/20301588',gold_passages)\n",
    "#filter passages that are not similar to question\n",
    "#chunks_abstract =  [ x for x in chunks_abstract\n",
    "#                           if (biosent_similarity('test','test') len(nlp_util.tokenize(x['text'])) > minmax_terms[0]) ]\n",
    "#print(abst)"
   ]
  },
  {
   "cell_type": "code",
   "execution_count": 595,
   "metadata": {},
   "outputs": [],
   "source": [
    "import traceback"
   ]
  },
  {
   "cell_type": "code",
   "execution_count": 602,
   "metadata": {},
   "outputs": [],
   "source": [
    "def get_hard_negative_pairs(question, trainset, biosent_sim_th=0.3):\n",
    "    pairs = []\n",
    "    gold_passages = []\n",
    "    try:\n",
    "        #get gold passages\n",
    "        if 'snippets' in question:\n",
    "            for idx_pass, passage in enumerate(question['snippets']):\n",
    "                gold_passages.append(passage['text'])\n",
    "        #extract passages from related documents\n",
    "        if 'documents' in question:\n",
    "            for idx_doc, doc in enumerate(question['documents']):\n",
    "                #extract title and abstract passage keeping similar positive stats\n",
    "                title, abst = extract_neg_doc_passages(doc,gold_passages)\n",
    "                # validate if the pair is close to the question based on positive biosentvec threshold\n",
    "                for p in abst:\n",
    "                    score = biosent_similarity(p['text'],question['body'])\n",
    "                    if score > biosent_sim_th:\n",
    "                        p['document'] = doc\n",
    "                        p['endSection'] = p['beginSection'] = 'abstract'\n",
    "                        pairs.append(build_pair(question, p, trainset, \n",
    "                                            is_answer=0, doc_related=1, bioSentVecCosSim=score))\n",
    "                for p in title:\n",
    "                    score = biosent_similarity(p['text'],question['body'])\n",
    "                    if score > biosent_sim_th:\n",
    "                        p['document'] = doc\n",
    "                        p['endSection'] = p['beginSection'] = 'title'\n",
    "                        pairs.append(build_pair(question, p, trainset, \n",
    "                                            is_answer=0, doc_related=1, bioSentVecCosSim=score))\n",
    "    except Exception as e:\n",
    "        print('Error processing question in trainset {} question:'.format(trainset))\n",
    "        pp.pprint(question)\n",
    "        traceback.print_exc()\n",
    "        return\n",
    "    return pairs"
   ]
  },
  {
   "cell_type": "code",
   "execution_count": 607,
   "metadata": {},
   "outputs": [],
   "source": [
    "\"\"\"gold_passages_t1 = ['Muenke syndrome is an autosomal dominant disorder characterized by coronal suture craniosynostosis, hearing loss, developmental delay, carpal and tarsal fusions, and the presence of the Pro250Arg mutation in the FGFR3 gene']\n",
    "p2 = extract_neg_doc_passages('23378035', gold_passages_t1)\n",
    "print(p2)\"\"\";"
   ]
  },
  {
   "cell_type": "code",
   "execution_count": 619,
   "metadata": {},
   "outputs": [
    {
     "name": "stderr",
     "output_type": "stream",
     "text": [
      " 69%|██████▉   | 1899/2747 [4:49:11<3:11:21, 13.54s/it]  Traceback (most recent call last):\n",
      "  File \"<ipython-input-602-fb8b8ef4c48d>\", line 13, in get_hard_negative_pairs\n",
      "    title, abst = extract_neg_doc_passages(doc,gold_passages)\n",
      "  File \"<ipython-input-593-e00c503c1e0e>\", line 43, in extract_neg_doc_passages\n",
      "    doc_title = doc_title.replace(gp, '')\n",
      "AttributeError: 'NoneType' object has no attribute 'replace'\n",
      " 69%|██████▉   | 1901/2747 [4:49:12<2:14:41,  9.55s/it]"
     ]
    },
    {
     "name": "stdout",
     "output_type": "stream",
     "text": [
      "Error processing question in trainset 7 question:\n",
      "{   'body': 'Has whole exome sequencing been performed in Alzheimer patients?',\n",
      "    'documents': [   'http://www.ncbi.nlm.nih.gov/pubmed/22153900',\n",
      "                     'http://www.ncbi.nlm.nih.gov/pubmed/23237904',\n",
      "                     'http://www.ncbi.nlm.nih.gov/pubmed/24958194',\n",
      "                     'http://www.ncbi.nlm.nih.gov/pubmed/27822510',\n",
      "                     'http://www.ncbi.nlm.nih.gov/pubmed/22472873',\n",
      "                     'http://www.ncbi.nlm.nih.gov/pubmed/26522186'],\n",
      "    'exact_answer': 'yes',\n",
      "    'id': '58bbb8ae22d3005309000018',\n",
      "    'ideal_answer': [   'Yes, numerous whole exome sequencing studies of '\n",
      "                        'ALzheimer patients have been conducted.'],\n",
      "    'snippets': [   {   'beginSection': 'title',\n",
      "                        'document': 'http://www.ncbi.nlm.nih.gov/pubmed/26522186',\n",
      "                        'endSection': 'title',\n",
      "                        'offsetInBeginSection': 0,\n",
      "                        'offsetInEndSection': 130,\n",
      "                        'text': 'Pilot whole-exome sequencing of a German '\n",
      "                                \"early-onset Alzheimer's disease cohort \"\n",
      "                                'reveals a substantial frequency of PSEN2 '\n",
      "                                'variants.'},\n",
      "                    {   'beginSection': 'abstract',\n",
      "                        'document': 'http://www.ncbi.nlm.nih.gov/pubmed/27822510',\n",
      "                        'endSection': 'abstract',\n",
      "                        'offsetInBeginSection': 129,\n",
      "                        'offsetInEndSection': 304,\n",
      "                        'text': 'We performed whole-exome sequencing in '\n",
      "                                'early-onset Alzheimer disease (EOAD) and '\n",
      "                                'late-onset Alzheimer disease (LOAD) families '\n",
      "                                'followed by functional studies of select '\n",
      "                                'variants.'},\n",
      "                    {   'beginSection': 'abstract',\n",
      "                        'document': 'http://www.ncbi.nlm.nih.gov/pubmed/24958194',\n",
      "                        'endSection': 'abstract',\n",
      "                        'offsetInBeginSection': 202,\n",
      "                        'offsetInEndSection': 480,\n",
      "                        'text': 'Whole-exome sequencing revealed a nonsense '\n",
      "                                'mutation in PRNP (NM_000311, c.C478T; '\n",
      "                                'p.Q160*; rs80356711) associated with '\n",
      "                                'homozygosity for the V allele at position 129 '\n",
      "                                'of the protein, further highlighting how very '\n",
      "                                'similar genotypes in PRNP result in '\n",
      "                                'strikingly different phenotypes.'},\n",
      "                    {   'beginSection': 'abstract',\n",
      "                        'document': 'http://www.ncbi.nlm.nih.gov/pubmed/23237904',\n",
      "                        'endSection': 'abstract',\n",
      "                        'offsetInBeginSection': 0,\n",
      "                        'offsetInEndSection': 293,\n",
      "                        'text': \"In the search for new genes in Alzheimer's \"\n",
      "                                'disease, classic linkage-based and '\n",
      "                                'candidate-gene-based association studies have '\n",
      "                                'been supplanted by exome sequencing, '\n",
      "                                'genome-wide sequencing (for mendelian forms '\n",
      "                                \"of Alzheimer's disease), and genome-wide \"\n",
      "                                'association studies (for non-mendelian '\n",
      "                                'forms). '},\n",
      "                    {   'beginSection': 'abstract',\n",
      "                        'document': 'http://www.ncbi.nlm.nih.gov/pubmed/22153900',\n",
      "                        'endSection': 'abstract',\n",
      "                        'offsetInBeginSection': 361,\n",
      "                        'offsetInEndSection': 493,\n",
      "                        'text': 'We performed whole exome sequencing in a '\n",
      "                                'Turkish patient clinically diagnosed with '\n",
      "                                \"Alzheimer's disease from a consanguineous \"\n",
      "                                'family '},\n",
      "                    {   'beginSection': 'abstract',\n",
      "                        'document': 'http://www.ncbi.nlm.nih.gov/pubmed/22472873',\n",
      "                        'endSection': 'abstract',\n",
      "                        'offsetInBeginSection': 0,\n",
      "                        'offsetInEndSection': 322,\n",
      "                        'text': 'Performing exome sequencing in 14 autosomal '\n",
      "                                'dominant early-onset Alzheimer disease '\n",
      "                                '(ADEOAD) index cases without mutation on '\n",
      "                                'known genes (amyloid precursor protein (APP), '\n",
      "                                'presenilin1 (PSEN1) and presenilin2 (PSEN2)), '\n",
      "                                'we found that in five patients, the SORL1 '\n",
      "                                'gene harbored unknown nonsense (n=1) or '\n",
      "                                'missense (n=4) mutations'}],\n",
      "    'type': 'yesno'}\n"
     ]
    },
    {
     "name": "stderr",
     "output_type": "stream",
     "text": [
      " 78%|███████▊  | 2155/2747 [5:27:25<47:32,  4.82s/it]  Traceback (most recent call last):\n",
      "  File \"<ipython-input-602-fb8b8ef4c48d>\", line 13, in get_hard_negative_pairs\n",
      "    title, abst = extract_neg_doc_passages(doc,gold_passages)\n",
      "  File \"<ipython-input-593-e00c503c1e0e>\", line 43, in extract_neg_doc_passages\n",
      "    doc_title = doc_title.replace(gp, '')\n",
      "AttributeError: 'NoneType' object has no attribute 'replace'\n",
      " 78%|███████▊  | 2156/2747 [5:27:33<56:11,  5.70s/it]"
     ]
    },
    {
     "name": "stdout",
     "output_type": "stream",
     "text": [
      "Error processing question in trainset 7 question:\n",
      "{   'body': 'How are Arboviruses transmitted?',\n",
      "    'concepts': [   'https://www.nlm.nih.gov/cgi/mesh/2017/MB_cgi?field=uid&exact=Find+Exact+Term&term=D007303',\n",
      "                    'https://www.nlm.nih.gov/cgi/mesh/2017/MB_cgi?field=uid&exact=Find+Exact+Term&term=D018562',\n",
      "                    'https://www.nlm.nih.gov/cgi/mesh/2017/MB_cgi?field=uid&exact=Find+Exact+Term&term=D001103',\n",
      "                    'https://www.nlm.nih.gov/cgi/mesh/2017/MB_cgi?field=uid&exact=Find+Exact+Term&term=D001102'],\n",
      "    'documents': [   'http://www.ncbi.nlm.nih.gov/pubmed/10488638',\n",
      "                     'http://www.ncbi.nlm.nih.gov/pubmed/21658241',\n",
      "                     'http://www.ncbi.nlm.nih.gov/pubmed/27869394',\n",
      "                     'http://www.ncbi.nlm.nih.gov/pubmed/26925368',\n",
      "                     'http://www.ncbi.nlm.nih.gov/pubmed/16893487',\n",
      "                     'http://www.ncbi.nlm.nih.gov/pubmed/25597441',\n",
      "                     'http://www.ncbi.nlm.nih.gov/pubmed/27220616',\n",
      "                     'http://www.ncbi.nlm.nih.gov/pubmed/1973949',\n",
      "                     'http://www.ncbi.nlm.nih.gov/pubmed/26363996',\n",
      "                     'http://www.ncbi.nlm.nih.gov/pubmed/8158611',\n",
      "                     'http://www.ncbi.nlm.nih.gov/pubmed/1297177',\n",
      "                     'http://www.ncbi.nlm.nih.gov/pubmed/24941331',\n",
      "                     'http://www.ncbi.nlm.nih.gov/pubmed/26283013',\n",
      "                     'http://www.ncbi.nlm.nih.gov/pubmed/26141429',\n",
      "                     'http://www.ncbi.nlm.nih.gov/pubmed/25053841'],\n",
      "    'exact_answer': ['By arthropods'],\n",
      "    'id': '58f4b85f70f9fc6f0f000015',\n",
      "    'ideal_answer': ['Arboviruses are transmitted by arthropods.'],\n",
      "    'snippets': [   {   'beginSection': 'abstract',\n",
      "                        'document': 'http://www.ncbi.nlm.nih.gov/pubmed/25597441',\n",
      "                        'endSection': 'abstract',\n",
      "                        'offsetInBeginSection': 0,\n",
      "                        'offsetInEndSection': 156,\n",
      "                        'text': 'Epizootic congenital abnormalities, '\n",
      "                                'encephalomyelitis and febrile illnesses in '\n",
      "                                'cattle caused by arthropod-borne viruses '\n",
      "                                '(arboviruses) are prevalent in Japan'},\n",
      "                    {   'beginSection': 'abstract',\n",
      "                        'document': 'http://www.ncbi.nlm.nih.gov/pubmed/26283013',\n",
      "                        'endSection': 'abstract',\n",
      "                        'offsetInBeginSection': 11,\n",
      "                        'offsetInEndSection': 97,\n",
      "                        'text': ' Zika virus (ZIKV) is an arthropod-borne '\n",
      "                                'virus (arbovirus) transmitted by '\n",
      "                                'mosquitoes. '},\n",
      "                    {   'beginSection': 'abstract',\n",
      "                        'document': 'http://www.ncbi.nlm.nih.gov/pubmed/16893487',\n",
      "                        'endSection': 'abstract',\n",
      "                        'offsetInBeginSection': 0,\n",
      "                        'offsetInEndSection': 201,\n",
      "                        'text': 'Nine different arboviruses are known to be '\n",
      "                                'transmitted by, or associated with, '\n",
      "                                'mosquitoes in Europe, and several (West Nile, '\n",
      "                                'Sindbis and Tahyna viruses) are reported to '\n",
      "                                'cause outbreaks of human disease'},\n",
      "                    {   'beginSection': 'abstract',\n",
      "                        'document': 'http://www.ncbi.nlm.nih.gov/pubmed/24941331',\n",
      "                        'endSection': 'abstract',\n",
      "                        'offsetInBeginSection': 0,\n",
      "                        'offsetInEndSection': 124,\n",
      "                        'text': 'Arthropod-borne viruses (arboviruses) are '\n",
      "                                'transmitted to humans primarily through the '\n",
      "                                'bites of infected mosquitoes and ticks'},\n",
      "                    {   'beginSection': 'abstract',\n",
      "                        'document': 'http://www.ncbi.nlm.nih.gov/pubmed/21658241',\n",
      "                        'endSection': 'abstract',\n",
      "                        'offsetInBeginSection': 114,\n",
      "                        'offsetInEndSection': 207,\n",
      "                        'text': 'Arboviruses are transmitted among vertebrates '\n",
      "                                'by biting insects, chiefly mosquitoes and '\n",
      "                                'ticks'},\n",
      "                    {   'beginSection': 'abstract',\n",
      "                        'document': 'http://www.ncbi.nlm.nih.gov/pubmed/25053841',\n",
      "                        'endSection': 'abstract',\n",
      "                        'offsetInBeginSection': 0,\n",
      "                        'offsetInEndSection': 129,\n",
      "                        'text': 'Arboviruses are transmitted by distantly '\n",
      "                                'related arthropod vectors such as mosquitoes '\n",
      "                                '(class Insecta) and ticks (class Arachnida)'},\n",
      "                    {   'beginSection': 'abstract',\n",
      "                        'document': 'http://www.ncbi.nlm.nih.gov/pubmed/26363996',\n",
      "                        'endSection': 'abstract',\n",
      "                        'offsetInBeginSection': 0,\n",
      "                        'offsetInEndSection': 215,\n",
      "                        'text': 'Mosquito-transmitted arthropod-borne viruses '\n",
      "                                '(arboviruses) such as dengue virus, '\n",
      "                                'chikungunya virus, and West Nile virus '\n",
      "                                'constitute a major public health burden and '\n",
      "                                'are increasing in severity and frequency '\n",
      "                                'worldwide.'},\n",
      "                    {   'beginSection': 'abstract',\n",
      "                        'document': 'http://www.ncbi.nlm.nih.gov/pubmed/1973949',\n",
      "                        'endSection': 'abstract',\n",
      "                        'offsetInBeginSection': 263,\n",
      "                        'offsetInEndSection': 564,\n",
      "                        'text': 'Malaria and Japanese encephalitis are the two '\n",
      "                                'most serious human diseases transmitted by '\n",
      "                                'riceland mosquitoes, but they have been '\n",
      "                                'incriminated as vectors of dozens of '\n",
      "                                'arboviruses and other parasites and pathogens '\n",
      "                                'including the causal agents of West Nile and '\n",
      "                                'Rift Valley Fevers and lymphatic filariasis.'},\n",
      "                    {   'beginSection': 'abstract',\n",
      "                        'document': 'http://www.ncbi.nlm.nih.gov/pubmed/25053841',\n",
      "                        'endSection': 'abstract',\n",
      "                        'offsetInBeginSection': 0,\n",
      "                        'offsetInEndSection': 130,\n",
      "                        'text': 'Arboviruses are transmitted by distantly '\n",
      "                                'related arthropod vectors such as mosquitoes '\n",
      "                                '(class Insecta) and ticks (class Arachnida).'},\n",
      "                    {   'beginSection': 'abstract',\n",
      "                        'document': 'http://www.ncbi.nlm.nih.gov/pubmed/10488638',\n",
      "                        'endSection': 'abstract',\n",
      "                        'offsetInBeginSection': 594,\n",
      "                        'offsetInEndSection': 786,\n",
      "                        'text': 'Many of them are transmitted by insects '\n",
      "                                '(arboviruses, e.g. yellow fever virus) or by '\n",
      "                                'rodents (e.g. Hanta viruses), others by '\n",
      "                                'contact with patients and nosocomial '\n",
      "                                'infections (e.g. Ebola virus).'},\n",
      "                    {   'beginSection': 'abstract',\n",
      "                        'document': 'http://www.ncbi.nlm.nih.gov/pubmed/26141429',\n",
      "                        'endSection': 'abstract',\n",
      "                        'offsetInBeginSection': 0,\n",
      "                        'offsetInEndSection': 166,\n",
      "                        'text': 'Arboviruses - viruses transmitted by '\n",
      "                                'haematophagous arthropods - are responsible '\n",
      "                                'for febrile syndromes, which sometimes '\n",
      "                                'include haemorrhagic or neurological '\n",
      "                                'symptoms.'},\n",
      "                    {   'beginSection': 'abstract',\n",
      "                        'document': 'http://www.ncbi.nlm.nih.gov/pubmed/27220616',\n",
      "                        'endSection': 'abstract',\n",
      "                        'offsetInBeginSection': 168,\n",
      "                        'offsetInEndSection': 289,\n",
      "                        'text': 'Arboviruses are transmitted to vertebral '\n",
      "                                'hosts during blood feedings by mosquitoes, '\n",
      "                                'ticks, biting flies, mites, and nits.'},\n",
      "                    {   'beginSection': 'abstract',\n",
      "                        'document': 'http://www.ncbi.nlm.nih.gov/pubmed/26925368',\n",
      "                        'endSection': 'abstract',\n",
      "                        'offsetInBeginSection': 0,\n",
      "                        'offsetInEndSection': 83,\n",
      "                        'text': 'Arboviruses transmitted by mosquitoes are a '\n",
      "                                'major cause of human disease worldwide.'},\n",
      "                    {   'beginSection': 'abstract',\n",
      "                        'document': 'http://www.ncbi.nlm.nih.gov/pubmed/27869394',\n",
      "                        'endSection': 'abstract',\n",
      "                        'offsetInBeginSection': 0,\n",
      "                        'offsetInEndSection': 161,\n",
      "                        'text': 'Diseases caused by arboviruses transmitted by '\n",
      "                                'Aedes aegypti, such as dengue, chikungunya '\n",
      "                                'and Zika, continue to rise in annual '\n",
      "                                'incidence and geographic expansion.'},\n",
      "                    {   'beginSection': 'abstract',\n",
      "                        'document': 'http://www.ncbi.nlm.nih.gov/pubmed/8158611',\n",
      "                        'endSection': 'abstract',\n",
      "                        'offsetInBeginSection': 223,\n",
      "                        'offsetInEndSection': 414,\n",
      "                        'text': 'Arboviruses transmitted by ticks must adapt '\n",
      "                                'to the peculiar physiological and behavioral '\n",
      "                                'characteristics of ticks, particularly with '\n",
      "                                'regard to blood feeding, bloodmeal digestion, '\n",
      "                                'and molting.'},\n",
      "                    {   'beginSection': 'abstract',\n",
      "                        'document': 'http://www.ncbi.nlm.nih.gov/pubmed/26141429',\n",
      "                        'endSection': 'abstract',\n",
      "                        'offsetInBeginSection': 330,\n",
      "                        'offsetInEndSection': 532,\n",
      "                        'text': 'The last decade has seen significant changes '\n",
      "                                'in the epidemiology of arboviruses '\n",
      "                                'transmitted by mosquitoes of the genus Aedes, '\n",
      "                                'particularly in relation to the '\n",
      "                                'intercontinental spread of Aedes albopictus.'},\n",
      "                    {   'beginSection': 'abstract',\n",
      "                        'document': 'http://www.ncbi.nlm.nih.gov/pubmed/1297177',\n",
      "                        'endSection': 'abstract',\n",
      "                        'offsetInBeginSection': 381,\n",
      "                        'offsetInEndSection': 687,\n",
      "                        'text': 'This technique enables the detection of 70 of '\n",
      "                                'the 80 arboviruses transmitted by mosquitoes '\n",
      "                                'in Africa and very easily detects arbovirus '\n",
      "                                'associations by using either monospecific or '\n",
      "                                'monoclonal immune ascitic fluids '\n",
      "                                '(dengue-1-2-3-4 and yellow fever viruses) '\n",
      "                                'used in the indirect immunofluorescence '\n",
      "                                'technique..'}],\n",
      "    'triples': [   {   'o': 'Arboviruses',\n",
      "                       'p': 'http://www.w3.org/2000/01/rdf-schema#label',\n",
      "                       's': 'http://linkedlifedata.com/resource/umls/id/C0003725'},\n",
      "                   {   'o': 'http://linkedlifedata.com/resource/umls/label/A18608581',\n",
      "                       'p': 'http://www.w3.org/2008/05/skos-xl#altLabel',\n",
      "                       's': 'http://linkedlifedata.com/resource/umls/id/C0003725'},\n",
      "                   {   'o': 'arboviruses',\n",
      "                       'p': 'http://www.w3.org/2008/05/skos-xl#literalForm',\n",
      "                       's': 'http://linkedlifedata.com/resource/umls/label/A18608581'}],\n",
      "    'type': 'factoid'}\n"
     ]
    },
    {
     "name": "stderr",
     "output_type": "stream",
     "text": [
      " 84%|████████▍ | 2307/2747 [5:40:26<12:55,  1.76s/it]  Traceback (most recent call last):\n",
      "  File \"<ipython-input-602-fb8b8ef4c48d>\", line 13, in get_hard_negative_pairs\n",
      "    title, abst = extract_neg_doc_passages(doc,gold_passages)\n",
      "  File \"<ipython-input-593-e00c503c1e0e>\", line 43, in extract_neg_doc_passages\n",
      "    doc_title = doc_title.replace(gp, '')\n",
      "AttributeError: 'NoneType' object has no attribute 'replace'\n",
      " 84%|████████▍ | 2308/2747 [5:40:27<12:26,  1.70s/it]"
     ]
    },
    {
     "name": "stdout",
     "output_type": "stream",
     "text": [
      "Error processing question in trainset 7 question:\n",
      "{   'body': 'What is inhibited by a drug rilotumumab?',\n",
      "    'documents': [   'http://www.ncbi.nlm.nih.gov/pubmed/27568322',\n",
      "                     'http://www.ncbi.nlm.nih.gov/pubmed/28472537',\n",
      "                     'http://www.ncbi.nlm.nih.gov/pubmed/28280216',\n",
      "                     'http://www.ncbi.nlm.nih.gov/pubmed/27966237',\n",
      "                     'http://www.ncbi.nlm.nih.gov/pubmed/28958504',\n",
      "                     'http://www.ncbi.nlm.nih.gov/pubmed/28209746',\n",
      "                     'http://www.ncbi.nlm.nih.gov/pubmed/25712685',\n",
      "                     'http://www.ncbi.nlm.nih.gov/pubmed/24186235',\n",
      "                     'http://www.ncbi.nlm.nih.gov/pubmed/23136195'],\n",
      "    'exact_answer': ['hepatocyte growth factor'],\n",
      "    'id': '5a7617b183b0d9ea66000022',\n",
      "    'ideal_answer': [   'Rilotumumab is a fully human monoclonal antibody that '\n",
      "                        'selectively targets the hepatocyte growth factor '\n",
      "                        '(HGF). It is used for treatment of cancer.'],\n",
      "    'snippets': [   {   'beginSection': 'abstract',\n",
      "                        'document': 'http://www.ncbi.nlm.nih.gov/pubmed/27568322',\n",
      "                        'endSection': 'abstract',\n",
      "                        'offsetInBeginSection': 1123,\n",
      "                        'offsetInEndSection': 1344,\n",
      "                        'text': 'The hepatocyte growth factor receptor (MET) '\n",
      "                                'was targeted in untreated patients in a phase '\n",
      "                                'III trial with MoAb rilotumumab, with or '\n",
      "                                'without CT, but the study was stopped because '\n",
      "                                'of mortality excess in the rilotumumab arm. '},\n",
      "                    {   'beginSection': 'abstract',\n",
      "                        'document': 'http://www.ncbi.nlm.nih.gov/pubmed/27966237',\n",
      "                        'endSection': 'abstract',\n",
      "                        'offsetInBeginSection': 0,\n",
      "                        'offsetInEndSection': 118,\n",
      "                        'text': 'AIMS: Rilotumumab is a fully human monoclonal '\n",
      "                                'antibody investigated for the treatment of '\n",
      "                                'MET-positive gastric cancer. '},\n",
      "                    {   'beginSection': 'abstract',\n",
      "                        'document': 'http://www.ncbi.nlm.nih.gov/pubmed/28280216',\n",
      "                        'endSection': 'abstract',\n",
      "                        'offsetInBeginSection': 0,\n",
      "                        'offsetInEndSection': 204,\n",
      "                        'text': 'The hepatocyte growth factor (HGF) binding '\n",
      "                                'antibody rilotumumab (AMG102) was modified '\n",
      "                                'for use as a89Zr-based immuno-PET imaging '\n",
      "                                'agent to noninvasively determine the local '\n",
      "                                'levels of HGF protein in tumors. '},\n",
      "                    {   'beginSection': 'abstract',\n",
      "                        'document': 'http://www.ncbi.nlm.nih.gov/pubmed/28209746',\n",
      "                        'endSection': 'abstract',\n",
      "                        'offsetInBeginSection': 2187,\n",
      "                        'offsetInEndSection': 2384,\n",
      "                        'text': 'Furthermore, negative study data have been '\n",
      "                                'published for rilotumumab and ficlatuzumab, '\n",
      "                                'both of which block hepatocyte growth factor '\n",
      "                                'binding to the mesenchymal-epithelial '\n",
      "                                'transition (MET) receptor. '},\n",
      "                    {   'beginSection': 'abstract',\n",
      "                        'document': 'http://www.ncbi.nlm.nih.gov/pubmed/28472537',\n",
      "                        'endSection': 'abstract',\n",
      "                        'offsetInBeginSection': 223,\n",
      "                        'offsetInEndSection': 396,\n",
      "                        'text': 'In this phase 1/2 trial, rilotumumab (an '\n",
      "                                'anti-HGF antibody) combined with erlotinib '\n",
      "                                'was evaluated in patients with metastatic, '\n",
      "                                'previously treated non-small cell lung '\n",
      "                                'cancer.'},\n",
      "                    {   'beginSection': 'abstract',\n",
      "                        'document': 'http://www.ncbi.nlm.nih.gov/pubmed/28958504',\n",
      "                        'endSection': 'abstract',\n",
      "                        'offsetInBeginSection': 0,\n",
      "                        'offsetInEndSection': 150,\n",
      "                        'text': 'BACKGROUND: Rilotumumab is a fully human '\n",
      "                                'monoclonal antibody that selectively targets '\n",
      "                                'the ligand of the MET receptor, hepatocyte '\n",
      "                                'growth factor (HGF). '},\n",
      "                    {   'beginSection': 'abstract',\n",
      "                        'document': 'http://www.ncbi.nlm.nih.gov/pubmed/24186235',\n",
      "                        'endSection': 'abstract',\n",
      "                        'offsetInBeginSection': 0,\n",
      "                        'offsetInEndSection': 268,\n",
      "                        'text': 'Rilotumumab is an investigational, fully '\n",
      "                                'human, monoclonal antibody immunoglobulin G2 '\n",
      "                                'against hepatocyte growth factor (HGF) that '\n",
      "                                'blocks the binding of HGF to its receptor MET '\n",
      "                                'and has shown trends toward improved survival '\n",
      "                                'in a phase 2 clinical trial in gastric '\n",
      "                                'cancer.'},\n",
      "                    {   'beginSection': 'abstract',\n",
      "                        'document': 'http://www.ncbi.nlm.nih.gov/pubmed/25712685',\n",
      "                        'endSection': 'abstract',\n",
      "                        'offsetInBeginSection': 0,\n",
      "                        'offsetInEndSection': 103,\n",
      "                        'text': 'PURPOSE Rilotumumab is an investigational, '\n",
      "                                'fully human monoclonal antibody to hepatocyte '\n",
      "                                'growth factor.'},\n",
      "                    {   'beginSection': 'abstract',\n",
      "                        'document': 'http://www.ncbi.nlm.nih.gov/pubmed/23136195',\n",
      "                        'endSection': 'abstract',\n",
      "                        'offsetInBeginSection': 0,\n",
      "                        'offsetInEndSection': 289,\n",
      "                        'text': 'PURPOSE To evaluate the efficacy, safety, '\n",
      "                                'biomarkers, and pharmacokinetics of '\n",
      "                                'rilotumumab, a fully human, monoclonal '\n",
      "                                'antibody against hepatocyte growth factor '\n",
      "                                '(HGF)/scatter factor, combined with '\n",
      "                                'mitoxantrone and prednisone (MP) in patients '\n",
      "                                'with castration-resistant prostate cancer '\n",
      "                                '(CRPC).'},\n",
      "                    {   'beginSection': 'abstract',\n",
      "                        'document': 'http://www.ncbi.nlm.nih.gov/pubmed/28958504',\n",
      "                        'endSection': 'abstract',\n",
      "                        'offsetInBeginSection': 0,\n",
      "                        'offsetInEndSection': 148,\n",
      "                        'text': 'BACKGROUND Rilotumumab is a fully human '\n",
      "                                'monoclonal antibody that selectively targets '\n",
      "                                'the ligand of the MET receptor, hepatocyte '\n",
      "                                'growth factor (HGF).'}],\n",
      "    'type': 'factoid'}\n"
     ]
    },
    {
     "name": "stderr",
     "output_type": "stream",
     "text": [
      "100%|██████████| 2747/2747 [6:08:10<00:00,  8.04s/it]  \n",
      " 58%|█████▊    | 1896/3243 [4:32:09<4:52:24, 13.02s/it]  Traceback (most recent call last):\n",
      "  File \"<ipython-input-602-fb8b8ef4c48d>\", line 13, in get_hard_negative_pairs\n",
      "    title, abst = extract_neg_doc_passages(doc,gold_passages)\n",
      "  File \"<ipython-input-593-e00c503c1e0e>\", line 43, in extract_neg_doc_passages\n",
      "    doc_title = doc_title.replace(gp, '')\n",
      "AttributeError: 'NoneType' object has no attribute 'replace'\n",
      " 59%|█████▊    | 1898/3243 [4:32:09<3:25:58,  9.19s/it]"
     ]
    },
    {
     "name": "stdout",
     "output_type": "stream",
     "text": [
      "Error processing question in trainset 8 question:\n",
      "{   'body': 'Has whole exome sequencing been performed in Alzheimer patients?',\n",
      "    'documents': [   'http://www.ncbi.nlm.nih.gov/pubmed/22153900',\n",
      "                     'http://www.ncbi.nlm.nih.gov/pubmed/23237904',\n",
      "                     'http://www.ncbi.nlm.nih.gov/pubmed/24958194',\n",
      "                     'http://www.ncbi.nlm.nih.gov/pubmed/27822510',\n",
      "                     'http://www.ncbi.nlm.nih.gov/pubmed/22472873',\n",
      "                     'http://www.ncbi.nlm.nih.gov/pubmed/26522186'],\n",
      "    'exact_answer': 'yes',\n",
      "    'id': '58bbb8ae22d3005309000018',\n",
      "    'ideal_answer': [   'Yes, numerous whole exome sequencing studies of '\n",
      "                        'ALzheimer patients have been conducted.'],\n",
      "    'snippets': [   {   'beginSection': 'title',\n",
      "                        'document': 'http://www.ncbi.nlm.nih.gov/pubmed/26522186',\n",
      "                        'endSection': 'title',\n",
      "                        'offsetInBeginSection': 0,\n",
      "                        'offsetInEndSection': 130,\n",
      "                        'text': 'Pilot whole-exome sequencing of a German '\n",
      "                                \"early-onset Alzheimer's disease cohort \"\n",
      "                                'reveals a substantial frequency of PSEN2 '\n",
      "                                'variants.'},\n",
      "                    {   'beginSection': 'abstract',\n",
      "                        'document': 'http://www.ncbi.nlm.nih.gov/pubmed/27822510',\n",
      "                        'endSection': 'abstract',\n",
      "                        'offsetInBeginSection': 129,\n",
      "                        'offsetInEndSection': 304,\n",
      "                        'text': 'We performed whole-exome sequencing in '\n",
      "                                'early-onset Alzheimer disease (EOAD) and '\n",
      "                                'late-onset Alzheimer disease (LOAD) families '\n",
      "                                'followed by functional studies of select '\n",
      "                                'variants.'},\n",
      "                    {   'beginSection': 'abstract',\n",
      "                        'document': 'http://www.ncbi.nlm.nih.gov/pubmed/24958194',\n",
      "                        'endSection': 'abstract',\n",
      "                        'offsetInBeginSection': 202,\n",
      "                        'offsetInEndSection': 480,\n",
      "                        'text': 'Whole-exome sequencing revealed a nonsense '\n",
      "                                'mutation in PRNP (NM_000311, c.C478T; '\n",
      "                                'p.Q160*; rs80356711) associated with '\n",
      "                                'homozygosity for the V allele at position 129 '\n",
      "                                'of the protein, further highlighting how very '\n",
      "                                'similar genotypes in PRNP result in '\n",
      "                                'strikingly different phenotypes.'},\n",
      "                    {   'beginSection': 'abstract',\n",
      "                        'document': 'http://www.ncbi.nlm.nih.gov/pubmed/23237904',\n",
      "                        'endSection': 'abstract',\n",
      "                        'offsetInBeginSection': 0,\n",
      "                        'offsetInEndSection': 293,\n",
      "                        'text': \"In the search for new genes in Alzheimer's \"\n",
      "                                'disease, classic linkage-based and '\n",
      "                                'candidate-gene-based association studies have '\n",
      "                                'been supplanted by exome sequencing, '\n",
      "                                'genome-wide sequencing (for mendelian forms '\n",
      "                                \"of Alzheimer's disease), and genome-wide \"\n",
      "                                'association studies (for non-mendelian '\n",
      "                                'forms). '},\n",
      "                    {   'beginSection': 'abstract',\n",
      "                        'document': 'http://www.ncbi.nlm.nih.gov/pubmed/22153900',\n",
      "                        'endSection': 'abstract',\n",
      "                        'offsetInBeginSection': 361,\n",
      "                        'offsetInEndSection': 493,\n",
      "                        'text': 'We performed whole exome sequencing in a '\n",
      "                                'Turkish patient clinically diagnosed with '\n",
      "                                \"Alzheimer's disease from a consanguineous \"\n",
      "                                'family '},\n",
      "                    {   'beginSection': 'abstract',\n",
      "                        'document': 'http://www.ncbi.nlm.nih.gov/pubmed/22472873',\n",
      "                        'endSection': 'abstract',\n",
      "                        'offsetInBeginSection': 0,\n",
      "                        'offsetInEndSection': 322,\n",
      "                        'text': 'Performing exome sequencing in 14 autosomal '\n",
      "                                'dominant early-onset Alzheimer disease '\n",
      "                                '(ADEOAD) index cases without mutation on '\n",
      "                                'known genes (amyloid precursor protein (APP), '\n",
      "                                'presenilin1 (PSEN1) and presenilin2 (PSEN2)), '\n",
      "                                'we found that in five patients, the SORL1 '\n",
      "                                'gene harbored unknown nonsense (n=1) or '\n",
      "                                'missense (n=4) mutations'}],\n",
      "    'type': 'yesno'}\n"
     ]
    },
    {
     "name": "stderr",
     "output_type": "stream",
     "text": [
      " 66%|██████▋   | 2152/3243 [5:09:50<1:19:33,  4.37s/it] Traceback (most recent call last):\n",
      "  File \"<ipython-input-602-fb8b8ef4c48d>\", line 13, in get_hard_negative_pairs\n",
      "    title, abst = extract_neg_doc_passages(doc,gold_passages)\n",
      "  File \"<ipython-input-593-e00c503c1e0e>\", line 43, in extract_neg_doc_passages\n",
      "    doc_title = doc_title.replace(gp, '')\n",
      "AttributeError: 'NoneType' object has no attribute 'replace'\n",
      " 66%|██████▋   | 2153/3243 [5:09:52<1:07:49,  3.73s/it]"
     ]
    },
    {
     "name": "stdout",
     "output_type": "stream",
     "text": [
      "Error processing question in trainset 8 question:\n",
      "{   'body': 'How are Arboviruses transmitted?',\n",
      "    'concepts': [   'https://www.nlm.nih.gov/cgi/mesh/2017/MB_cgi?field=uid&exact=Find+Exact+Term&term=D007303',\n",
      "                    'https://www.nlm.nih.gov/cgi/mesh/2017/MB_cgi?field=uid&exact=Find+Exact+Term&term=D018562',\n",
      "                    'https://www.nlm.nih.gov/cgi/mesh/2017/MB_cgi?field=uid&exact=Find+Exact+Term&term=D001103',\n",
      "                    'https://www.nlm.nih.gov/cgi/mesh/2017/MB_cgi?field=uid&exact=Find+Exact+Term&term=D001102'],\n",
      "    'documents': [   'http://www.ncbi.nlm.nih.gov/pubmed/10488638',\n",
      "                     'http://www.ncbi.nlm.nih.gov/pubmed/21658241',\n",
      "                     'http://www.ncbi.nlm.nih.gov/pubmed/26363996',\n",
      "                     'http://www.ncbi.nlm.nih.gov/pubmed/26925368',\n",
      "                     'http://www.ncbi.nlm.nih.gov/pubmed/16893487',\n",
      "                     'http://www.ncbi.nlm.nih.gov/pubmed/25597441',\n",
      "                     'http://www.ncbi.nlm.nih.gov/pubmed/27220616',\n",
      "                     'http://www.ncbi.nlm.nih.gov/pubmed/1973949',\n",
      "                     'http://www.ncbi.nlm.nih.gov/pubmed/27869394',\n",
      "                     'http://www.ncbi.nlm.nih.gov/pubmed/26141429',\n",
      "                     'http://www.ncbi.nlm.nih.gov/pubmed/1297177',\n",
      "                     'http://www.ncbi.nlm.nih.gov/pubmed/24941331',\n",
      "                     'http://www.ncbi.nlm.nih.gov/pubmed/26283013',\n",
      "                     'http://www.ncbi.nlm.nih.gov/pubmed/8158611',\n",
      "                     'http://www.ncbi.nlm.nih.gov/pubmed/25053841'],\n",
      "    'exact_answer': ['By arthropods'],\n",
      "    'id': '58f4b85f70f9fc6f0f000015',\n",
      "    'ideal_answer': ['Arboviruses are transmitted by arthropods.'],\n",
      "    'snippets': [   {   'beginSection': 'abstract',\n",
      "                        'document': 'http://www.ncbi.nlm.nih.gov/pubmed/25597441',\n",
      "                        'endSection': 'abstract',\n",
      "                        'offsetInBeginSection': 0,\n",
      "                        'offsetInEndSection': 156,\n",
      "                        'text': 'Epizootic congenital abnormalities, '\n",
      "                                'encephalomyelitis and febrile illnesses in '\n",
      "                                'cattle caused by arthropod-borne viruses '\n",
      "                                '(arboviruses) are prevalent in Japan'},\n",
      "                    {   'beginSection': 'abstract',\n",
      "                        'document': 'http://www.ncbi.nlm.nih.gov/pubmed/26283013',\n",
      "                        'endSection': 'abstract',\n",
      "                        'offsetInBeginSection': 11,\n",
      "                        'offsetInEndSection': 97,\n",
      "                        'text': ' Zika virus (ZIKV) is an arthropod-borne '\n",
      "                                'virus (arbovirus) transmitted by '\n",
      "                                'mosquitoes. '},\n",
      "                    {   'beginSection': 'abstract',\n",
      "                        'document': 'http://www.ncbi.nlm.nih.gov/pubmed/16893487',\n",
      "                        'endSection': 'abstract',\n",
      "                        'offsetInBeginSection': 0,\n",
      "                        'offsetInEndSection': 201,\n",
      "                        'text': 'Nine different arboviruses are known to be '\n",
      "                                'transmitted by, or associated with, '\n",
      "                                'mosquitoes in Europe, and several (West Nile, '\n",
      "                                'Sindbis and Tahyna viruses) are reported to '\n",
      "                                'cause outbreaks of human disease'},\n",
      "                    {   'beginSection': 'abstract',\n",
      "                        'document': 'http://www.ncbi.nlm.nih.gov/pubmed/24941331',\n",
      "                        'endSection': 'abstract',\n",
      "                        'offsetInBeginSection': 0,\n",
      "                        'offsetInEndSection': 124,\n",
      "                        'text': 'Arthropod-borne viruses (arboviruses) are '\n",
      "                                'transmitted to humans primarily through the '\n",
      "                                'bites of infected mosquitoes and ticks'},\n",
      "                    {   'beginSection': 'abstract',\n",
      "                        'document': 'http://www.ncbi.nlm.nih.gov/pubmed/21658241',\n",
      "                        'endSection': 'abstract',\n",
      "                        'offsetInBeginSection': 114,\n",
      "                        'offsetInEndSection': 207,\n",
      "                        'text': 'Arboviruses are transmitted among vertebrates '\n",
      "                                'by biting insects, chiefly mosquitoes and '\n",
      "                                'ticks'},\n",
      "                    {   'beginSection': 'abstract',\n",
      "                        'document': 'http://www.ncbi.nlm.nih.gov/pubmed/25053841',\n",
      "                        'endSection': 'abstract',\n",
      "                        'offsetInBeginSection': 0,\n",
      "                        'offsetInEndSection': 129,\n",
      "                        'text': 'Arboviruses are transmitted by distantly '\n",
      "                                'related arthropod vectors such as mosquitoes '\n",
      "                                '(class Insecta) and ticks (class Arachnida)'},\n",
      "                    {   'beginSection': 'abstract',\n",
      "                        'document': 'http://www.ncbi.nlm.nih.gov/pubmed/26363996',\n",
      "                        'endSection': 'abstract',\n",
      "                        'offsetInBeginSection': 0,\n",
      "                        'offsetInEndSection': 215,\n",
      "                        'text': 'Mosquito-transmitted arthropod-borne viruses '\n",
      "                                '(arboviruses) such as dengue virus, '\n",
      "                                'chikungunya virus, and West Nile virus '\n",
      "                                'constitute a major public health burden and '\n",
      "                                'are increasing in severity and frequency '\n",
      "                                'worldwide.'},\n",
      "                    {   'beginSection': 'abstract',\n",
      "                        'document': 'http://www.ncbi.nlm.nih.gov/pubmed/1973949',\n",
      "                        'endSection': 'abstract',\n",
      "                        'offsetInBeginSection': 263,\n",
      "                        'offsetInEndSection': 564,\n",
      "                        'text': 'Malaria and Japanese encephalitis are the two '\n",
      "                                'most serious human diseases transmitted by '\n",
      "                                'riceland mosquitoes, but they have been '\n",
      "                                'incriminated as vectors of dozens of '\n",
      "                                'arboviruses and other parasites and pathogens '\n",
      "                                'including the causal agents of West Nile and '\n",
      "                                'Rift Valley Fevers and lymphatic filariasis.'},\n",
      "                    {   'beginSection': 'abstract',\n",
      "                        'document': 'http://www.ncbi.nlm.nih.gov/pubmed/25053841',\n",
      "                        'endSection': 'abstract',\n",
      "                        'offsetInBeginSection': 0,\n",
      "                        'offsetInEndSection': 130,\n",
      "                        'text': 'Arboviruses are transmitted by distantly '\n",
      "                                'related arthropod vectors such as mosquitoes '\n",
      "                                '(class Insecta) and ticks (class Arachnida).'},\n",
      "                    {   'beginSection': 'abstract',\n",
      "                        'document': 'http://www.ncbi.nlm.nih.gov/pubmed/10488638',\n",
      "                        'endSection': 'abstract',\n",
      "                        'offsetInBeginSection': 594,\n",
      "                        'offsetInEndSection': 786,\n",
      "                        'text': 'Many of them are transmitted by insects '\n",
      "                                '(arboviruses, e.g. yellow fever virus) or by '\n",
      "                                'rodents (e.g. Hanta viruses), others by '\n",
      "                                'contact with patients and nosocomial '\n",
      "                                'infections (e.g. Ebola virus).'},\n",
      "                    {   'beginSection': 'abstract',\n",
      "                        'document': 'http://www.ncbi.nlm.nih.gov/pubmed/26141429',\n",
      "                        'endSection': 'abstract',\n",
      "                        'offsetInBeginSection': 0,\n",
      "                        'offsetInEndSection': 166,\n",
      "                        'text': 'Arboviruses - viruses transmitted by '\n",
      "                                'haematophagous arthropods - are responsible '\n",
      "                                'for febrile syndromes, which sometimes '\n",
      "                                'include haemorrhagic or neurological '\n",
      "                                'symptoms.'},\n",
      "                    {   'beginSection': 'abstract',\n",
      "                        'document': 'http://www.ncbi.nlm.nih.gov/pubmed/27220616',\n",
      "                        'endSection': 'abstract',\n",
      "                        'offsetInBeginSection': 168,\n",
      "                        'offsetInEndSection': 289,\n",
      "                        'text': 'Arboviruses are transmitted to vertebral '\n",
      "                                'hosts during blood feedings by mosquitoes, '\n",
      "                                'ticks, biting flies, mites, and nits.'},\n",
      "                    {   'beginSection': 'abstract',\n",
      "                        'document': 'http://www.ncbi.nlm.nih.gov/pubmed/26925368',\n",
      "                        'endSection': 'abstract',\n",
      "                        'offsetInBeginSection': 0,\n",
      "                        'offsetInEndSection': 83,\n",
      "                        'text': 'Arboviruses transmitted by mosquitoes are a '\n",
      "                                'major cause of human disease worldwide.'},\n",
      "                    {   'beginSection': 'abstract',\n",
      "                        'document': 'http://www.ncbi.nlm.nih.gov/pubmed/27869394',\n",
      "                        'endSection': 'abstract',\n",
      "                        'offsetInBeginSection': 0,\n",
      "                        'offsetInEndSection': 161,\n",
      "                        'text': 'Diseases caused by arboviruses transmitted by '\n",
      "                                'Aedes aegypti, such as dengue, chikungunya '\n",
      "                                'and Zika, continue to rise in annual '\n",
      "                                'incidence and geographic expansion.'},\n",
      "                    {   'beginSection': 'abstract',\n",
      "                        'document': 'http://www.ncbi.nlm.nih.gov/pubmed/8158611',\n",
      "                        'endSection': 'abstract',\n",
      "                        'offsetInBeginSection': 223,\n",
      "                        'offsetInEndSection': 414,\n",
      "                        'text': 'Arboviruses transmitted by ticks must adapt '\n",
      "                                'to the peculiar physiological and behavioral '\n",
      "                                'characteristics of ticks, particularly with '\n",
      "                                'regard to blood feeding, bloodmeal digestion, '\n",
      "                                'and molting.'},\n",
      "                    {   'beginSection': 'abstract',\n",
      "                        'document': 'http://www.ncbi.nlm.nih.gov/pubmed/26141429',\n",
      "                        'endSection': 'abstract',\n",
      "                        'offsetInBeginSection': 330,\n",
      "                        'offsetInEndSection': 532,\n",
      "                        'text': 'The last decade has seen significant changes '\n",
      "                                'in the epidemiology of arboviruses '\n",
      "                                'transmitted by mosquitoes of the genus Aedes, '\n",
      "                                'particularly in relation to the '\n",
      "                                'intercontinental spread of Aedes albopictus.'},\n",
      "                    {   'beginSection': 'abstract',\n",
      "                        'document': 'http://www.ncbi.nlm.nih.gov/pubmed/1297177',\n",
      "                        'endSection': 'abstract',\n",
      "                        'offsetInBeginSection': 381,\n",
      "                        'offsetInEndSection': 687,\n",
      "                        'text': 'This technique enables the detection of 70 of '\n",
      "                                'the 80 arboviruses transmitted by mosquitoes '\n",
      "                                'in Africa and very easily detects arbovirus '\n",
      "                                'associations by using either monospecific or '\n",
      "                                'monoclonal immune ascitic fluids '\n",
      "                                '(dengue-1-2-3-4 and yellow fever viruses) '\n",
      "                                'used in the indirect immunofluorescence '\n",
      "                                'technique..'}],\n",
      "    'triples': [   {   'o': 'Arboviruses',\n",
      "                       'p': 'http://www.w3.org/2000/01/rdf-schema#label',\n",
      "                       's': 'http://linkedlifedata.com/resource/umls/id/C0003725'},\n",
      "                   {   'o': 'http://linkedlifedata.com/resource/umls/label/A18608581',\n",
      "                       'p': 'http://www.w3.org/2008/05/skos-xl#altLabel',\n",
      "                       's': 'http://linkedlifedata.com/resource/umls/id/C0003725'},\n",
      "                   {   'o': 'arboviruses',\n",
      "                       'p': 'http://www.w3.org/2008/05/skos-xl#literalForm',\n",
      "                       's': 'http://linkedlifedata.com/resource/umls/label/A18608581'}],\n",
      "    'type': 'factoid'}\n"
     ]
    },
    {
     "name": "stderr",
     "output_type": "stream",
     "text": [
      " 71%|███████   | 2304/3243 [5:22:39<34:10,  2.18s/it]  Traceback (most recent call last):\n",
      "  File \"<ipython-input-602-fb8b8ef4c48d>\", line 13, in get_hard_negative_pairs\n",
      "    title, abst = extract_neg_doc_passages(doc,gold_passages)\n",
      "  File \"<ipython-input-593-e00c503c1e0e>\", line 43, in extract_neg_doc_passages\n",
      "    doc_title = doc_title.replace(gp, '')\n",
      "AttributeError: 'NoneType' object has no attribute 'replace'\n",
      " 71%|███████   | 2305/3243 [5:22:40<30:57,  1.98s/it]"
     ]
    },
    {
     "name": "stdout",
     "output_type": "stream",
     "text": [
      "Error processing question in trainset 8 question:\n",
      "{   'body': 'What is inhibited by a drug rilotumumab?',\n",
      "    'documents': [   'http://www.ncbi.nlm.nih.gov/pubmed/27568322',\n",
      "                     'http://www.ncbi.nlm.nih.gov/pubmed/28472537',\n",
      "                     'http://www.ncbi.nlm.nih.gov/pubmed/28280216',\n",
      "                     'http://www.ncbi.nlm.nih.gov/pubmed/27966237',\n",
      "                     'http://www.ncbi.nlm.nih.gov/pubmed/28958504',\n",
      "                     'http://www.ncbi.nlm.nih.gov/pubmed/28209746',\n",
      "                     'http://www.ncbi.nlm.nih.gov/pubmed/25712685',\n",
      "                     'http://www.ncbi.nlm.nih.gov/pubmed/24186235',\n",
      "                     'http://www.ncbi.nlm.nih.gov/pubmed/23136195'],\n",
      "    'exact_answer': ['hepatocyte growth factor'],\n",
      "    'id': '5a7617b183b0d9ea66000022',\n",
      "    'ideal_answer': [   'Rilotumumab is a fully human monoclonal antibody that '\n",
      "                        'selectively targets the hepatocyte growth factor '\n",
      "                        '(HGF). It is used for treatment of cancer.'],\n",
      "    'snippets': [   {   'beginSection': 'abstract',\n",
      "                        'document': 'http://www.ncbi.nlm.nih.gov/pubmed/27568322',\n",
      "                        'endSection': 'abstract',\n",
      "                        'offsetInBeginSection': 1123,\n",
      "                        'offsetInEndSection': 1344,\n",
      "                        'text': 'The hepatocyte growth factor receptor (MET) '\n",
      "                                'was targeted in untreated patients in a phase '\n",
      "                                'III trial with MoAb rilotumumab, with or '\n",
      "                                'without CT, but the study was stopped because '\n",
      "                                'of mortality excess in the rilotumumab arm. '},\n",
      "                    {   'beginSection': 'abstract',\n",
      "                        'document': 'http://www.ncbi.nlm.nih.gov/pubmed/27966237',\n",
      "                        'endSection': 'abstract',\n",
      "                        'offsetInBeginSection': 0,\n",
      "                        'offsetInEndSection': 118,\n",
      "                        'text': 'AIMS: Rilotumumab is a fully human monoclonal '\n",
      "                                'antibody investigated for the treatment of '\n",
      "                                'MET-positive gastric cancer. '},\n",
      "                    {   'beginSection': 'abstract',\n",
      "                        'document': 'http://www.ncbi.nlm.nih.gov/pubmed/28280216',\n",
      "                        'endSection': 'abstract',\n",
      "                        'offsetInBeginSection': 0,\n",
      "                        'offsetInEndSection': 204,\n",
      "                        'text': 'The hepatocyte growth factor (HGF) binding '\n",
      "                                'antibody rilotumumab (AMG102) was modified '\n",
      "                                'for use as a89Zr-based immuno-PET imaging '\n",
      "                                'agent to noninvasively determine the local '\n",
      "                                'levels of HGF protein in tumors. '},\n",
      "                    {   'beginSection': 'abstract',\n",
      "                        'document': 'http://www.ncbi.nlm.nih.gov/pubmed/28209746',\n",
      "                        'endSection': 'abstract',\n",
      "                        'offsetInBeginSection': 2187,\n",
      "                        'offsetInEndSection': 2384,\n",
      "                        'text': 'Furthermore, negative study data have been '\n",
      "                                'published for rilotumumab and ficlatuzumab, '\n",
      "                                'both of which block hepatocyte growth factor '\n",
      "                                'binding to the mesenchymal-epithelial '\n",
      "                                'transition (MET) receptor. '},\n",
      "                    {   'beginSection': 'abstract',\n",
      "                        'document': 'http://www.ncbi.nlm.nih.gov/pubmed/28472537',\n",
      "                        'endSection': 'abstract',\n",
      "                        'offsetInBeginSection': 223,\n",
      "                        'offsetInEndSection': 396,\n",
      "                        'text': 'In this phase 1/2 trial, rilotumumab (an '\n",
      "                                'anti-HGF antibody) combined with erlotinib '\n",
      "                                'was evaluated in patients with metastatic, '\n",
      "                                'previously treated non-small cell lung '\n",
      "                                'cancer.'},\n",
      "                    {   'beginSection': 'abstract',\n",
      "                        'document': 'http://www.ncbi.nlm.nih.gov/pubmed/28958504',\n",
      "                        'endSection': 'abstract',\n",
      "                        'offsetInBeginSection': 0,\n",
      "                        'offsetInEndSection': 150,\n",
      "                        'text': 'BACKGROUND: Rilotumumab is a fully human '\n",
      "                                'monoclonal antibody that selectively targets '\n",
      "                                'the ligand of the MET receptor, hepatocyte '\n",
      "                                'growth factor (HGF). '},\n",
      "                    {   'beginSection': 'abstract',\n",
      "                        'document': 'http://www.ncbi.nlm.nih.gov/pubmed/24186235',\n",
      "                        'endSection': 'abstract',\n",
      "                        'offsetInBeginSection': 0,\n",
      "                        'offsetInEndSection': 268,\n",
      "                        'text': 'Rilotumumab is an investigational, fully '\n",
      "                                'human, monoclonal antibody immunoglobulin G2 '\n",
      "                                'against hepatocyte growth factor (HGF) that '\n",
      "                                'blocks the binding of HGF to its receptor MET '\n",
      "                                'and has shown trends toward improved survival '\n",
      "                                'in a phase 2 clinical trial in gastric '\n",
      "                                'cancer.'},\n",
      "                    {   'beginSection': 'abstract',\n",
      "                        'document': 'http://www.ncbi.nlm.nih.gov/pubmed/25712685',\n",
      "                        'endSection': 'abstract',\n",
      "                        'offsetInBeginSection': 0,\n",
      "                        'offsetInEndSection': 103,\n",
      "                        'text': 'PURPOSE Rilotumumab is an investigational, '\n",
      "                                'fully human monoclonal antibody to hepatocyte '\n",
      "                                'growth factor.'},\n",
      "                    {   'beginSection': 'abstract',\n",
      "                        'document': 'http://www.ncbi.nlm.nih.gov/pubmed/23136195',\n",
      "                        'endSection': 'abstract',\n",
      "                        'offsetInBeginSection': 0,\n",
      "                        'offsetInEndSection': 289,\n",
      "                        'text': 'PURPOSE To evaluate the efficacy, safety, '\n",
      "                                'biomarkers, and pharmacokinetics of '\n",
      "                                'rilotumumab, a fully human, monoclonal '\n",
      "                                'antibody against hepatocyte growth factor '\n",
      "                                '(HGF)/scatter factor, combined with '\n",
      "                                'mitoxantrone and prednisone (MP) in patients '\n",
      "                                'with castration-resistant prostate cancer '\n",
      "                                '(CRPC).'},\n",
      "                    {   'beginSection': 'abstract',\n",
      "                        'document': 'http://www.ncbi.nlm.nih.gov/pubmed/28958504',\n",
      "                        'endSection': 'abstract',\n",
      "                        'offsetInBeginSection': 0,\n",
      "                        'offsetInEndSection': 148,\n",
      "                        'text': 'BACKGROUND Rilotumumab is a fully human '\n",
      "                                'monoclonal antibody that selectively targets '\n",
      "                                'the ligand of the MET receptor, hepatocyte '\n",
      "                                'growth factor (HGF).'}],\n",
      "    'type': 'factoid'}\n"
     ]
    },
    {
     "name": "stderr",
     "output_type": "stream",
     "text": [
      " 89%|████████▉ | 2891/3243 [5:53:05<03:33,  1.65it/s]  Traceback (most recent call last):\n",
      "  File \"<ipython-input-602-fb8b8ef4c48d>\", line 13, in get_hard_negative_pairs\n",
      "    title, abst = extract_neg_doc_passages(doc,gold_passages)\n",
      "  File \"<ipython-input-593-e00c503c1e0e>\", line 43, in extract_neg_doc_passages\n",
      "    doc_title = doc_title.replace(gp, '')\n",
      "AttributeError: 'NoneType' object has no attribute 'replace'\n"
     ]
    },
    {
     "name": "stdout",
     "output_type": "stream",
     "text": [
      "Error processing question in trainset 8 question:\n",
      "{   'body': 'Which microRNA is the mediator of the obesity phenotype of '\n",
      "            'patients carrying 1p21.3 microdeletions?',\n",
      "    'documents': [   'http://www.ncbi.nlm.nih.gov/pubmed/27822311',\n",
      "                     'http://www.ncbi.nlm.nih.gov/pubmed/22003227'],\n",
      "    'exact_answer': ['MIR137'],\n",
      "    'id': '5c630666e842deac6700000c',\n",
      "    'ideal_answer': [   'MIR137 is the mediator of the obesity phenotype of '\n",
      "                        'patients carrying 1p21.3 microdeletions.'],\n",
      "    'snippets': [   {   'beginSection': 'abstract',\n",
      "                        'document': 'http://www.ncbi.nlm.nih.gov/pubmed/27822311',\n",
      "                        'endSection': 'abstract',\n",
      "                        'offsetInBeginSection': 461,\n",
      "                        'offsetInEndSection': 552,\n",
      "                        'text': 'MIR137 is the mediator of the obesity '\n",
      "                                'phenotype of patients carrying 1p21.3 '\n",
      "                                'microdeletions.'},\n",
      "                    {   'beginSection': 'abstract',\n",
      "                        'document': 'http://www.ncbi.nlm.nih.gov/pubmed/27822311',\n",
      "                        'endSection': 'abstract',\n",
      "                        'offsetInBeginSection': 427,\n",
      "                        'offsetInEndSection': 555,\n",
      "                        'text': 'CONCLUSIONS\\n'\n",
      "                                'This study suggests that MIR137 is the '\n",
      "                                'mediator of the obesity phenotype of patients '\n",
      "                                'carrying 1p21.3 microdeletions.'},\n",
      "                    {   'beginSection': 'abstract',\n",
      "                        'document': 'http://www.ncbi.nlm.nih.gov/pubmed/27822311',\n",
      "                        'endSection': 'abstract',\n",
      "                        'offsetInBeginSection': 259,\n",
      "                        'offsetInEndSection': 424,\n",
      "                        'text': 'CASE PRESENTATION\\n'\n",
      "                                'We describe a 10-year-old boy with syndromic '\n",
      "                                'obesity who carries a novel 1p21.3\\xa0'\n",
      "                                'deletion overlapping the critical region with '\n",
      "                                'the MIR137 gene only.'},\n",
      "                    {   'beginSection': 'abstract',\n",
      "                        'document': 'http://www.ncbi.nlm.nih.gov/pubmed/22003227',\n",
      "                        'endSection': 'abstract',\n",
      "                        'offsetInBeginSection': 1641,\n",
      "                        'offsetInEndSection': 1841,\n",
      "                        'text': 'CONCLUSIONS\\n'\n",
      "                                'This study showed that dosage effects of '\n",
      "                                'MIR137 are associated with 1p21.3 '\n",
      "                                'microdeletions and may therefore contribute '\n",
      "                                'to the ID phenotype in patients with '\n",
      "                                'deletions harbouring this miRNA.'},\n",
      "                    {   'beginSection': 'abstract',\n",
      "                        'document': 'http://www.ncbi.nlm.nih.gov/pubmed/27822311',\n",
      "                        'endSection': 'abstract',\n",
      "                        'offsetInBeginSection': 427,\n",
      "                        'offsetInEndSection': 555,\n",
      "                        'text': 'CONCLUSIONS This study suggests that MIR137 '\n",
      "                                'is the mediator of the obesity phenotype of '\n",
      "                                'patients carrying 1p21.3 microdeletions.'},\n",
      "                    {   'beginSection': 'abstract',\n",
      "                        'document': 'http://www.ncbi.nlm.nih.gov/pubmed/27822311',\n",
      "                        'endSection': 'abstract',\n",
      "                        'offsetInBeginSection': 259,\n",
      "                        'offsetInEndSection': 424,\n",
      "                        'text': 'CASE PRESENTATION We describe a 10-year-old '\n",
      "                                'boy with syndromic obesity who carries a '\n",
      "                                'novel 1p21.3\\xa0deletion overlapping the '\n",
      "                                'critical region with the MIR137 gene only.'},\n",
      "                    {   'beginSection': 'abstract',\n",
      "                        'document': 'http://www.ncbi.nlm.nih.gov/pubmed/22003227',\n",
      "                        'endSection': 'abstract',\n",
      "                        'offsetInBeginSection': 1641,\n",
      "                        'offsetInEndSection': 1841,\n",
      "                        'text': 'CONCLUSIONS This study showed that dosage '\n",
      "                                'effects of MIR137 are associated with 1p21.3 '\n",
      "                                'microdeletions and may therefore contribute '\n",
      "                                'to the ID phenotype in patients with '\n",
      "                                'deletions harbouring this miRNA.'},\n",
      "                    {   'beginSection': 'abstract',\n",
      "                        'document': 'http://www.ncbi.nlm.nih.gov/pubmed/22003227',\n",
      "                        'endSection': 'abstract',\n",
      "                        'offsetInBeginSection': 975,\n",
      "                        'offsetInEndSection': 1078,\n",
      "                        'text': 'Therefore, this study investigated the '\n",
      "                                'possible involvement of MIR137 in the '\n",
      "                                '1p21.3-deletion phenotype.'},\n",
      "                    {   'beginSection': 'abstract',\n",
      "                        'document': 'http://www.ncbi.nlm.nih.gov/pubmed/22003227',\n",
      "                        'endSection': 'abstract',\n",
      "                        'offsetInBeginSection': 1862,\n",
      "                        'offsetInEndSection': 2110,\n",
      "                        'text': '<AbstractText Label=\"CONCLUSIONS\" '\n",
      "                                'NlmCategory=\"CONCLUSIONS\">This study showed '\n",
      "                                'that dosage effects of MIR137 are associated '\n",
      "                                'with 1p21.3 microdeletions and may therefore '\n",
      "                                'contribute to the ID phenotype in patients '\n",
      "                                'with deletions harbouring this miRNA. '},\n",
      "                    {   'beginSection': 'abstract',\n",
      "                        'document': 'http://www.ncbi.nlm.nih.gov/pubmed/27822311',\n",
      "                        'endSection': 'abstract',\n",
      "                        'offsetInBeginSection': 446,\n",
      "                        'offsetInEndSection': 662,\n",
      "                        'text': '<AbstractText Label=\"CASE PRESENTATION\" '\n",
      "                                'NlmCategory=\"METHODS\">We describe a '\n",
      "                                '10-year-old boy with syndromic obesity who '\n",
      "                                'carries a novel 1p21.3\\xa0deletion '\n",
      "                                'overlapping the critical region with the '\n",
      "                                '<i>MIR137</i> gene only. '},\n",
      "                    {   'beginSection': 'abstract',\n",
      "                        'document': 'http://www.ncbi.nlm.nih.gov/pubmed/27822311',\n",
      "                        'endSection': 'abstract',\n",
      "                        'offsetInBeginSection': 678,\n",
      "                        'offsetInEndSection': 861,\n",
      "                        'text': '<AbstractText Label=\"CONCLUSIONS\" '\n",
      "                                'NlmCategory=\"CONCLUSIONS\">This study suggests '\n",
      "                                'that <i>MIR137</i> is the mediator of the '\n",
      "                                'obesity phenotype of patients carrying 1p21.3 '\n",
      "                                'microdeletions.'},\n",
      "                    {   'beginSection': 'title',\n",
      "                        'document': 'http://www.ncbi.nlm.nih.gov/pubmed/27822311',\n",
      "                        'endSection': 'title',\n",
      "                        'offsetInBeginSection': 0,\n",
      "                        'offsetInEndSection': 348,\n",
      "                        'text': '<i>MIR137</i> is the key gene mediator of the '\n",
      "                                'syndromic obesity phenotype of patients with '\n",
      "                                '1p21.3 microdeletions.<AbstractText '\n",
      "                                'Label=\"BACKGROUND\" '\n",
      "                                'NlmCategory=\"BACKGROUND\">Deletions in the '\n",
      "                                'long arm of chromosome 1 have been described '\n",
      "                                'in patients with a phenotype consisting '\n",
      "                                'primarily of obesity, intellectual disability '\n",
      "                                'and autism-spectrum disorder. '},\n",
      "                    {   'beginSection': 'abstract',\n",
      "                        'document': 'http://www.ncbi.nlm.nih.gov/pubmed/22003227',\n",
      "                        'endSection': 'abstract',\n",
      "                        'offsetInBeginSection': 992,\n",
      "                        'offsetInEndSection': 1095,\n",
      "                        'text': 'Therefore, this study investigated the '\n",
      "                                'possible involvement of MIR137 in the '\n",
      "                                '1p21.3-deletion phenotype.'},\n",
      "                    {   'beginSection': 'abstract',\n",
      "                        'document': 'http://www.ncbi.nlm.nih.gov/pubmed/22003227',\n",
      "                        'endSection': 'abstract',\n",
      "                        'offsetInBeginSection': 1454,\n",
      "                        'offsetInEndSection': 1867,\n",
      "                        'text': 'The study also demonstrated significant '\n",
      "                                'enrichment of miR-137 at the synapses of '\n",
      "                                'cortical and hippocampal neurons, suggesting '\n",
      "                                'a role of miR-137 in regulating local '\n",
      "                                'synaptic protein synthesis '\n",
      "                                'machinery.<br><b>CONCLUSIONS</b>: This study '\n",
      "                                'showed that dosage effects of MIR137 are '\n",
      "                                'associated with 1p21.3 microdeletions and may '\n",
      "                                'therefore contribute to the ID phenotype in '\n",
      "                                'patients with deletions harbouring this '\n",
      "                                'miRNA.'},\n",
      "                    {   'beginSection': 'title',\n",
      "                        'document': 'http://www.ncbi.nlm.nih.gov/pubmed/27822311',\n",
      "                        'endSection': 'title',\n",
      "                        'offsetInBeginSection': -1,\n",
      "                        'offsetInEndSection': 105,\n",
      "                        'text': 'MIR137 is the key gene mediator of the '\n",
      "                                'syndromic obesity phenotype of patients with '\n",
      "                                '1p21.3 microdeletions.'},\n",
      "                    {   'beginSection': 'abstract',\n",
      "                        'document': 'http://www.ncbi.nlm.nih.gov/pubmed/27822311',\n",
      "                        'endSection': 'abstract',\n",
      "                        'offsetInBeginSection': 394,\n",
      "                        'offsetInEndSection': 510,\n",
      "                        'text': 'This study suggests that MIR137 is the '\n",
      "                                'mediator of the obesity phenotype of patients '\n",
      "                                'carrying 1p21.3 microdeletions.'},\n",
      "                    {   'beginSection': 'abstract',\n",
      "                        'document': 'http://www.ncbi.nlm.nih.gov/pubmed/27822311',\n",
      "                        'endSection': 'abstract',\n",
      "                        'offsetInBeginSection': 246,\n",
      "                        'offsetInEndSection': 393,\n",
      "                        'text': 'We describe a 10-year-old boy with syndromic '\n",
      "                                'obesity who carries a novel 1p21.3\\xa0'\n",
      "                                'deletion overlapping the critical region with '\n",
      "                                'the MIR137 gene only.'},\n",
      "                    {   'beginSection': 'abstract',\n",
      "                        'document': 'http://www.ncbi.nlm.nih.gov/pubmed/22003227',\n",
      "                        'endSection': 'abstract',\n",
      "                        'offsetInBeginSection': 1606,\n",
      "                        'offsetInEndSection': 1794,\n",
      "                        'text': 'This study showed that dosage effects of '\n",
      "                                'MIR137 are associated with 1p21.3 '\n",
      "                                'microdeletions and may therefore contribute '\n",
      "                                'to the ID phenotype in patients with '\n",
      "                                'deletions harbouring this miRNA.'},\n",
      "                    {   'beginSection': 'title',\n",
      "                        'document': 'http://www.ncbi.nlm.nih.gov/pubmed/22003227',\n",
      "                        'endSection': 'title',\n",
      "                        'offsetInBeginSection': 0,\n",
      "                        'offsetInEndSection': 104,\n",
      "                        'text': 'Chromosome 1p21.3 microdeletions comprising '\n",
      "                                'DPYD and MIR137 are associated with '\n",
      "                                'intellectual disability.'},\n",
      "                    {   'beginSection': 'abstract',\n",
      "                        'document': 'http://www.ncbi.nlm.nih.gov/pubmed/22003227',\n",
      "                        'endSection': 'abstract',\n",
      "                        'offsetInBeginSection': 942,\n",
      "                        'offsetInEndSection': 1045,\n",
      "                        'text': 'Therefore, this study investigated the '\n",
      "                                'possible involvement of MIR137 in the '\n",
      "                                '1p21.3-deletion phenotype.'}],\n",
      "    'type': 'factoid'}\n"
     ]
    },
    {
     "name": "stderr",
     "output_type": "stream",
     "text": [
      "100%|██████████| 3243/3243 [6:03:38<00:00,  6.73s/it]\n",
      "100%|██████████| 2/2 [12:11:52<00:00, 21956.18s/it] \n"
     ]
    }
   ],
   "source": [
    "for (file, trainset) in tqdm.tqdm(files, position=0):\n",
    "    hard_negative_pairs = []\n",
    "    bioasq = json.load(open(file, \"r\"))\n",
    "    for question in tqdm.tqdm(bioasq['questions'], position=0):\n",
    "        hneg_pairs = get_hard_negative_pairs(question, trainset)\n",
    "        if hneg_pairs != None:\n",
    "            hard_negative_pairs.extend(hneg_pairs)\n",
    "    with open('generated_pairs/negative_hard_pairs_'+str(trainset)+'b.json', 'w') as hneg:\n",
    "        json.dump(hard_negative_pairs, hneg)\n",
    "        #print(len(get_hard_negative_pairs(question, trainset)))\n",
    "#pp.pprint(hard_negative_pairs[0])"
   ]
  },
  {
   "cell_type": "code",
   "execution_count": 620,
   "metadata": {},
   "outputs": [
    {
     "name": "stderr",
     "output_type": "stream",
     "text": [
      "100%|██████████| 46451/46451 [00:47<00:00, 969.87it/s] \n"
     ]
    }
   ],
   "source": [
    "biosent_hardnegative_scores = positive_biosent_scores(hard_negative_pairs)"
   ]
  },
  {
   "cell_type": "code",
   "execution_count": 621,
   "metadata": {},
   "outputs": [
    {
     "name": "stderr",
     "output_type": "stream",
     "text": [
      "/home/aerossom/.local/lib/python3.6/site-packages/scipy/stats/stats.py:1713: FutureWarning: Using a non-tuple sequence for multidimensional indexing is deprecated; use `arr[tuple(seq)]` instead of `arr[seq]`. In the future this will be interpreted as an array index, `arr[np.array(seq)]`, which will result either in an error or a different result.\n",
      "  return np.add.reduce(sorted[indexer] * weights, axis=axis) / sumval\n"
     ]
    },
    {
     "data": {
      "text/plain": [
       "Text(0.5, 1.0, 'hard negative cosine similarity')"
      ]
     },
     "execution_count": 621,
     "metadata": {},
     "output_type": "execute_result"
    },
    {
     "data": {
      "image/png": "[encoded data removed]",
      "text/plain": [
       "<Figure size 432x288 with 1 Axes>"
      ]
     },
     "metadata": {
      "needs_background": "light"
     },
     "output_type": "display_data"
    }
   ],
   "source": [
    "sns.distplot(biosent_hardnegative_scores).set_title('hard negative cosine similarity')"
   ]
  },
  {
   "cell_type": "code",
   "execution_count": null,
   "metadata": {},
   "outputs": [],
   "source": []
  },
  {
   "cell_type": "code",
   "execution_count": null,
   "metadata": {},
   "outputs": [],
   "source": [
    "def get_qa_false_hard(gold, pairs, n, min_threshold, max_threshold=0.9):\n",
    "    '''Get n false-easy snippets from a true (gold) QA object.'''\n",
    "    original_n = n\n",
    "    \n",
    "    print(\"GOLD SENTENCE:\\n\\n\" + gold['passage'] + \"\\n\\n\")\n",
    "    print(\"FALSE HARD SENTENCES:\\n\")\n",
    "    \n",
    "    false_hard = set()\n",
    "    pairs_to_check = np.arange(len(pairs))\n",
    "    check = []\n",
    "    while n > 0 and len(pairs_to_check) > 0:\n",
    "        check_idx = np.random.randint(len(pairs_to_check))\n",
    "        idx = pairs_to_check[check_idx]\n",
    "        check.append(idx)\n",
    "        pairs_to_check = np.delete(pairs_to_check, check_idx)\n",
    "        rand_pair = pairs[idx]\n",
    "            \n",
    "        gold_sent = gold['passage']\n",
    "        rand_sent = rand_pair['passage']\n",
    "\n",
    "        s = abs(similarity(gold_sent, rand_sent))\n",
    "\n",
    "        if s > min_threshold and s < max_threshold and rand_sent not in false_hard:\n",
    "            print(f\"{original_n - n + 1}. ({s}) [{rand_pair['id'].split('-')[1]} {idx}]\\n'{rand_sent}'\\n\")\n",
    "            false_hard.add(rand_sent)\n",
    "            n -= 1\n",
    "    \n",
    "    if len(pairs_to_check) == 0:\n",
    "        print(\"Searching list was exhausted.\")\n",
    "        \n",
    "    return list(false_hard)"
   ]
  },
  {
   "cell_type": "code",
   "execution_count": 492,
   "metadata": {},
   "outputs": [
    {
     "data": {
      "text/plain": [
       "[{'offsetInBeginSection': 12,\n",
       "  'offsetInEndSection': 143,\n",
       "  'text': 'METHODS: Resource use was based on recent primary data (Polyquest Prescriber Analysis, Anemia Patient Record Study in Switzerland).'},\n",
       " {'offsetInBeginSection': 236,\n",
       "  'offsetInEndSection': 334,\n",
       "  'text': 'Drug costs and costs of materials used were based on official tariffs (Spezialitätenliste, MiGeL).'},\n",
       " {'offsetInBeginSection': 335,\n",
       "  'offsetInEndSection': 433,\n",
       "  'text': 'Actual IMS sales data of both products were used to verify the BI model (1 CHF ≈ 1 USD, Jan 2013).'},\n",
       " {'offsetInBeginSection': 433,\n",
       "  'offsetInEndSection': 565,\n",
       "  'text': 'RESULTS: Ferric carboxymaltose was associated with cost savings of 30-44 % per patient per treatment cycle compared to iron sucrose.'},\n",
       " {'offsetInBeginSection': 566,\n",
       "  'offsetInEndSection': 706,\n",
       "  'text': 'Costs per 200/500/1,000 mg total dosage treatment cycle were CHF 101/210/420 for ferric carboxymaltose and CHF 144/375/721 for iron sucrose.'},\n",
       " {'offsetInBeginSection': 707,\n",
       "  'offsetInEndSection': 788,\n",
       "  'text': 'This results in cost savings of CHF 22-31 million across all indications in 2009.'},\n",
       " {'offsetInBeginSection': 885,\n",
       "  'offsetInEndSection': 1048,\n",
       "  'text': 'Sensitivity analyses confirmed these cost savings, even for the higher application costs of ferric carboxymaltose, with minimum savings of CHF 17 million per year.'},\n",
       " {'offsetInBeginSection': 1048,\n",
       "  'offsetInEndSection': 1207,\n",
       "  'text': 'CONCLUSIONS: Treating iron deficiency involves substantial costs to the Swiss MHI which may be reduced by substituting iron sucrose with ferric carboxymaltose.'},\n",
       " {'offsetInBeginSection': 1208,\n",
       "  'offsetInEndSection': 1360,\n",
       "  'text': 'The use of real-life data raises methodological questions about the fundamental compatibility of this data with the conceptual framework of BI analysis.'}]"
      ]
     },
     "execution_count": 492,
     "metadata": {},
     "output_type": "execute_result"
    }
   ],
   "source": [
    "abst"
   ]
  },
  {
   "cell_type": "code",
   "execution_count": 93,
   "metadata": {},
   "outputs": [],
   "source": [
    "\n",
    "\n",
    "def get_qa_false_hard(gold, pairs, n, min_threshold, max_threshold=0.9):\n",
    "    '''Get n false-easy snippets from a true (gold) QA object.'''\n",
    "    original_n = n\n",
    "    \n",
    "    print(\"GOLD SENTENCE:\\n\\n\" + gold['passage'] + \"\\n\\n\")\n",
    "    print(\"FALSE HARD SENTENCES:\\n\")\n",
    "    \n",
    "    false_hard = set()\n",
    "    pairs_to_check = np.arange(len(pairs))\n",
    "    check = []\n",
    "    while n > 0 and len(pairs_to_check) > 0:\n",
    "        check_idx = np.random.randint(len(pairs_to_check))\n",
    "        idx = pairs_to_check[check_idx]\n",
    "        check.append(idx)\n",
    "        pairs_to_check = np.delete(pairs_to_check, check_idx)\n",
    "        rand_pair = pairs[idx]\n",
    "            \n",
    "        gold_sent = gold['passage']\n",
    "        rand_sent = rand_pair['passage']\n",
    "\n",
    "        s = abs(similarity(gold_sent, rand_sent))\n",
    "\n",
    "        if s > min_threshold and s < max_threshold and rand_sent not in false_hard:\n",
    "            print(f\"{original_n - n + 1}. ({s}) [{rand_pair['id'].split('-')[1]} {idx}]\\n'{rand_sent}'\\n\")\n",
    "            false_hard.add(rand_sent)\n",
    "            n -= 1\n",
    "    \n",
    "    if len(pairs_to_check) == 0:\n",
    "        print(\"Searching list was exhausted.\")\n",
    "        \n",
    "    return list(false_hard)"
   ]
  },
  {
   "cell_type": "code",
   "execution_count": 96,
   "metadata": {},
   "outputs": [
    {
     "name": "stdout",
     "output_type": "stream",
     "text": [
      "GOLD SENTENCE:\n",
      "\n",
      "Muenke syndrome is characterized by coronal craniosynostosis (bilateral more often than unilateral), hearing loss, developmental delay, and carpal and/or tarsal bone coalition. Tarsal coalition is a distinct feature of Muenke syndrome and has been reported since the initial description of the disorder in the 1990s. \n",
      "\n",
      "\n",
      "FALSE HARD SENTENCES:\n",
      "\n",
      "1. (0.12385855135789026) [23116225 213]\n",
      "'This review provides an overview of the efficacy and safety of antihypertensive therapy based on olmesartan medoxomil ± hydrochlorothiazide and amlodipine/olmesartan medoxomil in high-risk patient populations enrolled in studies that reported ambulatory BP endpoints'\n",
      "\n",
      "2. (0.10649297232912369) [23044018 24]\n",
      "'Muenke syndrome is an autosomal-dominant craniosynostosis syndrome characterized by unilateral or bilateral coronal craniosynostosis, hearing loss, intellectual disability, and relatively subtle limb findings such as carpal bone fusion and tarsal bone fusion'\n",
      "\n",
      "Searching list was exhausted.\n"
     ]
    }
   ],
   "source": [
    "false_hard = get_qa_false_hard(true_pairs[0], true_pairs, 5, min_threshold=0.1)"
   ]
  },
  {
   "cell_type": "markdown",
   "metadata": {},
   "source": [
    "### 2. Negative Easy Pairs"
   ]
  },
  {
   "cell_type": "code",
   "execution_count": 13,
   "metadata": {},
   "outputs": [],
   "source": [
    "def get_qa_false_easy(gold, n, threshold=0.01):\n",
    "    global positive_pairs\n",
    "    '''Get n false-easy snippets from a true (gold) QA object.'''\n",
    "    original_n = n\n",
    "    \n",
    "    gold_sent = gold['passage']\n",
    "    \n",
    "    print(\"GOLD SENTENCE:\\n\\n\" + gold_sent + \"\\n\\n\")\n",
    "    print(\"FALSE EASY SENTENCES:\\n\")\n",
    "    false_easy = set()\n",
    "    \n",
    "    while n > 0:\n",
    "        rand_pair = true_pairs[np.random.randint(len(true_pairs))]\n",
    "        \n",
    "        if rand_pair['questionId'] != gold['questionId']:\n",
    "            gold_sent = gold['passage']\n",
    "            rand_sent = rand_pair['passage']\n",
    "            \n",
    "            s = abs(similarity(gold_sent, rand_sent))\n",
    "            \n",
    "            if s < threshold and rand_sent not in false_easy:\n",
    "                print(f\"{original_n - n + 1}. ({s})\\n'{rand_sent}'\\n\")\n",
    "                false_easy.add(rand_sent)\n",
    "                n -= 1\n",
    "                \n",
    "    return list(false_easy)"
   ]
  },
  {
   "cell_type": "code",
   "execution_count": 14,
   "metadata": {},
   "outputs": [
    {
     "name": "stdout",
     "output_type": "stream",
     "text": [
      "GOLD SENTENCE:\n",
      "\n",
      "Muenke syndrome is characterized by coronal craniosynostosis (bilateral more often than unilateral), hearing loss, developmental delay, and carpal and/or tarsal bone coalition. Tarsal coalition is a distinct feature of Muenke syndrome and has been reported since the initial description of the disorder in the 1990s. \n",
      "\n",
      "\n",
      "FALSE EASY SENTENCES:\n",
      "\n",
      "1. (0.018803117087473176)\n",
      "'Influence of the human cohesion establishment factor Ctf4/AND-1 on DNA replication.'\n",
      "\n",
      "2. (0.012641665898401433)\n",
      "'is study determined the effect of nonsteroidal anti-inflammatory drug (NSAID) administration on blood pressure in hypertensive patients taking hydrochlorothiazide (HCTZ). '\n",
      "\n",
      "3. (0.018683252230306535)\n",
      "'Using cell viability and fluorescent activated cell sorting analysis tests, we demonstrated that captopril inhibited the viability of LNM35 cells by inducing apoptosis, providing insight about the mechanisms underlying its antitumorigenic activities. In view of these experimental findings, we conclude that captopril could be a promising option for the treatment of lung cancer.'\n",
      "\n",
      "4. (0.005440061576665878)\n",
      "'Li-Fraumeni syndrome (LFS) is a highly penetrant, autosomal dominant, human familial cancer predisposition'\n",
      "\n",
      "5. (0.013010956892361536)\n",
      "'Here we show that SCF(Dia2) associates with the replisome progression complex (RPC) that assembles around the MCM2-7 helicase at DNA replication forks [6].'\n",
      "\n"
     ]
    }
   ],
   "source": [
    "false_easy = get_qa_false_easy(true_pairs[0], 5, threshold=0.02)"
   ]
  }
 ],
 "metadata": {
  "kernelspec": {
   "display_name": "Python 3",
   "language": "python",
   "name": "python3"
  },
  "language_info": {
   "codemirror_mode": {
    "name": "ipython",
    "version": 3
   },
   "file_extension": ".py",
   "mimetype": "text/x-python",
   "name": "python",
   "nbconvert_exporter": "python",
   "pygments_lexer": "ipython3",
   "version": "3.6.10"
  }
 },
 "nbformat": 4,
 "nbformat_minor": 4
}
