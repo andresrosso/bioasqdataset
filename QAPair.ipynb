{
 "cells": [
  {
   "cell_type": "markdown",
   "metadata": {},
   "source": [
    "# Dataset BioASQ"
   ]
  },
  {
   "cell_type": "code",
   "execution_count": 1,
   "metadata": {},
   "outputs": [],
   "source": [
    "import json\n",
    "import sys\n",
    "from bs4 import BeautifulSoup\n",
    "import requests\n",
    "import sys,os,os.path\n",
    "import re\n",
    "import spacy\n",
    "import numpy as np\n",
    "import random\n",
    "import seaborn as sns\n",
    "import tqdm\n",
    "import pprint"
   ]
  },
  {
   "cell_type": "code",
   "execution_count": 8,
   "metadata": {},
   "outputs": [
    {
     "data": {
      "text/plain": [
       "[('gold_standard/BioASQ-trainingDataset4b.json', 4),\n",
       " ('gold_standard/BioASQ-trainingDataset5b.json', 5),\n",
       " ('gold_standard/BioASQ-trainingDataset6b.json', 6),\n",
       " ('gold_standard/BioASQ-trainingDataset7b.json', 7),\n",
       " ('gold_standard/BioASQ-trainingDataset8b.json', 8)]"
      ]
     },
     "execution_count": 8,
     "metadata": {},
     "output_type": "execute_result"
    }
   ],
   "source": [
    "GOLD_PATH = 'gold_standard/'\n",
    "files = [(f\"{GOLD_PATH}BioASQ-trainingDataset{i}b.json\", i) for i in [4, 5, 6, 7, 8]]\n",
    "files"
   ]
  },
  {
   "cell_type": "code",
   "execution_count": 9,
   "metadata": {},
   "outputs": [],
   "source": [
    "nlp = spacy.load(\"en_core_web_sm\")"
   ]
  },
  {
   "cell_type": "code",
   "execution_count": 10,
   "metadata": {},
   "outputs": [],
   "source": [
    "pp = pprint.PrettyPrinter(indent=4)"
   ]
  },
  {
   "cell_type": "markdown",
   "metadata": {},
   "source": [
    "### Estructura de `bioasq.question`\n",
    "- `triplets`:\n",
    "    - `o`: 'CRS',\n",
    "    - `p`: 'http://www.w3.org/2008/05/skos-xl#literalForm',\n",
    "    - `s`: 'http://linkedlifedata.com/resource/umls/label/A11993001'},"
   ]
  },
  {
   "cell_type": "markdown",
   "metadata": {},
   "source": [
    "{\n",
    "'pair_id': idq_docid_startchar-endchar,\n",
    "'question_id',\n",
    "'question',\n",
    "'passage',\n",
    "'trainset',\n",
    "'doc_url',\n",
    "'section': ['title','abstract']\n",
    "'is_answer': 1,\n",
    "'doc_related': 0,\n",
    "'biosentvec_cossim': [0,1],\n",
    "'offsetInBeginSection': 235,\n",
    "'offsetInEndSection': 345,\n",
    "}"
   ]
  },
  {
   "cell_type": "code",
   "execution_count": 21,
   "metadata": {},
   "outputs": [],
   "source": [
    "def get_qa_true_pairs(question, trainset):\n",
    "    '''Transform a BioASQ gold object into a QAPair object.'''\n",
    "    def get_pair_id(question, answer):\n",
    "        params = [\n",
    "            question['id'], # question id\n",
    "            answer['document'].split('/')[-1], # answer id\n",
    "            answer['beginSection'],\n",
    "            str(answer['offsetInBeginSection']),\n",
    "            answer['endSection'],\n",
    "            str(answer['offsetInEndSection'])\n",
    "        ]\n",
    "            \n",
    "        return '-'.join(params)\n",
    "    \n",
    "#     pp.pprint(question)\n",
    "    pairs = []\n",
    "    for answer in question['snippets']:\n",
    "        pair = {}\n",
    "        pair['pairId'] = get_pair_id(question, answer)\n",
    "        pair['questionId'] = question['id']\n",
    "        pair['passage'] = answer['text']\n",
    "        pair['trainset'] = f\"{trainset}b\"\n",
    "        pair['doc_url'] = answer['document']\n",
    "        pair['is_answer'] = 1\n",
    "        pair['doc_related'] = 0\n",
    "        pair['bioSentVecCosSim'] = 0\n",
    "        pair['beginSection'] = answer['beginSection']\n",
    "        pair['offsetInBeginSection'] = answer['offsetInBeginSection']\n",
    "        pair['endSection'] = answer['endSection']\n",
    "        pair['offsetInEndSection'] = answer['offsetInEndSection']\n",
    "        \n",
    "        pairs.append(pair)\n",
    "    return pairs"
   ]
  },
  {
   "cell_type": "code",
   "execution_count": 22,
   "metadata": {},
   "outputs": [
    {
     "name": "stdout",
     "output_type": "stream",
     "text": [
      "{   'beginSection': 'abstract',\n",
      "    'bioSentVecCosSim': 0,\n",
      "    'doc_related': 0,\n",
      "    'doc_url': 'http://www.ncbi.nlm.nih.gov/pubmed/23378035',\n",
      "    'endSection': 'abstract',\n",
      "    'is_answer': 1,\n",
      "    'offsetInBeginSection': 164,\n",
      "    'offsetInEndSection': 481,\n",
      "    'pairId': '52bf1d3c03868f1b0600000d-23378035-abstract-164-abstract-481',\n",
      "    'passage': 'Muenke syndrome is characterized by coronal craniosynostosis '\n",
      "               '(bilateral more often than unilateral), hearing loss, '\n",
      "               'developmental delay, and carpal and/or tarsal bone coalition. '\n",
      "               'Tarsal coalition is a distinct feature of Muenke syndrome and '\n",
      "               'has been reported since the initial description of the '\n",
      "               'disorder in the 1990s. ',\n",
      "    'questionId': '52bf1d3c03868f1b0600000d',\n",
      "    'trainset': '4b'}\n"
     ]
    }
   ],
   "source": [
    "true_pairs = []\n",
    "\n",
    "for (file, trainset) in files[:1]:\n",
    "    bioasq = json.load(open(file, \"r\"))\n",
    "    for question in bioasq['questions'][:1]:\n",
    "        true_pairs.extend(get_qa_true_pairs(question, trainset))\n",
    "        \n",
    "pp.pprint(true_pairs[0])"
   ]
  },
  {
   "cell_type": "code",
   "execution_count": null,
   "metadata": {},
   "outputs": [],
   "source": []
  }
 ],
 "metadata": {
  "kernelspec": {
   "display_name": "Python 3",
   "language": "python",
   "name": "python3"
  },
  "language_info": {
   "codemirror_mode": {
    "name": "ipython",
    "version": 3
   },
   "file_extension": ".py",
   "mimetype": "text/x-python",
   "name": "python",
   "nbconvert_exporter": "python",
   "pygments_lexer": "ipython3",
   "version": "3.7.5"
  }
 },
 "nbformat": 4,
 "nbformat_minor": 4
}
