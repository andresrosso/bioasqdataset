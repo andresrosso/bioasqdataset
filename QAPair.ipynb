{
 "cells": [
  {
   "cell_type": "markdown",
   "metadata": {},
   "source": [
    "# Dataset BioASQ: QAPair"
   ]
  },
  {
   "cell_type": "markdown",
   "metadata": {},
   "source": [
    "### 0. Initial setup (0)"
   ]
  },
  {
   "cell_type": "code",
   "execution_count": 27,
   "metadata": {},
   "outputs": [],
   "source": [
    "import json\n",
    "import sys\n",
    "sys.path.insert(0,'common/')\n",
    "import nlp_util\n",
    "from bs4 import BeautifulSoup\n",
    "import requests\n",
    "import sys,os,os.path\n",
    "import re\n",
    "import spacy\n",
    "import random\n",
    "import seaborn as sns\n",
    "import tqdm\n",
    "import pprint\n",
    "from scipy import stats\n",
    "import numpy as np\n",
    "import seaborn as sns\n",
    "from fuzzywuzzy import fuzz\n",
    "np.set_printoptions(precision=4)"
   ]
  },
  {
   "cell_type": "code",
   "execution_count": 28,
   "metadata": {},
   "outputs": [
    {
     "data": {
      "text/plain": [
       "[('gold_standard/BioASQ-trainingDataset4b.json', 4),\n",
       " ('gold_standard/BioASQ-trainingDataset5b.json', 5),\n",
       " ('gold_standard/BioASQ-trainingDataset6b.json', 6),\n",
       " ('gold_standard/BioASQ-trainingDataset7b.json', 7),\n",
       " ('gold_standard/BioASQ-trainingDataset8b.json', 8)]"
      ]
     },
     "execution_count": 28,
     "metadata": {},
     "output_type": "execute_result"
    }
   ],
   "source": [
    "biosent_path = '../data2/bioasq/embeddings/biosent_vect/BioSentVec_PubMed_MIMICIII-bigram_d700.bin'\n",
    "GOLD_PATH = 'gold_standard/'\n",
    "files = [(f\"{GOLD_PATH}BioASQ-trainingDataset{i}b.json\", i) for i in [4, 5, 6, 7, 8]]\n",
    "files"
   ]
  },
  {
   "cell_type": "code",
   "execution_count": 29,
   "metadata": {},
   "outputs": [
    {
     "name": "stdout",
     "output_type": "stream",
     "text": [
      "BioSentVec_PubMed_MIMICIII-bigram_d700.bin\r\n",
      "BioSentVec_PubMed_MIMICIII-bigram_d700.bin.1\r\n",
      "BioWordVec_PubMed_MIMICIII_d200.bin\r\n",
      "BioWordVec_PubMed_MIMICIII_d200.vec.bin\r\n",
      "index.html\r\n"
     ]
    }
   ],
   "source": [
    "!ls ../data2/bioasq/embeddings/biosent_vect/ "
   ]
  },
  {
   "cell_type": "markdown",
   "metadata": {},
   "source": [
    "### Dataset Preprocess Stats"
   ]
  },
  {
   "cell_type": "code",
   "execution_count": 30,
   "metadata": {},
   "outputs": [
    {
     "name": "stdout",
     "output_type": "stream",
     "text": [
      "\n"
     ]
    }
   ],
   "source": [
    "fuzzy_sim_threshold = 80\n",
    "question_count = 0\n",
    "question_pairs_count = 0\n",
    "qa_count_list = []\n",
    "for (file, trainset) in files:\n",
    "    bioasq = json.load(open(file, \"r\"))\n",
    "    for question in bioasq['questions']:\n",
    "        question_count += 1\n",
    "        len_a = 0\n",
    "        if 'snippets' in question:\n",
    "            len_a = len([answer for answer in question['snippets']])\n",
    "            question_pairs_count += len_a\n",
    "        qa_count_list.append(len_a)"
   ]
  },
  {
   "cell_type": "code",
   "execution_count": 31,
   "metadata": {},
   "outputs": [
    {
     "name": "stdout",
     "output_type": "stream",
     "text": [
      "# questions 11347, # pairs 173253\n",
      "# Stats answers per question: \n",
      "DescribeResult(nobs=11347, minmax=(0, 126), mean=15.26861725566229, variance=193.7709549272643, skewness=2.3711926050954735, kurtosis=9.238227180052318)\n",
      "# question without answer 21\n"
     ]
    }
   ],
   "source": [
    "print('# questions {}, # pairs {}'.format(question_count,question_pairs_count))\n",
    "print('# Stats answers per question: ')\n",
    "print(stats.describe(qa_count_list))\n",
    "print('# question without answer {}'.format(len(qa_count_list)-np.count_nonzero(qa_count_list)) )"
   ]
  },
  {
   "cell_type": "markdown",
   "metadata": {},
   "source": [
    "### Preprocess Dataset "
   ]
  },
  {
   "cell_type": "code",
   "execution_count": 32,
   "metadata": {},
   "outputs": [],
   "source": [
    "nlp = spacy.load(\"en_core_web_sm\")"
   ]
  },
  {
   "cell_type": "code",
   "execution_count": 33,
   "metadata": {},
   "outputs": [],
   "source": [
    "pp = pprint.PrettyPrinter(indent=4)"
   ]
  },
  {
   "cell_type": "code",
   "execution_count": 34,
   "metadata": {},
   "outputs": [
    {
     "name": "stdout",
     "output_type": "stream",
     "text": [
      "biosentvec model successfully loaded\n"
     ]
    }
   ],
   "source": [
    "import sent2vec\n",
    "from nltk import word_tokenize\n",
    "from nltk.corpus import stopwords\n",
    "from string import punctuation\n",
    "from scipy.spatial import distance\n",
    "\n",
    "model = sent2vec.Sent2vecModel()\n",
    "try:\n",
    "    model.load_model(biosent_path)\n",
    "    print('biosentvec model successfully loaded')\n",
    "except Exception as e:\n",
    "    print(e)"
   ]
  },
  {
   "cell_type": "code",
   "execution_count": 35,
   "metadata": {},
   "outputs": [],
   "source": [
    "stop_words = set(stopwords.words('english'))\n",
    "def biosent_preprocess(text):\n",
    "    text = text.replace('/', ' / ')\n",
    "    text = text.replace('.-', ' .- ')\n",
    "    text = text.replace('.', ' . ')\n",
    "    text = text.replace('\\'', ' \\' ')\n",
    "    text = text.lower()\n",
    "\n",
    "    tokens = [token for token in word_tokenize(text) if token not in punctuation and token not in stop_words]\n",
    "\n",
    "    return ' '.join(tokens)"
   ]
  },
  {
   "cell_type": "code",
   "execution_count": 36,
   "metadata": {},
   "outputs": [],
   "source": [
    "def biosent_similarity(sent1, sent2):\n",
    "    sentence_1 = biosent_preprocess(sent1)\n",
    "    sentence_vector_1 = model.embed_sentence(sentence_1)\n",
    "    sentence_2 = biosent_preprocess(sent2)\n",
    "    sentence_vector_2 = model.embed_sentence(sentence_2)\n",
    "    cosine_sim = 1 - distance.cosine(sentence_vector_1, sentence_vector_2)\n",
    "    return cosine_sim"
   ]
  },
  {
   "cell_type": "code",
   "execution_count": 37,
   "metadata": {},
   "outputs": [
    {
     "data": {
      "text/plain": [
       "1.0"
      ]
     },
     "execution_count": 37,
     "metadata": {},
     "output_type": "execute_result"
    }
   ],
   "source": [
    "biosent_similarity('test','test')"
   ]
  },
  {
   "cell_type": "code",
   "execution_count": 38,
   "metadata": {},
   "outputs": [],
   "source": [
    "def get_answer_id(answer):\n",
    "    return answer['document'].split('/')[-1]\n",
    "\n",
    "def get_pair_id(question, answer):\n",
    "    params = [\n",
    "        question['id'], # question id\n",
    "        get_answer_id(answer),\n",
    "        answer['beginSection'],\n",
    "        str(answer['offsetInBeginSection']),\n",
    "        answer['endSection'],\n",
    "        str(answer['offsetInEndSection'])\n",
    "    ]\n",
    "\n",
    "    return '-'.join(params)"
   ]
  },
  {
   "cell_type": "code",
   "execution_count": 39,
   "metadata": {},
   "outputs": [],
   "source": [
    "def build_pair(question, passage, trainset, is_answer, doc_related, bioSentVecCosSim):\n",
    "    '''Build a single QAPair object given its stats (is_answer, doc_related, bioSentVecCosSim).'''\n",
    "    \n",
    "    pair = {}\n",
    "    pair['pairId'] = get_pair_id(question, passage)\n",
    "    pair['questionId'] = question['id']\n",
    "    pair['question'] = question['body']\n",
    "    pair['passage'] = passage['text']\n",
    "    pair['trainset'] = f\"{trainset}b\"\n",
    "    pair['doc_url'] = passage['document']\n",
    "    pair['is_answer'] = is_answer\n",
    "    pair['doc_related'] = doc_related\n",
    "    pair['bioSentVecCosSim'] = bioSentVecCosSim\n",
    "    pair['beginSection'] = passage['beginSection']\n",
    "    pair['offsetInBeginSection'] = passage['offsetInBeginSection']\n",
    "    pair['endSection'] = passage['endSection']\n",
    "    pair['offsetInEndSection'] = passage['offsetInEndSection']\n",
    "    return pair"
   ]
  },
  {
   "cell_type": "code",
   "execution_count": 56,
   "metadata": {},
   "outputs": [],
   "source": [
    "import itertools\n",
    "from operator import itemgetter\n",
    "\n",
    "#with 2 deviations we endup with 95% of the data\n",
    "def mad_stats_filter(data, deviations=2):\n",
    "    data = np.array(data)\n",
    "    d = np.abs(data - np.median(data))\n",
    "    med_abs_dev = np.median(d)\n",
    "    s = d / med_abs_dev\n",
    "    filtered = data[s < deviations]\n",
    "    return filtered\n",
    "\n",
    "def qa_pair_stats(pairs):\n",
    "    data_stats = {}\n",
    "    len_seq_q = []\n",
    "    num_terms_q = []\n",
    "    len_seq_a = []\n",
    "    num_terms_a = []\n",
    "    \n",
    "    sorted_pairs = sorted(pairs, key=itemgetter('questionId'))\n",
    "    for key, value in itertools.groupby(sorted_pairs, key=itemgetter('questionId')):\n",
    "        for i, a in enumerate(value):\n",
    "            if a['beginSection'] == 'abstract':\n",
    "                if i == 0:\n",
    "                    len_seq_q.append(len(a['question']))\n",
    "                    num_terms_q.append(len(nlp_util.tokenize(a['question'])))\n",
    "                len_seq_a.append(len(a['passage']))\n",
    "                num_terms_a.append(len(nlp_util.tokenize(a['passage'])))\n",
    "    \n",
    "    data_stats['seq_a'] = len_seq_a\n",
    "    data_stats['seq_q'] = len_seq_q\n",
    "    data_stats['terms_a'] = num_terms_a\n",
    "    data_stats['terms_q'] = num_terms_q\n",
    "    data_stats['len_seq_q_stats'] = stats.describe(len_seq_q)\n",
    "    data_stats['terms_q_stats'] = stats.describe(num_terms_q)\n",
    "    data_stats['len_seq_a_stats'] = stats.describe(len_seq_a)\n",
    "    data_stats['terms_a_stats'] = stats.describe(num_terms_a)\n",
    "    #mad filtering (Median absolute deviation)\n",
    "    data_stats['mad_terms_q_stats'] = stats.describe(mad_stats_filter(num_terms_q))\n",
    "    data_stats['mad_terms_a_stats'] = stats.describe(mad_stats_filter(num_terms_a))\n",
    "    \n",
    "    return data_stats\n",
    "\n",
    "data_stats = qa_pair_stats(positive_pairs)"
   ]
  },
  {
   "cell_type": "code",
   "execution_count": 57,
   "metadata": {},
   "outputs": [
    {
     "data": {
      "text/plain": [
       "DescribeResult(nobs=2064, minmax=(13, 215), mean=58.32897286821706, variance=546.5824660312558, skewness=0.9218530924755453, kurtosis=1.9204553219796932)"
      ]
     },
     "execution_count": 57,
     "metadata": {},
     "output_type": "execute_result"
    }
   ],
   "source": [
    "data_stats['len_seq_q_stats']"
   ]
  },
  {
   "cell_type": "code",
   "execution_count": 58,
   "metadata": {},
   "outputs": [
    {
     "data": {
      "text/plain": [
       "Text(0.5, 1.0, 'question sequence lenght')"
      ]
     },
     "execution_count": 58,
     "metadata": {},
     "output_type": "execute_result"
    },
    {
     "data": {
      "image/png": "[encoded data removed]",
      "text/plain": [
       "<Figure size 432x288 with 1 Axes>"
      ]
     },
     "metadata": {
      "needs_background": "light"
     },
     "output_type": "display_data"
    }
   ],
   "source": [
    "sns.distplot(data_stats['seq_q']).set_title('question sequence lenght')"
   ]
  },
  {
   "cell_type": "code",
   "execution_count": 59,
   "metadata": {},
   "outputs": [
    {
     "data": {
      "text/plain": [
       "DescribeResult(nobs=28452, minmax=(4, 2467), mean=276.3698861239983, variance=35446.741461404905, skewness=3.3545879786157573, kurtosis=18.497114868482537)"
      ]
     },
     "execution_count": 59,
     "metadata": {},
     "output_type": "execute_result"
    }
   ],
   "source": [
    "data_stats['len_seq_a_stats']"
   ]
  },
  {
   "cell_type": "code",
   "execution_count": 44,
   "metadata": {},
   "outputs": [
    {
     "data": {
      "text/plain": [
       "Text(0.5, 1.0, 'answer passage sequence lenght')"
      ]
     },
     "execution_count": 44,
     "metadata": {},
     "output_type": "execute_result"
    },
    {
     "data": {
      "image/png": "[encoded data removed]",
      "text/plain": [
       "<Figure size 432x288 with 1 Axes>"
      ]
     },
     "metadata": {
      "needs_background": "light"
     },
     "output_type": "display_data"
    }
   ],
   "source": [
    "sns.distplot(data_stats['seq_a']).set_title('answer passage sequence lenght')"
   ]
  },
  {
   "cell_type": "code",
   "execution_count": 45,
   "metadata": {},
   "outputs": [
    {
     "data": {
      "text/plain": [
       "DescribeResult(nobs=2064, minmax=(2, 31), mean=8.944767441860465, variance=12.018276048653462, skewness=0.9292484385888287, kurtosis=1.9826278516699691)"
      ]
     },
     "execution_count": 45,
     "metadata": {},
     "output_type": "execute_result"
    }
   ],
   "source": [
    "data_stats['terms_q_stats']"
   ]
  },
  {
   "cell_type": "code",
   "execution_count": 46,
   "metadata": {},
   "outputs": [
    {
     "data": {
      "text/plain": [
       "DescribeResult(nobs=1494, minmax=(6, 12), mean=8.700133868808567, variance=3.2924715158916538, skewness=0.20393552589809935, kurtosis=-0.9651740964201565)"
      ]
     },
     "execution_count": 46,
     "metadata": {},
     "output_type": "execute_result"
    }
   ],
   "source": [
    "data_stats['mad_terms_q_stats']"
   ]
  },
  {
   "cell_type": "code",
   "execution_count": 47,
   "metadata": {},
   "outputs": [
    {
     "data": {
      "text/plain": [
       "Text(0.5, 1.0, 'question number of terms')"
      ]
     },
     "execution_count": 47,
     "metadata": {},
     "output_type": "execute_result"
    },
    {
     "data": {
      "image/png": "[encoded data removed]",
      "text/plain": [
       "<Figure size 432x288 with 1 Axes>"
      ]
     },
     "metadata": {
      "needs_background": "light"
     },
     "output_type": "display_data"
    }
   ],
   "source": [
    "sns.distplot(data_stats['terms_q']).set_title('question number of terms')"
   ]
  },
  {
   "cell_type": "code",
   "execution_count": 48,
   "metadata": {},
   "outputs": [
    {
     "data": {
      "text/plain": [
       "DescribeResult(nobs=28452, minmax=(1, 401), mean=41.20715591171095, variance=835.659169205173, skewness=3.4883836945044067, kurtosis=20.443476597868415)"
      ]
     },
     "execution_count": 48,
     "metadata": {},
     "output_type": "execute_result"
    }
   ],
   "source": [
    "data_stats['terms_a_stats']"
   ]
  },
  {
   "cell_type": "code",
   "execution_count": 49,
   "metadata": {},
   "outputs": [
    {
     "data": {
      "text/plain": [
       "DescribeResult(nobs=22257, minmax=(14, 56), mean=33.27820460978568, variance=104.70243336880873, skewness=0.1518787419807237, kurtosis=-0.6608115144183802)"
      ]
     },
     "execution_count": 49,
     "metadata": {},
     "output_type": "execute_result"
    }
   ],
   "source": [
    "data_stats['mad_terms_a_stats']"
   ]
  },
  {
   "cell_type": "code",
   "execution_count": 50,
   "metadata": {},
   "outputs": [
    {
     "data": {
      "text/plain": [
       "Text(0.5, 1.0, 'answer passage number of terms')"
      ]
     },
     "execution_count": 50,
     "metadata": {},
     "output_type": "execute_result"
    },
    {
     "data": {
      "image/png": "[encoded data removed]",
      "text/plain": [
       "<Figure size 432x288 with 1 Axes>"
      ]
     },
     "metadata": {
      "needs_background": "light"
     },
     "output_type": "display_data"
    }
   ],
   "source": [
    "sns.distplot(data_stats['terms_a']).set_title('answer passage number of terms')"
   ]
  },
  {
   "cell_type": "markdown",
   "metadata": {},
   "source": [
    "### 1. Positive Pairs "
   ]
  },
  {
   "cell_type": "code",
   "execution_count": 55,
   "metadata": {},
   "outputs": [],
   "source": [
    "import copy\n",
    "pos_question_pass_dict = {}\n",
    "\n",
    "def repeated_passage(qp_dict, passage, question_id):\n",
    "    if question_id not in qp_dict:\n",
    "        qp_dict[question_id] = [passage.lower()]\n",
    "        return False\n",
    "    for p in qp_dict[question_id]:\n",
    "        score = fuzz.ratio(p.lower(),passage)\n",
    "        if score > fuzzy_sim_threshold:\n",
    "            #print('Found a repeated passage score: {}'.format(score))\n",
    "            #print('passage repeated: \\n\\n{} \\n\\n{}\\n'.format(p.lower(),passage.lower()))\n",
    "            return True\n",
    "    qp_dict[question_id].append(passage.lower())\n",
    "    return False\n",
    "            \n",
    "repeated_passages = 0\n",
    "def get_qa_positive_pairs(question, trainset):\n",
    "    '''Transform a BioASQ question into a QAPair gold object.'''    \n",
    "    pairs = []\n",
    "    global repeated_passages\n",
    "    try:\n",
    "        if 'snippets' in question:\n",
    "            for idx_pass, passage in enumerate(question['snippets']):\n",
    "                if repeated_passage(pos_question_pass_dict, passage['text'], question['id']) is False:\n",
    "                    pairs.append(build_pair(question, passage, trainset, \n",
    "                                            is_answer=1, doc_related=1, bioSentVecCosSim=1))\n",
    "                else:\n",
    "                    repeated_passages += 1\n",
    "                    #print('qid: {}, trainset: {}, idx_passage: {}\\n\\n\\n\\n'.format(question['id'],trainset,idx_pass))\n",
    "    except Exception as e:\n",
    "        print('Error processing question in trainset {} question:'.format(trainset))\n",
    "        pp.pprint(question)\n",
    "        print(e)\n",
    "        return\n",
    "    return pairs"
   ]
  },
  {
   "cell_type": "code",
   "execution_count": null,
   "metadata": {},
   "outputs": [],
   "source": [
    "positive_pairs = []\n",
    "import tqdm\n",
    "for (file, trainset) in tqdm.tqdm(files, position=0):\n",
    "    bioasq = json.load(open(file, \"r\"))\n",
    "    for question in tqdm.tqdm(bioasq['questions'], position=0):\n",
    "        positive_pairs.extend(get_qa_positive_pairs(question, trainset))\n",
    "\n",
    "pp.pprint(positive_pairs[0])"
   ]
  },
  {
   "cell_type": "code",
   "execution_count": 305,
   "metadata": {},
   "outputs": [
    {
     "name": "stdout",
     "output_type": "stream",
     "text": [
      "Number of positive pairs: 32944, repeated passages 157197\n"
     ]
    }
   ],
   "source": [
    "print('Number of positive pairs: {}, repeated passages {}'.format(len(positive_pairs),repeated_passages) )"
   ]
  },
  {
   "cell_type": "code",
   "execution_count": 29,
   "metadata": {},
   "outputs": [],
   "source": [
    "import json\n",
    "with open('generated_pairs/positive_pairs.json', 'w') as pos:\n",
    "    json.dump(positive_pairs, pos, indent=4)"
   ]
  },
  {
   "cell_type": "code",
   "execution_count": 54,
   "metadata": {},
   "outputs": [],
   "source": [
    "#load\n",
    "positive_pairs = json.load(open('generated_pairs_bkp/positive_pairs.json', 'r'))"
   ]
  },
  {
   "cell_type": "markdown",
   "metadata": {},
   "source": [
    "### Find Hard Negative threshold\n"
   ]
  },
  {
   "cell_type": "code",
   "execution_count": 18,
   "metadata": {},
   "outputs": [],
   "source": [
    "def positive_biosent_scores(pairs):\n",
    "    sim_scores = []\n",
    "    for p in tqdm.tqdm(pairs, position=0):\n",
    "        score = biosent_similarity(p['passage'],p['question'])\n",
    "        if np.isnan(score):\n",
    "            print('pair biosentvec cos similarity is nan \\n{}, \\n\\n{}\\n'.format(p['question'],p['passage']))\n",
    "        else:\n",
    "            sim_scores.append(score)\n",
    "    return sim_scores"
   ]
  },
  {
   "cell_type": "code",
   "execution_count": null,
   "metadata": {},
   "outputs": [],
   "source": [
    "biosent_postives_scores = positive_biosent_scores(positive_pairs)"
   ]
  },
  {
   "cell_type": "code",
   "execution_count": 61,
   "metadata": {},
   "outputs": [
    {
     "data": {
      "text/plain": [
       "Text(0.5, 1.0, 'positive pairs cosine similarity')"
      ]
     },
     "execution_count": 61,
     "metadata": {},
     "output_type": "execute_result"
    },
    {
     "data": {
      "image/png": "[encoded data removed]",
      "text/plain": [
       "<Figure size 432x288 with 1 Axes>"
      ]
     },
     "metadata": {
      "needs_background": "light"
     },
     "output_type": "display_data"
    }
   ],
   "source": [
    "sns.distplot(biosent_postives_scores).set_title('positive pairs cosine similarity')"
   ]
  },
  {
   "cell_type": "code",
   "execution_count": 67,
   "metadata": {},
   "outputs": [
    {
     "name": "stdout",
     "output_type": "stream",
     "text": [
      "2016 generated_pairs\n",
      "Loaded BioasqUnalDataSet\n",
      "threshold  (0.0, 1)\n",
      "Number of pairs: 500248\n"
     ]
    }
   ],
   "source": [
    "#LOad negatives\n",
    "from common import qa_data\n",
    "dataset_id = ('BioasqUnalDataSet', 'generated_pairs') \n",
    "ds = qa_data.DataSetFactory.loadDataSet(dataset_id[0],year='2016',\\\n",
    "                            path=dataset_id[1], threshold=(0.0,1))\n",
    "bioasq_dataset = ds.build_qa_pairs(ds)\n",
    "neg_sim_scores = []\n",
    "for x in bioasq_dataset:\n",
    "    if x.l == 0:\n",
    "        neg_sim_scores.append(x.params['bioSentVecCosSim'])"
   ]
  },
  {
   "cell_type": "code",
   "execution_count": 81,
   "metadata": {},
   "outputs": [
    {
     "data": {
      "text/plain": [
       "Text(0.5, 1.0, 'BioSentVec Score Distribution')"
      ]
     },
     "execution_count": 81,
     "metadata": {},
     "output_type": "execute_result"
    },
    {
     "data": {
      "image/png": "[encoded data removed]",
      "text/plain": [
       "<Figure size 1200x600 with 1 Axes>"
      ]
     },
     "metadata": {
      "needs_background": "light"
     },
     "output_type": "display_data"
    }
   ],
   "source": [
    "import pylab as plt\n",
    "plt.figure(figsize=(6, 3), dpi=200)\n",
    "sns.distplot(neg_sim_scores, color='orange', kde_kws={\"label\": \"Non-Answer\"})\n",
    "sns.distplot(biosent_postives_scores, color='green', kde_kws={\"label\": \"Answer\"}).set_title('BioSentVec Score Distribution')"
   ]
  },
  {
   "cell_type": "markdown",
   "metadata": {},
   "source": [
    "### 2. Negative Hard Questions"
   ]
  },
  {
   "cell_type": "code",
   "execution_count": 19,
   "metadata": {},
   "outputs": [],
   "source": [
    "import ranking\n",
    "import datetime\n",
    "import time\n",
    "from elasticsearch import Elasticsearch\n",
    "import bioasq_util\n",
    "import importlib\n",
    "importlib.reload(bioasq_util)\n",
    "\n",
    "ts = datetime.datetime.fromtimestamp(int(time.time())).strftime('%d-%m-%Y_%H-%M')\n",
    "os_params = {\n",
    "    'es_host': os.environ.get('es_host', '168.176.36.10:9200'),\n",
    "    'es_index': os.environ.get('es_index', '2018_pubmed_baseline_title_abs_mesh'),\n",
    "}\n",
    "bioasq_util.es = Elasticsearch(hosts=[os_params['es_host']])\n",
    "index_name = os_params['es_index']\n",
    "doc_relative_url = 'http://www.ncbi.nlm.nih.gov/pubmed/'\n",
    "\n",
    "def remove_similar_chunks(passages, gold_passages, fuzzy_sim_th=40):\n",
    "    new_passages = []\n",
    "    for p in passages:\n",
    "        repeated = False\n",
    "        for gp in gold_passages:\n",
    "            ratio = fuzz.partial_ratio(p['text'], gp)\n",
    "            if ratio > fuzzy_sim_th:\n",
    "                repeated = True\n",
    "                #print('\\n\\nremoved {} \\n\\n ------ is similar ({}) to: {}\\n'.format(p['text'],ratio,gp))\n",
    "                break\n",
    "        if repeated == False:\n",
    "            new_passages.append(p)\n",
    "    return new_passages\n",
    "\n",
    "#the parameters to exclude passages must be based on positive stats, we use\n",
    "#the robust measure of variability MAD to filterout passages minmax=(13, 55)\n",
    "def extract_neg_doc_passages(doc, gold_passages, minmax_terms=(13, 55)):\n",
    "    doc_id = doc.replace(doc_relative_url,'')\n",
    "    doc_tuple = bioasq_util.get_doc(doc_id, index_name, remove_tags=True)\n",
    "    if doc_tuple is None:\n",
    "        return [],[]\n",
    "    doc_id, doc_title, doc_abstract = doc_tuple\n",
    "    #remove gold passages\n",
    "    for gp in gold_passages:\n",
    "        doc_abstract = doc_abstract.replace(gp, '')\n",
    "        doc_title = doc_title.replace(gp, '')\n",
    "    chunks_title = ranking.split_chunks(doc_title)\n",
    "    chunks_abstract = ranking.split_chunks(doc_abstract)\n",
    "    #remove fuzzy similar togold passages in abstract\n",
    "    chunks_abstract = remove_similar_chunks(chunks_abstract, gold_passages)\n",
    "    #remove passages out of positive stat behaviour\n",
    "    chunks_abstract = [ x for x in chunks_abstract\n",
    "                           if (minmax_terms[1] > len(nlp_util.tokenize(x['text'])) > minmax_terms[0]) ]\n",
    "    return chunks_title, chunks_abstract"
   ]
  },
  {
   "cell_type": "code",
   "execution_count": 20,
   "metadata": {},
   "outputs": [],
   "source": [
    "gold_passages = ['Iron deficiency is common in pregnancy, postpartum, inflammatory bowel disease, chronic kidney disease, chronic heart failure, heavy uterine bleeding, cancer and following surgery. We estimate the budget impact (BI) on the Swiss mandatory health insurance associated with substituting iron sucrose (standard) with ferric carboxymaltose (new treatment) using real-life data.']\n",
    "title, abst = extract_neg_doc_passages('http://www.ncbi.nlm.nih.gov/pubmed/20301588',gold_passages)\n",
    "#filter passages that are not similar to question\n",
    "#chunks_abstract =  [ x for x in chunks_abstract\n",
    "#                           if (biosent_similarity('test','test') len(nlp_util.tokenize(x['text'])) > minmax_terms[0]) ]\n",
    "#print(abst)"
   ]
  },
  {
   "cell_type": "code",
   "execution_count": 21,
   "metadata": {},
   "outputs": [],
   "source": [
    "import traceback"
   ]
  },
  {
   "cell_type": "code",
   "execution_count": 22,
   "metadata": {},
   "outputs": [],
   "source": [
    "def get_negative_pairs(question, trainset, biosent_sim_th=0.5):\n",
    "    pairs_hard = []\n",
    "    pairs_easy = []\n",
    "    gold_passages = []\n",
    "    try:\n",
    "        #get gold passages\n",
    "        if 'snippets' in question:\n",
    "            for idx_pass, passage in enumerate(question['snippets']):\n",
    "                gold_passages.append(passage['text'])\n",
    "        #extract passages from related documents\n",
    "        if 'documents' in question:\n",
    "            for idx_doc, doc in enumerate(question['documents']):\n",
    "                #extract title and abstract passage keeping similar positive stats\n",
    "                title, abst = extract_neg_doc_passages(doc,gold_passages)\n",
    "                # validate if the pair is close to the question based on positive biosentvec threshold\n",
    "                for p in abst:\n",
    "                    score = biosent_similarity(p['text'],question['body'])\n",
    "                    p['document'] = doc\n",
    "                    p['endSection'] = p['beginSection'] = 'abstract'\n",
    "                    pair_i = pairs_hard.append(build_pair(question, p, trainset, \n",
    "                                            is_answer=0, doc_related=1, bioSentVecCosSim=score))\n",
    "                    if score > biosent_sim_th:\n",
    "                        pairs_hard.append(pair_i)\n",
    "                    else:\n",
    "                        pairs_easy.append(pair_i)\n",
    "                        \n",
    "                for p in title:\n",
    "                    score = biosent_similarity(p['text'],question['body'])\n",
    "                    p['document'] = doc\n",
    "                    p['endSection'] = p['beginSection'] = 'title'\n",
    "                    pair_i = build_pair(question, p, trainset, \n",
    "                                            is_answer=0, doc_related=1, bioSentVecCosSim=score)\n",
    "                    if score > biosent_sim_th:\n",
    "                        pairs_hard.append(pair_i)\n",
    "                    else:\n",
    "                        pairs_easy.append(pair_i)\n",
    "    except Exception as e:\n",
    "        print('Error processing question in trainset {} question:'.format(trainset))\n",
    "        pp.pprint(question)\n",
    "        traceback.print_exc()\n",
    "        return\n",
    "    return pairs_hard, pairs_easy"
   ]
  },
  {
   "cell_type": "code",
   "execution_count": 23,
   "metadata": {},
   "outputs": [],
   "source": [
    "\"\"\"gold_passages_t1 = ['Muenke syndrome is an autosomal dominant disorder characterized by coronal suture craniosynostosis, hearing loss, developmental delay, carpal and tarsal fusions, and the presence of the Pro250Arg mutation in the FGFR3 gene']\n",
    "p2 = extract_neg_doc_passages('23378035', gold_passages_t1)\n",
    "print(p2)\"\"\";"
   ]
  },
  {
   "cell_type": "code",
   "execution_count": 24,
   "metadata": {},
   "outputs": [],
   "source": [
    "from pqdm.processes import pqdm\n",
    "from p_tqdm import p_uimap"
   ]
  },
  {
   "cell_type": "code",
   "execution_count": null,
   "metadata": {},
   "outputs": [],
   "source": [
    "for (file, trainset) in tqdm.tqdm(files[2:], position=0):\n",
    "    print('file: {}, trainset: {}'.format(file,trainset))\n",
    "    hard_negative_pairs = []\n",
    "    easy_negative_pairs = []\n",
    "    bioasq = json.load(open(file, \"r\"))\n",
    "    iterator = p_uimap(get_negative_pairs, bioasq['questions'], [ trainset for x in range(len(bioasq['questions']))] )\n",
    "    for result in iterator:\n",
    "    #for question in pt.tqdm(bioasq['questions'], position=0):\n",
    "        if result: \n",
    "            hneg_pairs, eneg_pairs = result[0], result[1]#get_negative_pairs(question, trainset)\n",
    "            if hneg_pairs:\n",
    "                hard_negative_pairs.extend(hneg_pairs)\n",
    "            if eneg_pairs:\n",
    "                easy_negative_pairs.extend(eneg_pairs)\n",
    "    with open('generated_pairs/negative_hard_pairs_'+str(trainset)+'b.json', 'w') as hneg:\n",
    "        json.dump(hard_negative_pairs, hneg, indent=4)\n",
    "    with open('generated_pairs/negative_easy_pairs_'+str(trainset)+'b.json', 'w') as eneg:\n",
    "        json.dump(easy_negative_pairs, eneg, indent=4)\n",
    "#print(len(get_hard_negative_pairs(question, trainset)))\n",
    "#pp.pprint(hard_negative_pairs[0])"
   ]
  },
  {
   "cell_type": "code",
   "execution_count": null,
   "metadata": {},
   "outputs": [],
   "source": [
    "print('a')"
   ]
  },
  {
   "cell_type": "code",
   "execution_count": 620,
   "metadata": {},
   "outputs": [
    {
     "name": "stderr",
     "output_type": "stream",
     "text": [
      "100%|██████████| 46451/46451 [00:47<00:00, 969.87it/s] \n"
     ]
    }
   ],
   "source": [
    "biosent_hardnegative_scores = positive_biosent_scores(hard_negative_pairs)"
   ]
  },
  {
   "cell_type": "code",
   "execution_count": 621,
   "metadata": {},
   "outputs": [
    {
     "name": "stderr",
     "output_type": "stream",
     "text": [
      "/home/aerossom/.local/lib/python3.6/site-packages/scipy/stats/stats.py:1713: FutureWarning: Using a non-tuple sequence for multidimensional indexing is deprecated; use `arr[tuple(seq)]` instead of `arr[seq]`. In the future this will be interpreted as an array index, `arr[np.array(seq)]`, which will result either in an error or a different result.\n",
      "  return np.add.reduce(sorted[indexer] * weights, axis=axis) / sumval\n"
     ]
    },
    {
     "data": {
      "text/plain": [
       "Text(0.5, 1.0, 'hard negative cosine similarity')"
      ]
     },
     "execution_count": 621,
     "metadata": {},
     "output_type": "execute_result"
    },
    {
     "data": {
      "image/png": "[encoded data removed]",
      "text/plain": [
       "<Figure size 432x288 with 1 Axes>"
      ]
     },
     "metadata": {
      "needs_background": "light"
     },
     "output_type": "display_data"
    }
   ],
   "source": [
    "sns.distplot(biosent_hardnegative_scores).set_title('hard negative cosine similarity')"
   ]
  },
  {
   "cell_type": "code",
   "execution_count": null,
   "metadata": {},
   "outputs": [],
   "source": [
    "def get_qa_false_hard(gold, pairs, n, min_threshold, max_threshold=0.9):\n",
    "    '''Get n false-easy snippets from a true (gold) QA object.'''\n",
    "    original_n = n\n",
    "    \n",
    "    print(\"GOLD SENTENCE:\\n\\n\" + gold['passage'] + \"\\n\\n\")\n",
    "    print(\"FALSE HARD SENTENCES:\\n\")\n",
    "    \n",
    "    false_hard = set()\n",
    "    pairs_to_check = np.arange(len(pairs))\n",
    "    check = []\n",
    "    while n > 0 and len(pairs_to_check) > 0:\n",
    "        check_idx = np.random.randint(len(pairs_to_check))\n",
    "        idx = pairs_to_check[check_idx]\n",
    "        check.append(idx)\n",
    "        pairs_to_check = np.delete(pairs_to_check, check_idx)\n",
    "        rand_pair = pairs[idx]\n",
    "            \n",
    "        gold_sent = gold['passage']\n",
    "        rand_sent = rand_pair['passage']\n",
    "\n",
    "        s = abs(similarity(gold_sent, rand_sent))\n",
    "\n",
    "        if s > min_threshold and s < max_threshold and rand_sent not in false_hard:\n",
    "            print(f\"{original_n - n + 1}. ({s}) [{rand_pair['id'].split('-')[1]} {idx}]\\n'{rand_sent}'\\n\")\n",
    "            false_hard.add(rand_sent)\n",
    "            n -= 1\n",
    "    \n",
    "    if len(pairs_to_check) == 0:\n",
    "        print(\"Searching list was exhausted.\")\n",
    "        \n",
    "    return list(false_hard)"
   ]
  },
  {
   "cell_type": "code",
   "execution_count": 492,
   "metadata": {},
   "outputs": [
    {
     "data": {
      "text/plain": [
       "[{'offsetInBeginSection': 12,\n",
       "  'offsetInEndSection': 143,\n",
       "  'text': 'METHODS: Resource use was based on recent primary data (Polyquest Prescriber Analysis, Anemia Patient Record Study in Switzerland).'},\n",
       " {'offsetInBeginSection': 236,\n",
       "  'offsetInEndSection': 334,\n",
       "  'text': 'Drug costs and costs of materials used were based on official tariffs (Spezialitätenliste, MiGeL).'},\n",
       " {'offsetInBeginSection': 335,\n",
       "  'offsetInEndSection': 433,\n",
       "  'text': 'Actual IMS sales data of both products were used to verify the BI model (1 CHF ≈ 1 USD, Jan 2013).'},\n",
       " {'offsetInBeginSection': 433,\n",
       "  'offsetInEndSection': 565,\n",
       "  'text': 'RESULTS: Ferric carboxymaltose was associated with cost savings of 30-44 % per patient per treatment cycle compared to iron sucrose.'},\n",
       " {'offsetInBeginSection': 566,\n",
       "  'offsetInEndSection': 706,\n",
       "  'text': 'Costs per 200/500/1,000 mg total dosage treatment cycle were CHF 101/210/420 for ferric carboxymaltose and CHF 144/375/721 for iron sucrose.'},\n",
       " {'offsetInBeginSection': 707,\n",
       "  'offsetInEndSection': 788,\n",
       "  'text': 'This results in cost savings of CHF 22-31 million across all indications in 2009.'},\n",
       " {'offsetInBeginSection': 885,\n",
       "  'offsetInEndSection': 1048,\n",
       "  'text': 'Sensitivity analyses confirmed these cost savings, even for the higher application costs of ferric carboxymaltose, with minimum savings of CHF 17 million per year.'},\n",
       " {'offsetInBeginSection': 1048,\n",
       "  'offsetInEndSection': 1207,\n",
       "  'text': 'CONCLUSIONS: Treating iron deficiency involves substantial costs to the Swiss MHI which may be reduced by substituting iron sucrose with ferric carboxymaltose.'},\n",
       " {'offsetInBeginSection': 1208,\n",
       "  'offsetInEndSection': 1360,\n",
       "  'text': 'The use of real-life data raises methodological questions about the fundamental compatibility of this data with the conceptual framework of BI analysis.'}]"
      ]
     },
     "execution_count": 492,
     "metadata": {},
     "output_type": "execute_result"
    }
   ],
   "source": [
    "abst"
   ]
  },
  {
   "cell_type": "code",
   "execution_count": 93,
   "metadata": {},
   "outputs": [],
   "source": [
    "def get_qa_false_hard(gold, pairs, n, min_threshold, max_threshold=0.9):\n",
    "    '''Get n false-easy snippets from a true (gold) QA object.'''\n",
    "    original_n = n\n",
    "    \n",
    "    print(\"GOLD SENTENCE:\\n\\n\" + gold['passage'] + \"\\n\\n\")\n",
    "    print(\"FALSE HARD SENTENCES:\\n\")\n",
    "    \n",
    "    false_hard = set()\n",
    "    pairs_to_check = np.arange(len(pairs))\n",
    "    check = []\n",
    "    while n > 0 and len(pairs_to_check) > 0:\n",
    "        check_idx = np.random.randint(len(pairs_to_check))\n",
    "        idx = pairs_to_check[check_idx]\n",
    "        check.append(idx)\n",
    "        pairs_to_check = np.delete(pairs_to_check, check_idx)\n",
    "        rand_pair = pairs[idx]\n",
    "            \n",
    "        gold_sent = gold['passage']\n",
    "        rand_sent = rand_pair['passage']\n",
    "\n",
    "        s = abs(similarity(gold_sent, rand_sent))\n",
    "\n",
    "        if s > min_threshold and s < max_threshold and rand_sent not in false_hard:\n",
    "            print(f\"{original_n - n + 1}. ({s}) [{rand_pair['id'].split('-')[1]} {idx}]\\n'{rand_sent}'\\n\")\n",
    "            false_hard.add(rand_sent)\n",
    "            n -= 1\n",
    "    \n",
    "    if len(pairs_to_check) == 0:\n",
    "        print(\"Searching list was exhausted.\")\n",
    "        \n",
    "    return list(false_hard)"
   ]
  },
  {
   "cell_type": "code",
   "execution_count": 96,
   "metadata": {},
   "outputs": [
    {
     "name": "stdout",
     "output_type": "stream",
     "text": [
      "GOLD SENTENCE:\n",
      "\n",
      "Muenke syndrome is characterized by coronal craniosynostosis (bilateral more often than unilateral), hearing loss, developmental delay, and carpal and/or tarsal bone coalition. Tarsal coalition is a distinct feature of Muenke syndrome and has been reported since the initial description of the disorder in the 1990s. \n",
      "\n",
      "\n",
      "FALSE HARD SENTENCES:\n",
      "\n",
      "1. (0.12385855135789026) [23116225 213]\n",
      "'This review provides an overview of the efficacy and safety of antihypertensive therapy based on olmesartan medoxomil ± hydrochlorothiazide and amlodipine/olmesartan medoxomil in high-risk patient populations enrolled in studies that reported ambulatory BP endpoints'\n",
      "\n",
      "2. (0.10649297232912369) [23044018 24]\n",
      "'Muenke syndrome is an autosomal-dominant craniosynostosis syndrome characterized by unilateral or bilateral coronal craniosynostosis, hearing loss, intellectual disability, and relatively subtle limb findings such as carpal bone fusion and tarsal bone fusion'\n",
      "\n",
      "Searching list was exhausted.\n"
     ]
    }
   ],
   "source": [
    "false_hard = get_qa_false_hard(true_pairs[0], true_pairs, 5, min_threshold=0.1)"
   ]
  },
  {
   "cell_type": "markdown",
   "metadata": {},
   "source": [
    "### 2. Negative Easy Pairs"
   ]
  },
  {
   "cell_type": "code",
   "execution_count": 13,
   "metadata": {},
   "outputs": [],
   "source": [
    "def get_qa_false_easy(gold, n, threshold=0.01):\n",
    "    global positive_pairs\n",
    "    '''Get n false-easy snippets from a true (gold) QA object.'''\n",
    "    original_n = n\n",
    "    \n",
    "    gold_sent = gold['passage']\n",
    "    \n",
    "    print(\"GOLD SENTENCE:\\n\\n\" + gold_sent + \"\\n\\n\")\n",
    "    print(\"FALSE EASY SENTENCES:\\n\")\n",
    "    false_easy = set()\n",
    "    \n",
    "    while n > 0:\n",
    "        rand_pair = true_pairs[np.random.randint(len(true_pairs))]\n",
    "        \n",
    "        if rand_pair['questionId'] != gold['questionId']:\n",
    "            gold_sent = gold['passage']\n",
    "            rand_sent = rand_pair['passage']\n",
    "            \n",
    "            s = abs(similarity(gold_sent, rand_sent))\n",
    "            \n",
    "            if s < threshold and rand_sent not in false_easy:\n",
    "                print(f\"{original_n - n + 1}. ({s})\\n'{rand_sent}'\\n\")\n",
    "                false_easy.add(rand_sent)\n",
    "                n -= 1\n",
    "                \n",
    "    return list(false_easy)"
   ]
  },
  {
   "cell_type": "code",
   "execution_count": 14,
   "metadata": {},
   "outputs": [
    {
     "name": "stdout",
     "output_type": "stream",
     "text": [
      "GOLD SENTENCE:\n",
      "\n",
      "Muenke syndrome is characterized by coronal craniosynostosis (bilateral more often than unilateral), hearing loss, developmental delay, and carpal and/or tarsal bone coalition. Tarsal coalition is a distinct feature of Muenke syndrome and has been reported since the initial description of the disorder in the 1990s. \n",
      "\n",
      "\n",
      "FALSE EASY SENTENCES:\n",
      "\n",
      "1. (0.018803117087473176)\n",
      "'Influence of the human cohesion establishment factor Ctf4/AND-1 on DNA replication.'\n",
      "\n",
      "2. (0.012641665898401433)\n",
      "'is study determined the effect of nonsteroidal anti-inflammatory drug (NSAID) administration on blood pressure in hypertensive patients taking hydrochlorothiazide (HCTZ). '\n",
      "\n",
      "3. (0.018683252230306535)\n",
      "'Using cell viability and fluorescent activated cell sorting analysis tests, we demonstrated that captopril inhibited the viability of LNM35 cells by inducing apoptosis, providing insight about the mechanisms underlying its antitumorigenic activities. In view of these experimental findings, we conclude that captopril could be a promising option for the treatment of lung cancer.'\n",
      "\n",
      "4. (0.005440061576665878)\n",
      "'Li-Fraumeni syndrome (LFS) is a highly penetrant, autosomal dominant, human familial cancer predisposition'\n",
      "\n",
      "5. (0.013010956892361536)\n",
      "'Here we show that SCF(Dia2) associates with the replisome progression complex (RPC) that assembles around the MCM2-7 helicase at DNA replication forks [6].'\n",
      "\n"
     ]
    }
   ],
   "source": [
    "false_easy = get_qa_false_easy(true_pairs[0], 5, threshold=0.02)"
   ]
  }
 ],
 "metadata": {
  "kernelspec": {
   "display_name": "Python 3",
   "language": "python",
   "name": "python3"
  },
  "language_info": {
   "codemirror_mode": {
    "name": "ipython",
    "version": 3
   },
   "file_extension": ".py",
   "mimetype": "text/x-python",
   "name": "python",
   "nbconvert_exporter": "python",
   "pygments_lexer": "ipython3",
   "version": "3.7.6"
  }
 },
 "nbformat": 4,
 "nbformat_minor": 4
}
